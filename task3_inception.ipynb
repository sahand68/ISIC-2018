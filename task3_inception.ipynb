{
 "cells": [
  {
   "cell_type": "code",
   "execution_count": 1,
   "metadata": {},
   "outputs": [
    {
     "name": "stderr",
     "output_type": "stream",
     "text": [
      "Using TensorFlow backend.\n",
      "C:\\Users\\sahan\\Anaconda3\\lib\\site-packages\\sklearn\\ensemble\\weight_boosting.py:29: DeprecationWarning: numpy.core.umath_tests is an internal NumPy module and should not be imported. It will be removed in a future NumPy release.\n",
      "  from numpy.core.umath_tests import inner1d\n"
     ]
    }
   ],
   "source": [
    "from keras.models import Sequential\n",
    "\n",
    "import cv2 \n",
    "from keras_preprocessing.image import ImageDataGenerator\n",
    "from keras.layers import Dense, Activation, Flatten, Dropout, BatchNormalization\n",
    "from keras.layers import Conv2D, MaxPooling2D\n",
    "from keras import regularizers, optimizers\n",
    "import pandas as pd\n",
    "import numpy as np\n",
    "from sklearn.metrics import confusion_matrix, f1_score, auc, roc_curve\n",
    "from sklearn.ensemble import RandomForestClassifier\n",
    "from sklearn.svm import SVC\n",
    "from joblib import Parallel, delayed\n",
    "import multiprocessing\n",
    "import copy\n",
    "from keras import optimizers\n",
    "from keras.optimizers import RMSprop, Adam\n",
    "from keras.callbacks import ModelCheckpoint\n",
    "from keras.callbacks import ReduceLROnPlateau, TensorBoard, EarlyStopping \n",
    "from keras.applications import InceptionResNetV2\n",
    "from keras import layers\n",
    "from keras import models\n",
    "from tqdm import tqdm_notebook as tqdm\n",
    "from itertools import chain\n",
    "from skimage.io import imread, imshow, imread_collection, concatenate_images\n",
    "from skimage.transform import resize\n",
    "from skimage.morphology import label\n",
    "from keras.layers.normalization import BatchNormalization\n",
    "from keras.models import Model, load_model\n",
    "from keras.layers import Input\n",
    "from keras.layers.core import Dropout, Lambda\n",
    "from keras.layers.convolutional import Conv2D, Conv2DTranspose, UpSampling2D\n",
    "from keras.layers.pooling import MaxPooling2D\n",
    "from keras.layers.merge import concatenate\n",
    "from keras.preprocessing.image import ImageDataGenerator\n",
    "from keras import backend as K\n",
    "import os\n",
    "import matplotlib\n",
    "import matplotlib.pyplot as plt\n",
    "\n",
    "import scipy.misc\n"
   ]
  },
  {
   "cell_type": "code",
   "execution_count": 2,
   "metadata": {},
   "outputs": [
    {
     "name": "stdout",
     "output_type": "stream",
     "text": [
      "WARNING:tensorflow:From C:\\Users\\sahan\\Anaconda3\\lib\\site-packages\\tensorflow\\python\\framework\\op_def_library.py:263: colocate_with (from tensorflow.python.framework.ops) is deprecated and will be removed in a future version.\n",
      "Instructions for updating:\n",
      "Colocations handled automatically by placer.\n",
      "WARNING:tensorflow:From C:\\Users\\sahan\\Anaconda3\\lib\\site-packages\\keras\\backend\\tensorflow_backend.py:3445: calling dropout (from tensorflow.python.ops.nn_ops) with keep_prob is deprecated and will be removed in a future version.\n",
      "Instructions for updating:\n",
      "Please use `rate` instead of `keep_prob`. Rate should be set to `rate = 1 - keep_prob`.\n",
      "WARNING:tensorflow:From C:\\Users\\sahan\\Anaconda3\\lib\\site-packages\\tensorflow\\python\\ops\\math_ops.py:3066: to_int32 (from tensorflow.python.ops.math_ops) is deprecated and will be removed in a future version.\n",
      "Instructions for updating:\n",
      "Use tf.cast instead.\n"
     ]
    }
   ],
   "source": [
    "\n",
    "\n",
    "def jaccard(y_true, y_pred, smooth=1.):\n",
    "    y_true = K.flatten(y_true)\n",
    "    y_pred = K.flatten(y_pred)\n",
    "    intersection = K.sum(y_true * y_pred)\n",
    "    sum_ = K.sum(y_true) + K.sum(y_pred)\n",
    "    jac = (intersection + smooth) / (sum_ - intersection + smooth)\n",
    "    return jac\n",
    "\n",
    "def lossfunc(y_true, y_pred):\n",
    "    return - 1 * jaccard(y_true, y_pred)\n",
    "    # return - 0.7 * jaccard(y_true, y_pred) - 0.3 * dice(y_true, y_pred)\n",
    "\n",
    "\n",
    "def unet(IMG_WIDTH=128,IMG_HEIGHT=128,IMG_CHANNELS=3):\n",
    "    inputs = Input((IMG_HEIGHT, IMG_WIDTH, IMG_CHANNELS))\n",
    "    s = Lambda(lambda x: x / 255) (inputs)\n",
    "    conv1 = Conv2D(64, 3, activation='relu', padding='same')(inputs)\n",
    "    conv1 = BatchNormalization(axis=3)(conv1)\n",
    "    conv1 = Conv2D(64, 3, activation='relu', padding='same')(conv1)\n",
    "    conv1 = BatchNormalization(axis=3)(conv1)\n",
    "    pool1 = MaxPooling2D(pool_size=(2, 2))(conv1)\n",
    "    \n",
    "    conv2 = Conv2D(128, 3, activation='relu', padding='same')(pool1)\n",
    "    conv2 = BatchNormalization(axis=3)(conv2)\n",
    "    conv2 = Conv2D(128, 3, activation='relu', padding='same')(conv2)\n",
    "    conv2 = BatchNormalization(axis=3)(conv2)\n",
    "    pool2 = MaxPooling2D(pool_size=(2, 2))(conv2)\n",
    "    \n",
    "    conv3 = Conv2D(256, 3, activation='relu', padding='same')(pool2)\n",
    "    conv3 = BatchNormalization(axis=3)(conv3)\n",
    "    conv3 = Conv2D(256, 3, activation='relu', padding='same')(conv3)\n",
    "    conv3 = BatchNormalization(axis=3)(conv3)\n",
    "    pool3 = MaxPooling2D(pool_size=(2, 2))(conv3) \n",
    "    \n",
    "    conv4 = Conv2D(512, 3, activation='relu', padding='same')(pool3)\n",
    "    conv4 = BatchNormalization(axis=3)(conv4)\n",
    "    conv4 = Conv2D(512, 3, activation='relu', padding='same')(conv4)\n",
    "    conv4 = BatchNormalization(axis=3)(conv4)\n",
    "    pool4 = MaxPooling2D(pool_size=(2, 2))(Dropout(0.2)(conv4))\n",
    "    \n",
    "    conv5 = Conv2D(1024, 3, activation='relu', padding='same')(pool4)\n",
    "    conv5 = BatchNormalization(axis=3)(conv5)\n",
    "    conv5 = Conv2D(1024, 3, activation='relu', padding='same')(conv5)\n",
    "    conv5 = BatchNormalization(axis=3)(conv5)\n",
    "    \n",
    "    middle = Dropout(0.2)(conv5)\n",
    "    \n",
    "\n",
    "    up6 = Conv2D(512, 2, activation='relu', padding='same')(UpSampling2D()(middle)) \n",
    "    up6 = BatchNormalization(axis=3)(up6) \n",
    "    concat6 = concatenate([conv4, up6])\n",
    "    conv6 = Conv2D(512, 3, activation='relu', padding='same')(concat6)\n",
    "    conv6 = BatchNormalization(axis=3)(conv6)\n",
    "    conv6 = Conv2D(512, 3, activation='relu', padding='same')(conv6)\n",
    "    conv6 = BatchNormalization(axis=3)(conv6)\n",
    "   \n",
    "   \n",
    "    \n",
    "    up7 = Conv2D(256, 2, activation='relu', padding='same')(UpSampling2D()(conv6))\n",
    "    up7 = BatchNormalization(axis=3)(up7)\n",
    "    concat7 = concatenate([conv3, up7])\n",
    "    conv7 = Conv2D(256, 3, activation='relu', padding='same')(concat7)\n",
    "    conv7 = BatchNormalization(axis=3)(conv7)\n",
    "    conv7 = Conv2D(256, 3, activation='relu', padding='same')(conv7)\n",
    "    conv7 = BatchNormalization(axis=3)(conv7)\n",
    "\n",
    "    \n",
    "    \n",
    "    up8 = Conv2D(128, 2, activation='relu', padding='same')(UpSampling2D()(conv7)) \n",
    "    up8 = BatchNormalization(axis=3)(up8)\n",
    "    concat8 = concatenate([conv2, up8])\n",
    "    conv8 = Conv2D(128, 3, activation='relu', padding='same')(concat8)\n",
    "    conv8 = BatchNormalization(axis=3)(conv8)\n",
    "    conv8 = Conv2D(128, 3, activation='relu', padding='same')(conv8)\n",
    "    conv8 = BatchNormalization(axis=3)(conv8)\n",
    "\n",
    "    \n",
    "    \n",
    "    up9 = Conv2D(64, 2, activation='relu', padding='same')(UpSampling2D()(conv8)) \n",
    "    up9 = BatchNormalization(axis=3)(up9)\n",
    "    concat9 = concatenate([conv1, up9])\n",
    "    conv9 = Conv2D(64, 3, activation='relu', padding='same')(concat9)\n",
    "    conv9 = BatchNormalization(axis=3)(conv9)\n",
    "    conv9 = Conv2D(64, 3, activation='relu', padding='same')(conv9)\n",
    "    conv9 = BatchNormalization(axis=3)(conv9)\n",
    "\n",
    "    \n",
    "    conv10 = Conv2D(1, 1, activation='sigmoid', padding='same')(conv9)\n",
    "    \n",
    "    model = Model(inputs=[inputs], outputs=[conv10])\n",
    "    \n",
    "    model.compile(optimizer=Adam(lr=0.0001, beta_1=0.9, beta_2=0.999, epsilon=None, decay=0.0, amsgrad=True),loss='categorical_crossentropy', metrics=[jaccard])\n",
    "\n",
    "    return model\n",
    "\n",
    "semgmodel = unet()\n",
    "\n",
    "\n",
    "semgmodel = load_model('test1.h5', custom_objects={'jaccard': jaccard})\n"
   ]
  },
  {
   "cell_type": "code",
   "execution_count": 18,
   "metadata": {},
   "outputs": [
    {
     "data": {
      "application/vnd.jupyter.widget-view+json": {
       "model_id": "3dd132a84e05430f95dd8e56dd5b687e",
       "version_major": 2,
       "version_minor": 0
      },
      "text/plain": [
       "HBox(children=(IntProgress(value=0, max=10015), HTML(value='')))"
      ]
     },
     "metadata": {},
     "output_type": "display_data"
    },
    {
     "name": "stdout",
     "output_type": "stream",
     "text": [
      "\n"
     ]
    }
   ],
   "source": [
    "image_ids = next(os.walk('data_task3/image/test_128/'))[2]\n",
    "\n",
    "X_train = np.zeros((len(image_ids), 128, 128,3), dtype=np.float32)\n",
    "\n",
    "for n, id_ in tqdm(enumerate(image_ids), total=len(image_ids)):\n",
    "    path ='data_task3/image/test_128/'\n",
    "    img = cv2.imread(path + id_)\n",
    "    X_train[n] = img"
   ]
  },
  {
   "cell_type": "code",
   "execution_count": 19,
   "metadata": {},
   "outputs": [
    {
     "name": "stdout",
     "output_type": "stream",
     "text": [
      "10015/10015 [==============================] - ETA: 31 - ETA: 30 - ETA: 29 - ETA: 28 - ETA: 28 - ETA: 27 - ETA: 27 - ETA: 26 - ETA: 26 - ETA: 26 - ETA: 26 - ETA: 26 - ETA: 26 - ETA: 25 - ETA: 25 - ETA: 25 - ETA: 25 - ETA: 25 - ETA: 25 - ETA: 25 - ETA: 25 - ETA: 25 - ETA: 24 - ETA: 24 - ETA: 24 - ETA: 24 - ETA: 24 - ETA: 24 - ETA: 24 - ETA: 24 - ETA: 24 - ETA: 24 - ETA: 24 - ETA: 24 - ETA: 24 - ETA: 24 - ETA: 24 - ETA: 23 - ETA: 23 - ETA: 23 - ETA: 23 - ETA: 23 - ETA: 23 - ETA: 23 - ETA: 23 - ETA: 23 - ETA: 23 - ETA: 22 - ETA: 22 - ETA: 22 - ETA: 22 - ETA: 22 - ETA: 22 - ETA: 22 - ETA: 22 - ETA: 22 - ETA: 22 - ETA: 22 - ETA: 21 - ETA: 21 - ETA: 21 - ETA: 21 - ETA: 21 - ETA: 21 - ETA: 21 - ETA: 21 - ETA: 21 - ETA: 21 - ETA: 20 - ETA: 20 - ETA: 20 - ETA: 20 - ETA: 20 - ETA: 20 - ETA: 20 - ETA: 20 - ETA: 20 - ETA: 20 - ETA: 20 - ETA: 19 - ETA: 19 - ETA: 19 - ETA: 19 - ETA: 19 - ETA: 19 - ETA: 19 - ETA: 19 - ETA: 19 - ETA: 19 - ETA: 19 - ETA: 19 - ETA: 18 - ETA: 18 - ETA: 18 - ETA: 18 - ETA: 18 - ETA: 18 - ETA: 18 - ETA: 18 - ETA: 18 - ETA: 18 - ETA: 18 - ETA: 17 - ETA: 17 - ETA: 17 - ETA: 17 - ETA: 17 - ETA: 17 - ETA: 17 - ETA: 17 - ETA: 17 - ETA: 17 - ETA: 17 - ETA: 17 - ETA: 16 - ETA: 16 - ETA: 16 - ETA: 16 - ETA: 16 - ETA: 16 - ETA: 16 - ETA: 16 - ETA: 16 - ETA: 16 - ETA: 16 - ETA: 15 - ETA: 15 - ETA: 15 - ETA: 15 - ETA: 15 - ETA: 15 - ETA: 15 - ETA: 15 - ETA: 15 - ETA: 15 - ETA: 15 - ETA: 15 - ETA: 14 - ETA: 14 - ETA: 14 - ETA: 14 - ETA: 14 - ETA: 14 - ETA: 14 - ETA: 14 - ETA: 14 - ETA: 14 - ETA: 14 - ETA: 14 - ETA: 13 - ETA: 13 - ETA: 13 - ETA: 13 - ETA: 13 - ETA: 13 - ETA: 13 - ETA: 13 - ETA: 13 - ETA: 13 - ETA: 13 - ETA: 12 - ETA: 12 - ETA: 12 - ETA: 12 - ETA: 12 - ETA: 12 - ETA: 12 - ETA: 12 - ETA: 12 - ETA: 12 - ETA: 12 - ETA: 12 - ETA: 11 - ETA: 11 - ETA: 11 - ETA: 11 - ETA: 11 - ETA: 11 - ETA: 11 - ETA: 11 - ETA: 11 - ETA: 11 - ETA: 11 - ETA: 11 - ETA: 10 - ETA: 10 - ETA: 10 - ETA: 10 - ETA: 10 - ETA: 10 - ETA: 10 - ETA: 10 - ETA: 10 - ETA: 10 - ETA: 10 - ETA: 9 - ETA:  - ETA:  - ETA:  - ETA:  - ETA:  - ETA:  - ETA:  - ETA:  - ETA:  - ETA:  - ETA:  - ETA:  - ETA:  - ETA:  - ETA:  - ETA:  - ETA:  - ETA:  - ETA:  - ETA:  - ETA:  - ETA:  - ETA:  - ETA:  - ETA:  - ETA:  - ETA:  - ETA:  - ETA:  - ETA:  - ETA:  - ETA:  - ETA:  - ETA:  - ETA:  - ETA:  - ETA:  - ETA:  - ETA:  - ETA:  - ETA:  - ETA:  - ETA:  - ETA:  - ETA:  - ETA:  - ETA:  - ETA:  - ETA:  - ETA:  - ETA:  - ETA:  - ETA:  - ETA:  - ETA:  - ETA:  - ETA:  - ETA:  - ETA:  - ETA:  - ETA:  - ETA:  - ETA:  - ETA:  - ETA:  - ETA:  - ETA:  - ETA:  - ETA:  - ETA:  - ETA:  - ETA:  - ETA:  - ETA:  - ETA:  - ETA:  - ETA:  - ETA:  - ETA:  - ETA:  - ETA:  - ETA:  - ETA:  - ETA:  - ETA:  - ETA:  - ETA:  - ETA:  - ETA:  - ETA:  - ETA:  - ETA:  - ETA:  - ETA:  - ETA:  - ETA:  - ETA:  - ETA:  - ETA:  - ETA:  - ETA:  - ETA:  - ETA:  - ETA:  - ETA:  - ETA:  - ETA:  - ETA:  - ETA:  - ETA:  - ETA:  - ETA:  - ETA:  - ETA:  - ETA:  - ETA:  - 27s 3ms/step\n"
     ]
    }
   ],
   "source": [
    "preds_train = (semgmodel.predict(X_train, verbose=1)*255).astype(np.uint8)\n",
    "\n"
   ]
  },
  {
   "cell_type": "code",
   "execution_count": 38,
   "metadata": {
    "scrolled": true
   },
   "outputs": [
    {
     "name": "stdout",
     "output_type": "stream",
     "text": [
      "16384\n",
      "[[0 0 0 ... 1 2 2]\n",
      " [0 0 0 ... 0 0 0]\n",
      " [0 0 0 ... 0 0 1]\n",
      " ...\n",
      " [2 1 0 ... 0 0 0]\n",
      " [2 1 0 ... 0 0 1]\n",
      " [3 2 1 ... 0 1 2]]\n"
     ]
    },
    {
     "data": {
      "image/png": "[encoded data removed]",
      "text/plain": [
       "<Figure size 432x288 with 1 Axes>"
      ]
     },
     "metadata": {},
     "output_type": "display_data"
    }
   ],
   "source": [
    "seg = preds_train\n",
    "x = np.squeeze(preds_train[1])\n",
    "print(x.size)\n",
    "print(np.squeeze(preds_train[1]))\n",
    "imshow(np.squeeze(preds_train[1]))\n",
    "plt.show()"
   ]
  },
  {
   "cell_type": "code",
   "execution_count": 39,
   "metadata": {},
   "outputs": [
    {
     "data": {
      "text/plain": [
       "'ISIC_0024307.jpg'"
      ]
     },
     "execution_count": 39,
     "metadata": {},
     "output_type": "execute_result"
    }
   ],
   "source": [
    "image_ids[1]"
   ]
  },
  {
   "cell_type": "code",
   "execution_count": 43,
   "metadata": {},
   "outputs": [
    {
     "name": "stderr",
     "output_type": "stream",
     "text": [
      "C:\\Users\\sahan\\Anaconda3\\lib\\site-packages\\ipykernel\\__main__.py:3: DeprecationWarning: `imresize` is deprecated!\n",
      "`imresize` is deprecated in SciPy 1.0.0, and will be removed in 1.2.0.\n",
      "Use ``skimage.transform.resize`` instead.\n",
      "  app.launch_new_instance()\n",
      "C:\\Users\\sahan\\Anaconda3\\lib\\site-packages\\ipykernel\\__main__.py:4: DeprecationWarning: `imsave` is deprecated!\n",
      "`imsave` is deprecated in SciPy 1.0.0, and will be removed in 1.2.0.\n",
      "Use ``imageio.imwrite`` instead.\n"
     ]
    }
   ],
   "source": [
    "for i in range(len(image_ids)):\n",
    "    x = np.squeeze(seg[i])\n",
    "    array= scipy.misc.imresize(x, size =(299,299), interp= 'bicubic', mode=None)\n",
    "    scipy.misc.imsave('data_task3/image/seg_299/'+image_ids[i], array)"
   ]
  },
  {
   "cell_type": "code",
   "execution_count": 2,
   "metadata": {},
   "outputs": [
    {
     "data": {
      "text/html": [
       "<div>\n",
       "<style scoped>\n",
       "    .dataframe tbody tr th:only-of-type {\n",
       "        vertical-align: middle;\n",
       "    }\n",
       "\n",
       "    .dataframe tbody tr th {\n",
       "        vertical-align: top;\n",
       "    }\n",
       "\n",
       "    .dataframe thead th {\n",
       "        text-align: right;\n",
       "    }\n",
       "</style>\n",
       "<table border=\"1\" class=\"dataframe\">\n",
       "  <thead>\n",
       "    <tr style=\"text-align: right;\">\n",
       "      <th></th>\n",
       "      <th>image</th>\n",
       "      <th>MEL</th>\n",
       "      <th>NV</th>\n",
       "      <th>BCC</th>\n",
       "      <th>AKIEC</th>\n",
       "      <th>BKL</th>\n",
       "      <th>DF</th>\n",
       "      <th>VASC</th>\n",
       "    </tr>\n",
       "  </thead>\n",
       "  <tbody>\n",
       "    <tr>\n",
       "      <th>0</th>\n",
       "      <td>ISIC_0024306.jpg</td>\n",
       "      <td>0.0</td>\n",
       "      <td>1.0</td>\n",
       "      <td>0.0</td>\n",
       "      <td>0.0</td>\n",
       "      <td>0.0</td>\n",
       "      <td>0.0</td>\n",
       "      <td>0.0</td>\n",
       "    </tr>\n",
       "    <tr>\n",
       "      <th>1</th>\n",
       "      <td>ISIC_0024307.jpg</td>\n",
       "      <td>0.0</td>\n",
       "      <td>1.0</td>\n",
       "      <td>0.0</td>\n",
       "      <td>0.0</td>\n",
       "      <td>0.0</td>\n",
       "      <td>0.0</td>\n",
       "      <td>0.0</td>\n",
       "    </tr>\n",
       "    <tr>\n",
       "      <th>2</th>\n",
       "      <td>ISIC_0024308.jpg</td>\n",
       "      <td>0.0</td>\n",
       "      <td>1.0</td>\n",
       "      <td>0.0</td>\n",
       "      <td>0.0</td>\n",
       "      <td>0.0</td>\n",
       "      <td>0.0</td>\n",
       "      <td>0.0</td>\n",
       "    </tr>\n",
       "    <tr>\n",
       "      <th>3</th>\n",
       "      <td>ISIC_0024309.jpg</td>\n",
       "      <td>0.0</td>\n",
       "      <td>1.0</td>\n",
       "      <td>0.0</td>\n",
       "      <td>0.0</td>\n",
       "      <td>0.0</td>\n",
       "      <td>0.0</td>\n",
       "      <td>0.0</td>\n",
       "    </tr>\n",
       "    <tr>\n",
       "      <th>4</th>\n",
       "      <td>ISIC_0024310.jpg</td>\n",
       "      <td>1.0</td>\n",
       "      <td>0.0</td>\n",
       "      <td>0.0</td>\n",
       "      <td>0.0</td>\n",
       "      <td>0.0</td>\n",
       "      <td>0.0</td>\n",
       "      <td>0.0</td>\n",
       "    </tr>\n",
       "  </tbody>\n",
       "</table>\n",
       "</div>"
      ],
      "text/plain": [
       "              image  MEL   NV  BCC  AKIEC  BKL   DF  VASC\n",
       "0  ISIC_0024306.jpg  0.0  1.0  0.0    0.0  0.0  0.0   0.0\n",
       "1  ISIC_0024307.jpg  0.0  1.0  0.0    0.0  0.0  0.0   0.0\n",
       "2  ISIC_0024308.jpg  0.0  1.0  0.0    0.0  0.0  0.0   0.0\n",
       "3  ISIC_0024309.jpg  0.0  1.0  0.0    0.0  0.0  0.0   0.0\n",
       "4  ISIC_0024310.jpg  1.0  0.0  0.0    0.0  0.0  0.0   0.0"
      ]
     },
     "execution_count": 2,
     "metadata": {},
     "output_type": "execute_result"
    }
   ],
   "source": [
    "df = pd.read_csv('data_task3/gt.csv')\n",
    "\n",
    "df['image'] = df['image'].astype(str)+'.jpg'\n",
    "df.head()\n",
    "df.iloc[5,2]\n",
    "df.head()"
   ]
  },
  {
   "cell_type": "code",
   "execution_count": null,
   "metadata": {},
   "outputs": [],
   "source": []
  },
  {
   "cell_type": "code",
   "execution_count": 3,
   "metadata": {},
   "outputs": [
    {
     "data": {
      "text/plain": [
       "10015"
      ]
     },
     "execution_count": 3,
     "metadata": {},
     "output_type": "execute_result"
    }
   ],
   "source": [
    "image_ids = next(os.walk('data_task3/image/test_299/'))[2]\n",
    "len(image_ids)\n"
   ]
  },
  {
   "cell_type": "code",
   "execution_count": 4,
   "metadata": {},
   "outputs": [],
   "source": [
    "indexes = []\n",
    "for i in range(1, 4000):\n",
    "        if df.iloc[i,2 ] == 1:\n",
    "            \n",
    "            os.remove('data_task3/image/test_299/'+df.iloc[i,0])\n",
    "            indexes.append(i)\n"
   ]
  },
  {
   "cell_type": "code",
   "execution_count": 5,
   "metadata": {},
   "outputs": [],
   "source": [
    "for i in indexes:\n",
    "    df= df.drop([i])"
   ]
  },
  {
   "cell_type": "code",
   "execution_count": 6,
   "metadata": {},
   "outputs": [
    {
     "data": {
      "text/plain": [
       "image    ISIC_0024306.jpgISIC_0024310.jpgISIC_0024312.j...\n",
       "MEL                                                   1113\n",
       "NV                                                    3958\n",
       "BCC                                                    514\n",
       "AKIEC                                                  327\n",
       "BKL                                                   1099\n",
       "DF                                                     115\n",
       "VASC                                                   142\n",
       "dtype: object"
      ]
     },
     "execution_count": 6,
     "metadata": {},
     "output_type": "execute_result"
    }
   ],
   "source": [
    "\n",
    "df.sum(axis = 0)\n"
   ]
  },
  {
   "cell_type": "code",
   "execution_count": 7,
   "metadata": {},
   "outputs": [],
   "source": [
    "image_ids = next(os.walk('data_task3/image/test_299/'))[2]\n",
    "len(image_ids)\n",
    "class_weight = {0: 2,\n",
    "                1: 1,\n",
    "                2: 10,\n",
    "               3:12,\n",
    "               4:5,\n",
    "               5:50,\n",
    "               6:40}\n",
    "class_weight2 = {0: 1,\n",
    "                1: 2,\n",
    "                2: 20,\n",
    "               3:31,\n",
    "               4:15,\n",
    "               5:100,\n",
    "               6:100}"
   ]
  },
  {
   "cell_type": "code",
   "execution_count": 8,
   "metadata": {},
   "outputs": [],
   "source": [
    "columns = ['MEL', 'NV', 'BCC','AKIEC', 'BKL', 'DF','VASC']"
   ]
  },
  {
   "cell_type": "code",
   "execution_count": 9,
   "metadata": {},
   "outputs": [],
   "source": [
    "datagen_valid =ImageDataGenerator(rescale =1./255.)"
   ]
  },
  {
   "cell_type": "code",
   "execution_count": 10,
   "metadata": {},
   "outputs": [
    {
     "name": "stdout",
     "output_type": "stream",
     "text": [
      "Found 6500 validated image filenames.\n"
     ]
    }
   ],
   "source": [
    "datagen = ImageDataGenerator(rescale=1./255,\n",
    "        shear_range=0.2,\n",
    "        zoom_range=0.2,\n",
    "        horizontal_flip=True)\n",
    "\n",
    "\n",
    "test_datagen=ImageDataGenerator(rescale=1./255.)\n",
    "\n",
    "\n",
    "train_generator = datagen.flow_from_dataframe(dataframe = df[:6500],\n",
    "                            directory = 'C://Users//sahan//ipthw//Melanoma_segmentation//data_task3//image//test_299', x_col = 'image',\n",
    "                            y_col = columns,seed = 42, shuffle = True, class_mode = 'other',\n",
    "                            target_size = (299, 299))\n"
   ]
  },
  {
   "cell_type": "code",
   "execution_count": 11,
   "metadata": {},
   "outputs": [
    {
     "name": "stdout",
     "output_type": "stream",
     "text": [
      "Found 768 validated image filenames.\n"
     ]
    }
   ],
   "source": [
    "valid_generator=test_datagen.flow_from_dataframe(\n",
    "dataframe=df[6500:],\n",
    "directory='C://Users//sahan//ipthw//Melanoma_segmentation//data_task3//image//test_299',\n",
    "x_col=\"image\",\n",
    "y_col=columns,\n",
    "batch_size=32,\n",
    "seed=42,\n",
    "shuffle=True,\n",
    "class_mode=\"other\",\n",
    "target_size=(299,299))\n",
    "\n"
   ]
  },
  {
   "cell_type": "code",
   "execution_count": 12,
   "metadata": {},
   "outputs": [
    {
     "name": "stdout",
     "output_type": "stream",
     "text": [
      "WARNING:tensorflow:From C:\\Users\\sahan\\Anaconda3\\lib\\site-packages\\tensorflow\\python\\framework\\op_def_library.py:263: colocate_with (from tensorflow.python.framework.ops) is deprecated and will be removed in a future version.\n",
      "Instructions for updating:\n",
      "Colocations handled automatically by placer.\n"
     ]
    }
   ],
   "source": [
    "conv_base = InceptionResNetV2(include_top=False , weights='imagenet',  input_shape=(299,299, 3))\n"
   ]
  },
  {
   "cell_type": "code",
   "execution_count": null,
   "metadata": {},
   "outputs": [],
   "source": []
  },
  {
   "cell_type": "code",
   "execution_count": 16,
   "metadata": {},
   "outputs": [
    {
     "name": "stdout",
     "output_type": "stream",
     "text": [
      "WARNING:tensorflow:From C:\\Users\\sahan\\Anaconda3\\lib\\site-packages\\keras\\backend\\tensorflow_backend.py:3445: calling dropout (from tensorflow.python.ops.nn_ops) with keep_prob is deprecated and will be removed in a future version.\n",
      "Instructions for updating:\n",
      "Please use `rate` instead of `keep_prob`. Rate should be set to `rate = 1 - keep_prob`.\n"
     ]
    }
   ],
   "source": [
    "\n",
    "\n",
    "model = Sequential()\n",
    "model.add(conv_base)\n",
    "model.add(Conv2D(64, 3, activation='relu', padding='same'))\n",
    "model.add(BatchNormalization(axis=3))\n",
    "model.add(Conv2D(64, 3, activation='relu', padding='same'))\n",
    "model.add(BatchNormalization(axis=3))\n",
    "model.add(MaxPooling2D(pool_size=(2, 2)))\n",
    "    \n",
    "model.add(Conv2D(128, 3, activation='relu', padding='same'))\n",
    "model.add(BatchNormalization(axis=3))\n",
    "model.add(Conv2D(128, 3, activation='relu', padding='same'))\n",
    "model.add(BatchNormalization(axis=3))\n",
    "model.add(MaxPooling2D(pool_size=(2, 2)))\n",
    "    \n",
    "model.add(Conv2D(256, 3, activation='relu', padding='same'))\n",
    "model.add(BatchNormalization(axis=3))\n",
    "model.add(Conv2D(256, 3, activation='relu', padding='same'))\n",
    "model.add(BatchNormalization(axis=3))\n",
    "model.add(MaxPooling2D(pool_size=(2, 2)) )\n",
    "    \n",
    "model.add(Conv2D(512, 3, activation='relu', padding='same'))\n",
    "model.add(BatchNormalization(axis=3))\n",
    "model.add(Conv2D(512, 3, activation='relu', padding='same'))\n",
    "model.add(BatchNormalization(axis=3))\n",
    "\n",
    "    \n",
    "model.add(Conv2D(1024, 3, activation='relu', padding='same'))\n",
    "model.add(BatchNormalization(axis=3))\n",
    "model.add(Conv2D(1024, 3, activation='relu', padding='same'))\n",
    "model.add(BatchNormalization(axis=3))\n",
    "\n",
    "\n",
    "\n",
    "model.add(Conv2D(2048, 3, activation='relu', padding='same'))\n",
    "model.add(BatchNormalization(axis=3))\n",
    "model.add(Conv2D(2048, 3, activation='relu', padding='same'))\n",
    "model.add(BatchNormalization(axis=3))\n",
    "\n",
    "\n",
    "    \n",
    "model.add(Flatten())\n",
    "\n",
    "\n",
    "model.add(Dense(4096, activation = 'relu'))\n",
    "model.add(BatchNormalization(axis=-1, momentum=0.99)) \n",
    "model.add(Dropout(0.5))\n",
    "model.add(Dense(4096, activation = 'relu'))\n",
    "model.add(BatchNormalization(axis=-1, momentum=0.99)) \n",
    "\n",
    "\n",
    "\n",
    "model.add(Dense(2048, activation = 'relu'))\n",
    "model.add(BatchNormalization(axis=-1, momentum=0.99)) \n",
    "model.add(Dropout(0.4))\n",
    "model.add(Dense(2048, activation = 'relu'))\n",
    "model.add(BatchNormalization(axis=-1, momentum=0.99)) \n",
    "model.add(Dropout(0.4))\n",
    "\n",
    "model.add(Dense(1024, activation = 'relu'))\n",
    "model.add(BatchNormalization(axis=-1, momentum=0.99)) \n",
    "model.add(Dropout(0.4))\n",
    "model.add(Dense(1024, activation = 'relu'))\n",
    "model.add(BatchNormalization(axis=-1, momentum=0.99)) \n",
    "model.add(Dropout(0.3))\n",
    "\n",
    "model.add(Dense(512, activation = 'relu'))\n",
    "model.add(Dropout(0.3))\n",
    "model.add(Dense(512, activation = 'relu'))\n",
    "model.add(BatchNormalization(axis=-1, momentum=0.99)) \n",
    "model.add(Dropout(0.2))\n",
    "model.add(Dense(256, activation = 'relu'))\n",
    "model.add(Dense(7, activation = 'softmax'))\n"
   ]
  },
  {
   "cell_type": "code",
   "execution_count": 17,
   "metadata": {},
   "outputs": [
    {
     "name": "stdout",
     "output_type": "stream",
     "text": [
      "number trainabke weights before freezing :  570\n"
     ]
    }
   ],
   "source": [
    "print('number trainabke weights before freezing : ', len(model.trainable_weights))"
   ]
  },
  {
   "cell_type": "code",
   "execution_count": 18,
   "metadata": {},
   "outputs": [
    {
     "name": "stdout",
     "output_type": "stream",
     "text": [
      "number trainabke weights after freezing :  82\n"
     ]
    }
   ],
   "source": [
    "conv_base.trainable = False\n",
    "print('number trainabke weights after freezing : ', len(model.trainable_weights))"
   ]
  },
  {
   "cell_type": "code",
   "execution_count": 19,
   "metadata": {},
   "outputs": [],
   "source": [
    "\n",
    "lr_scheduler =ReduceLROnPlateau(monitor='val_loss', factor=0.3,\n",
    "                              patience=2, min_lr=0.00001)\n",
    "early_stopping = EarlyStopping(monitor='val_loss', mode='max', verbose=1, patience=8)\n",
    "checkpoint = ModelCheckpoint('task3_keras_1.h5', monitor  = 'val_acc' , verbose=1, save_best_only=True)\n",
    "tensorboard = TensorBoard(log_dir='data_task3/logs', write_graph=True, write_images=True)"
   ]
  },
  {
   "cell_type": "code",
   "execution_count": 20,
   "metadata": {},
   "outputs": [],
   "source": [
    "model.compile(optimizers.rmsprop(lr=0.01),loss=\"categorical_crossentropy\",metrics=[\"accuracy\"])\n"
   ]
  },
  {
   "cell_type": "code",
   "execution_count": 21,
   "metadata": {},
   "outputs": [],
   "source": [
    "STEP_SIZE_TRAIN=train_generator.n//train_generator.batch_size\n",
    "STEP_SIZE_VALID=valid_generator.n//valid_generator.batch_size\n"
   ]
  },
  {
   "cell_type": "code",
   "execution_count": 22,
   "metadata": {},
   "outputs": [
    {
     "name": "stdout",
     "output_type": "stream",
     "text": [
      "WARNING:tensorflow:From C:\\Users\\sahan\\Anaconda3\\lib\\site-packages\\tensorflow\\python\\ops\\math_ops.py:3066: to_int32 (from tensorflow.python.ops.math_ops) is deprecated and will be removed in a future version.\n",
      "Instructions for updating:\n",
      "Use tf.cast instead.\n",
      "Epoch 1/20\n",
      "203/203 [==============================] - ETA: 29:54 - loss: 0.5769 - acc: 0.82 - ETA: 15:15 - loss: 0.6041 - acc: 0.83 - ETA: 10:22 - loss: 0.7497 - acc: 0.84 - ETA: 7:55 - loss: 0.8471 - acc: 0.8404 - ETA: 6:27 - loss: 1.0799 - acc: 0.822 - ETA: 5:29 - loss: 1.2192 - acc: 0.817 - ETA: 4:47 - loss: 1.2499 - acc: 0.808 - ETA: 4:15 - loss: 1.1954 - acc: 0.815 - ETA: 3:50 - loss: 1.1250 - acc: 0.820 - ETA: 3:31 - loss: 1.0810 - acc: 0.821 - ETA: 3:14 - loss: 1.0514 - acc: 0.822 - ETA: 3:01 - loss: 1.0238 - acc: 0.822 - ETA: 2:49 - loss: 1.0086 - acc: 0.825 - ETA: 2:40 - loss: 0.9761 - acc: 0.826 - ETA: 2:31 - loss: 0.9688 - acc: 0.827 - ETA: 2:23 - loss: 0.9245 - acc: 0.832 - ETA: 2:17 - loss: 0.9087 - acc: 0.834 - ETA: 2:11 - loss: 0.8914 - acc: 0.835 - ETA: 2:05 - loss: 0.8761 - acc: 0.836 - ETA: 2:00 - loss: 0.8579 - acc: 0.838 - ETA: 1:56 - loss: 0.8596 - acc: 0.839 - ETA: 1:52 - loss: 0.8800 - acc: 0.838 - ETA: 1:48 - loss: 0.8791 - acc: 0.838 - ETA: 1:45 - loss: 0.8800 - acc: 0.837 - ETA: 1:42 - loss: 0.8804 - acc: 0.837 - ETA: 1:41 - loss: 0.8691 - acc: 0.838 - ETA: 1:39 - loss: 0.8627 - acc: 0.838 - ETA: 1:37 - loss: 0.8535 - acc: 0.838 - ETA: 1:36 - loss: 0.8365 - acc: 0.839 - ETA: 1:35 - loss: 0.8281 - acc: 0.839 - ETA: 1:33 - loss: 0.8217 - acc: 0.839 - ETA: 1:32 - loss: 0.8167 - acc: 0.840 - ETA: 1:31 - loss: 0.8135 - acc: 0.840 - ETA: 1:30 - loss: 0.8054 - acc: 0.840 - ETA: 1:28 - loss: 0.8021 - acc: 0.840 - ETA: 1:27 - loss: 0.7964 - acc: 0.840 - ETA: 1:26 - loss: 0.7988 - acc: 0.840 - ETA: 1:25 - loss: 0.7939 - acc: 0.840 - ETA: 1:24 - loss: 0.7995 - acc: 0.840 - ETA: 1:23 - loss: 0.8010 - acc: 0.841 - ETA: 1:22 - loss: 0.7983 - acc: 0.842 - ETA: 1:21 - loss: 0.8003 - acc: 0.842 - ETA: 1:20 - loss: 0.7982 - acc: 0.843 - ETA: 1:20 - loss: 0.7967 - acc: 0.843 - ETA: 1:19 - loss: 0.7987 - acc: 0.843 - ETA: 1:18 - loss: 0.7946 - acc: 0.843 - ETA: 1:17 - loss: 0.7926 - acc: 0.843 - ETA: 1:16 - loss: 0.7915 - acc: 0.843 - ETA: 1:15 - loss: 0.7852 - acc: 0.843 - ETA: 1:15 - loss: 0.7871 - acc: 0.843 - ETA: 1:14 - loss: 0.7835 - acc: 0.843 - ETA: 1:13 - loss: 0.7822 - acc: 0.844 - ETA: 1:13 - loss: 0.7797 - acc: 0.844 - ETA: 1:12 - loss: 0.7786 - acc: 0.844 - ETA: 1:11 - loss: 0.7743 - acc: 0.844 - ETA: 1:10 - loss: 0.7804 - acc: 0.845 - ETA: 1:10 - loss: 0.7756 - acc: 0.846 - ETA: 1:09 - loss: 0.7817 - acc: 0.845 - ETA: 1:08 - loss: 0.7777 - acc: 0.845 - ETA: 1:08 - loss: 0.7768 - acc: 0.846 - ETA: 1:07 - loss: 0.7728 - acc: 0.846 - ETA: 1:07 - loss: 0.7710 - acc: 0.847 - ETA: 1:06 - loss: 0.7660 - acc: 0.847 - ETA: 1:05 - loss: 0.7632 - acc: 0.847 - ETA: 1:05 - loss: 0.7616 - acc: 0.847 - ETA: 1:04 - loss: 0.7551 - acc: 0.847 - ETA: 1:03 - loss: 0.7505 - acc: 0.847 - ETA: 1:03 - loss: 0.7456 - acc: 0.848 - ETA: 1:02 - loss: 0.7464 - acc: 0.847 - ETA: 1:02 - loss: 0.7402 - acc: 0.848 - ETA: 1:01 - loss: 0.7362 - acc: 0.848 - ETA: 1:01 - loss: 0.7342 - acc: 0.848 - ETA: 1:00 - loss: 0.7287 - acc: 0.848 - ETA: 59s - loss: 0.7274 - acc: 0.848 - ETA: 59s - loss: 0.7219 - acc: 0.84 - ETA: 58s - loss: 0.7188 - acc: 0.84 - ETA: 58s - loss: 0.7153 - acc: 0.84 - ETA: 57s - loss: 0.7135 - acc: 0.84 - ETA: 57s - loss: 0.7099 - acc: 0.84 - ETA: 56s - loss: 0.7081 - acc: 0.84 - ETA: 56s - loss: 0.7050 - acc: 0.84 - ETA: 55s - loss: 0.6996 - acc: 0.84 - ETA: 55s - loss: 0.6963 - acc: 0.84 - ETA: 54s - loss: 0.6914 - acc: 0.84 - ETA: 54s - loss: 0.6915 - acc: 0.84 - ETA: 53s - loss: 0.6885 - acc: 0.84 - ETA: 53s - loss: 0.6863 - acc: 0.85 - ETA: 52s - loss: 0.6864 - acc: 0.85 - ETA: 52s - loss: 0.6831 - acc: 0.85 - ETA: 51s - loss: 0.6809 - acc: 0.85 - ETA: 50s - loss: 0.6768 - acc: 0.85 - ETA: 50s - loss: 0.6760 - acc: 0.85 - ETA: 49s - loss: 0.6758 - acc: 0.85 - ETA: 49s - loss: 0.6727 - acc: 0.85 - ETA: 48s - loss: 0.6698 - acc: 0.85 - ETA: 48s - loss: 0.6696 - acc: 0.85 - ETA: 47s - loss: 0.6655 - acc: 0.85 - ETA: 47s - loss: 0.6632 - acc: 0.85 - ETA: 46s - loss: 0.6607 - acc: 0.85 - ETA: 46s - loss: 0.6588 - acc: 0.85 - ETA: 45s - loss: 0.6553 - acc: 0.85 - ETA: 45s - loss: 0.6531 - acc: 0.85 - ETA: 44s - loss: 0.6497 - acc: 0.85 - ETA: 44s - loss: 0.6479 - acc: 0.85 - ETA: 43s - loss: 0.6474 - acc: 0.85 - ETA: 43s - loss: 0.6454 - acc: 0.85 - ETA: 42s - loss: 0.6434 - acc: 0.85 - ETA: 42s - loss: 0.6424 - acc: 0.85 - ETA: 41s - loss: 0.6410 - acc: 0.85 - ETA: 41s - loss: 0.6395 - acc: 0.85 - ETA: 41s - loss: 0.6366 - acc: 0.85 - ETA: 40s - loss: 0.6361 - acc: 0.85 - ETA: 40s - loss: 0.6353 - acc: 0.85 - ETA: 39s - loss: 0.6329 - acc: 0.85 - ETA: 39s - loss: 0.6307 - acc: 0.85 - ETA: 38s - loss: 0.6284 - acc: 0.85 - ETA: 38s - loss: 0.6262 - acc: 0.85 - ETA: 37s - loss: 0.6237 - acc: 0.85 - ETA: 37s - loss: 0.6212 - acc: 0.85 - ETA: 36s - loss: 0.6188 - acc: 0.85 - ETA: 36s - loss: 0.6165 - acc: 0.85 - ETA: 35s - loss: 0.6139 - acc: 0.85 - ETA: 35s - loss: 0.6121 - acc: 0.85 - ETA: 34s - loss: 0.6098 - acc: 0.85 - ETA: 34s - loss: 0.6078 - acc: 0.85 - ETA: 33s - loss: 0.6057 - acc: 0.85 - ETA: 33s - loss: 0.6036 - acc: 0.85 - ETA: 33s - loss: 0.6012 - acc: 0.85 - ETA: 32s - loss: 0.5993 - acc: 0.85 - ETA: 32s - loss: 0.5975 - acc: 0.85 - ETA: 31s - loss: 0.5963 - acc: 0.85 - ETA: 31s - loss: 0.5943 - acc: 0.85 - ETA: 30s - loss: 0.5923 - acc: 0.85 - ETA: 30s - loss: 0.5905 - acc: 0.85 - ETA: 29s - loss: 0.5884 - acc: 0.85 - ETA: 29s - loss: 0.5862 - acc: 0.85 - ETA: 28s - loss: 0.5841 - acc: 0.85 - ETA: 28s - loss: 0.5817 - acc: 0.85 - ETA: 28s - loss: 0.5799 - acc: 0.85 - ETA: 27s - loss: 0.5786 - acc: 0.85 - ETA: 27s - loss: 0.5765 - acc: 0.85 - ETA: 26s - loss: 0.5750 - acc: 0.85 - ETA: 26s - loss: 0.5736 - acc: 0.85 - ETA: 25s - loss: 0.5719 - acc: 0.85 - ETA: 25s - loss: 0.5704 - acc: 0.85 - ETA: 24s - loss: 0.5688 - acc: 0.85 - ETA: 24s - loss: 0.5672 - acc: 0.85 - ETA: 24s - loss: 0.5658 - acc: 0.85 - ETA: 23s - loss: 0.5643 - acc: 0.85 - ETA: 23s - loss: 0.5628 - acc: 0.85 - ETA: 22s - loss: 0.5614 - acc: 0.85 - ETA: 22s - loss: 0.5602 - acc: 0.85 - ETA: 21s - loss: 0.5584 - acc: 0.85 - ETA: 21s - loss: 0.5568 - acc: 0.85 - ETA: 20s - loss: 0.5553 - acc: 0.85 - ETA: 20s - loss: 0.5536 - acc: 0.85 - ETA: 20s - loss: 0.5521 - acc: 0.85 - ETA: 19s - loss: 0.5510 - acc: 0.85 - ETA: 19s - loss: 0.5494 - acc: 0.85 - ETA: 18s - loss: 0.5482 - acc: 0.85 - ETA: 18s - loss: 0.5465 - acc: 0.85 - ETA: 17s - loss: 0.5447 - acc: 0.85 - ETA: 17s - loss: 0.5433 - acc: 0.85 - ETA: 16s - loss: 0.5415 - acc: 0.85 - ETA: 16s - loss: 0.5404 - acc: 0.85 - ETA: 16s - loss: 0.5389 - acc: 0.85 - ETA: 15s - loss: 0.5377 - acc: 0.85 - ETA: 15s - loss: 0.5364 - acc: 0.85 - ETA: 14s - loss: 0.5348 - acc: 0.85 - ETA: 14s - loss: 0.5336 - acc: 0.85 - ETA: 13s - loss: 0.5323 - acc: 0.85 - ETA: 13s - loss: 0.5313 - acc: 0.85 - ETA: 12s - loss: 0.5300 - acc: 0.85 - ETA: 12s - loss: 0.5288 - acc: 0.85 - ETA: 12s - loss: 0.5276 - acc: 0.85 - ETA: 11s - loss: 0.5265 - acc: 0.85 - ETA: 11s - loss: 0.5252 - acc: 0.85 - ETA: 10s - loss: 0.5239 - acc: 0.85 - ETA: 10s - loss: 0.5227 - acc: 0.85 - ETA: 9s - loss: 0.5216 - acc: 0.8557 - ETA: 9s - loss: 0.5204 - acc: 0.855 - ETA: 9s - loss: 0.5194 - acc: 0.855 - ETA: 8s - loss: 0.5182 - acc: 0.855 - ETA: 8s - loss: 0.5176 - acc: 0.855 - ETA: 7s - loss: 0.5165 - acc: 0.855 - ETA: 7s - loss: 0.5151 - acc: 0.855 - ETA: 6s - loss: 0.5138 - acc: 0.855 - ETA: 6s - loss: 0.5127 - acc: 0.856 - ETA: 6s - loss: 0.5121 - acc: 0.855 - ETA: 5s - loss: 0.5110 - acc: 0.856 - ETA: 5s - loss: 0.5098 - acc: 0.856 - ETA: 4s - loss: 0.5091 - acc: 0.855 - ETA: 4s - loss: 0.5080 - acc: 0.855 - ETA: 3s - loss: 0.5073 - acc: 0.855 - ETA: 3s - loss: 0.5063 - acc: 0.855 - ETA: 3s - loss: 0.5054 - acc: 0.855 - ETA: 2s - loss: 0.5042 - acc: 0.856 - ETA: 2s - loss: 0.5031 - acc: 0.856 - ETA: 1s - loss: 0.5023 - acc: 0.856 - ETA: 1s - loss: 0.5013 - acc: 0.856 - ETA: 0s - loss: 0.5004 - acc: 0.856 - ETA: 0s - loss: 0.4993 - acc: 0.856 - 94s 461ms/step - loss: 0.4984 - acc: 0.8565 - val_loss: 1.0149 - val_acc: 0.8798\n"
     ]
    },
    {
     "name": "stdout",
     "output_type": "stream",
     "text": [
      "\n",
      "Epoch 00001: val_acc improved from -inf to 0.87984, saving model to task3_keras_1.h5\n",
      "Epoch 2/20\n",
      "203/203 [==============================] - ETA: 3:25 - loss: 0.2868 - acc: 0.857 - ETA: 2:05 - loss: 0.3187 - acc: 0.859 - ETA: 1:38 - loss: 0.3331 - acc: 0.855 - ETA: 1:24 - loss: 0.3395 - acc: 0.856 - ETA: 1:16 - loss: 0.3306 - acc: 0.859 - ETA: 1:11 - loss: 0.3265 - acc: 0.862 - ETA: 1:07 - loss: 0.3322 - acc: 0.861 - ETA: 1:04 - loss: 0.3294 - acc: 0.861 - ETA: 1:01 - loss: 0.3274 - acc: 0.858 - ETA: 59s - loss: 0.3270 - acc: 0.860 - ETA: 57s - loss: 0.3316 - acc: 0.85 - ETA: 56s - loss: 0.3304 - acc: 0.85 - ETA: 55s - loss: 0.3308 - acc: 0.85 - ETA: 54s - loss: 0.3288 - acc: 0.85 - ETA: 53s - loss: 0.3284 - acc: 0.85 - ETA: 52s - loss: 0.3282 - acc: 0.85 - ETA: 51s - loss: 0.3274 - acc: 0.85 - ETA: 50s - loss: 0.3268 - acc: 0.85 - ETA: 49s - loss: 0.3274 - acc: 0.86 - ETA: 49s - loss: 0.3262 - acc: 0.86 - ETA: 48s - loss: 0.3248 - acc: 0.86 - ETA: 48s - loss: 0.3254 - acc: 0.86 - ETA: 47s - loss: 0.3263 - acc: 0.86 - ETA: 46s - loss: 0.3257 - acc: 0.86 - ETA: 47s - loss: 0.3246 - acc: 0.86 - ETA: 48s - loss: 0.3240 - acc: 0.86 - ETA: 49s - loss: 0.3226 - acc: 0.86 - ETA: 49s - loss: 0.3233 - acc: 0.86 - ETA: 50s - loss: 0.3228 - acc: 0.86 - ETA: 50s - loss: 0.3226 - acc: 0.86 - ETA: 50s - loss: 0.3242 - acc: 0.86 - ETA: 51s - loss: 0.3252 - acc: 0.86 - ETA: 51s - loss: 0.3253 - acc: 0.86 - ETA: 51s - loss: 0.3245 - acc: 0.86 - ETA: 51s - loss: 0.3250 - acc: 0.86 - ETA: 52s - loss: 0.3246 - acc: 0.86 - ETA: 52s - loss: 0.3236 - acc: 0.86 - ETA: 52s - loss: 0.3221 - acc: 0.86 - ETA: 52s - loss: 0.3215 - acc: 0.86 - ETA: 52s - loss: 0.3219 - acc: 0.86 - ETA: 52s - loss: 0.3216 - acc: 0.86 - ETA: 52s - loss: 0.3212 - acc: 0.86 - ETA: 52s - loss: 0.3216 - acc: 0.86 - ETA: 52s - loss: 0.3219 - acc: 0.86 - ETA: 52s - loss: 0.3223 - acc: 0.86 - ETA: 52s - loss: 0.3223 - acc: 0.86 - ETA: 52s - loss: 0.3218 - acc: 0.86 - ETA: 52s - loss: 0.3208 - acc: 0.86 - ETA: 52s - loss: 0.3200 - acc: 0.86 - ETA: 52s - loss: 0.3197 - acc: 0.86 - ETA: 51s - loss: 0.3197 - acc: 0.86 - ETA: 51s - loss: 0.3187 - acc: 0.86 - ETA: 51s - loss: 0.3194 - acc: 0.86 - ETA: 51s - loss: 0.3198 - acc: 0.86 - ETA: 51s - loss: 0.3199 - acc: 0.86 - ETA: 51s - loss: 0.3193 - acc: 0.86 - ETA: 50s - loss: 0.3187 - acc: 0.86 - ETA: 50s - loss: 0.3173 - acc: 0.86 - ETA: 50s - loss: 0.3170 - acc: 0.86 - ETA: 50s - loss: 0.3170 - acc: 0.86 - ETA: 50s - loss: 0.3174 - acc: 0.86 - ETA: 50s - loss: 0.3179 - acc: 0.86 - ETA: 49s - loss: 0.3176 - acc: 0.86 - ETA: 49s - loss: 0.3183 - acc: 0.86 - ETA: 49s - loss: 0.3180 - acc: 0.86 - ETA: 49s - loss: 0.3186 - acc: 0.86 - ETA: 49s - loss: 0.3181 - acc: 0.86 - ETA: 48s - loss: 0.3182 - acc: 0.86 - ETA: 48s - loss: 0.3183 - acc: 0.86 - ETA: 48s - loss: 0.3180 - acc: 0.86 - ETA: 47s - loss: 0.3184 - acc: 0.86 - ETA: 47s - loss: 0.3185 - acc: 0.86 - ETA: 47s - loss: 0.3175 - acc: 0.86 - ETA: 47s - loss: 0.3177 - acc: 0.86 - ETA: 46s - loss: 0.3169 - acc: 0.86 - ETA: 46s - loss: 0.3172 - acc: 0.86 - ETA: 46s - loss: 0.3168 - acc: 0.86 - ETA: 45s - loss: 0.3168 - acc: 0.86 - ETA: 45s - loss: 0.3165 - acc: 0.86 - ETA: 45s - loss: 0.3167 - acc: 0.86 - ETA: 44s - loss: 0.3170 - acc: 0.86 - ETA: 44s - loss: 0.3170 - acc: 0.86 - ETA: 44s - loss: 0.3172 - acc: 0.86 - ETA: 44s - loss: 0.3177 - acc: 0.86 - ETA: 43s - loss: 0.3179 - acc: 0.86 - ETA: 43s - loss: 0.3179 - acc: 0.86 - ETA: 43s - loss: 0.3182 - acc: 0.86 - ETA: 42s - loss: 0.3185 - acc: 0.86 - ETA: 42s - loss: 0.3184 - acc: 0.86 - ETA: 42s - loss: 0.3183 - acc: 0.86 - ETA: 41s - loss: 0.3179 - acc: 0.86 - ETA: 41s - loss: 0.3181 - acc: 0.86 - ETA: 41s - loss: 0.3179 - acc: 0.86 - ETA: 40s - loss: 0.3178 - acc: 0.86 - ETA: 40s - loss: 0.3182 - acc: 0.86 - ETA: 40s - loss: 0.3183 - acc: 0.86 - ETA: 39s - loss: 0.3183 - acc: 0.86 - ETA: 39s - loss: 0.3180 - acc: 0.86 - ETA: 39s - loss: 0.3175 - acc: 0.86 - ETA: 39s - loss: 0.3175 - acc: 0.86 - ETA: 38s - loss: 0.3169 - acc: 0.86 - ETA: 38s - loss: 0.3175 - acc: 0.86 - ETA: 38s - loss: 0.3179 - acc: 0.86 - ETA: 38s - loss: 0.3180 - acc: 0.86 - ETA: 37s - loss: 0.3180 - acc: 0.86 - ETA: 37s - loss: 0.3178 - acc: 0.86 - ETA: 36s - loss: 0.3178 - acc: 0.86 - ETA: 36s - loss: 0.3176 - acc: 0.86 - ETA: 36s - loss: 0.3174 - acc: 0.86 - ETA: 35s - loss: 0.3173 - acc: 0.86 - ETA: 35s - loss: 0.3171 - acc: 0.86 - ETA: 35s - loss: 0.3172 - acc: 0.86 - ETA: 34s - loss: 0.3180 - acc: 0.86 - ETA: 34s - loss: 0.3180 - acc: 0.86 - ETA: 34s - loss: 0.3179 - acc: 0.86 - ETA: 33s - loss: 0.3177 - acc: 0.86 - ETA: 33s - loss: 0.3179 - acc: 0.86 - ETA: 33s - loss: 0.3176 - acc: 0.86 - ETA: 32s - loss: 0.3176 - acc: 0.86 - ETA: 32s - loss: 0.3178 - acc: 0.86 - ETA: 31s - loss: 0.3177 - acc: 0.86 - ETA: 31s - loss: 0.3175 - acc: 0.86 - ETA: 31s - loss: 0.3172 - acc: 0.86 - ETA: 30s - loss: 0.3167 - acc: 0.86 - ETA: 30s - loss: 0.3170 - acc: 0.86 - ETA: 30s - loss: 0.3169 - acc: 0.86 - ETA: 29s - loss: 0.3167 - acc: 0.86 - ETA: 29s - loss: 0.3165 - acc: 0.86 - ETA: 28s - loss: 0.3167 - acc: 0.86 - ETA: 28s - loss: 0.3170 - acc: 0.86 - ETA: 28s - loss: 0.3171 - acc: 0.86 - ETA: 27s - loss: 0.3173 - acc: 0.86 - ETA: 27s - loss: 0.3174 - acc: 0.86 - ETA: 27s - loss: 0.3176 - acc: 0.86 - ETA: 26s - loss: 0.3178 - acc: 0.86 - ETA: 26s - loss: 0.3175 - acc: 0.86 - ETA: 26s - loss: 0.3169 - acc: 0.86 - ETA: 25s - loss: 0.3162 - acc: 0.86 - ETA: 25s - loss: 0.3163 - acc: 0.86 - ETA: 24s - loss: 0.3167 - acc: 0.86 - ETA: 24s - loss: 0.3166 - acc: 0.86 - ETA: 24s - loss: 0.3166 - acc: 0.86 - ETA: 23s - loss: 0.3165 - acc: 0.86 - ETA: 23s - loss: 0.3167 - acc: 0.86 - ETA: 23s - loss: 0.3167 - acc: 0.86 - ETA: 22s - loss: 0.3164 - acc: 0.86 - ETA: 22s - loss: 0.3161 - acc: 0.86 - ETA: 21s - loss: 0.3162 - acc: 0.86 - ETA: 21s - loss: 0.3161 - acc: 0.86 - ETA: 21s - loss: 0.3162 - acc: 0.86 - ETA: 20s - loss: 0.3163 - acc: 0.86 - ETA: 20s - loss: 0.3165 - acc: 0.86 - ETA: 19s - loss: 0.3165 - acc: 0.86 - ETA: 19s - loss: 0.3167 - acc: 0.86 - ETA: 19s - loss: 0.3170 - acc: 0.86 - ETA: 18s - loss: 0.3173 - acc: 0.86 - ETA: 18s - loss: 0.3174 - acc: 0.86 - ETA: 18s - loss: 0.3175 - acc: 0.86 - ETA: 17s - loss: 0.3176 - acc: 0.86 - ETA: 17s - loss: 0.3174 - acc: 0.86 - ETA: 16s - loss: 0.3176 - acc: 0.86 - ETA: 16s - loss: 0.3173 - acc: 0.86 - ETA: 16s - loss: 0.3169 - acc: 0.86 - ETA: 15s - loss: 0.3169 - acc: 0.86 - ETA: 15s - loss: 0.3169 - acc: 0.86 - ETA: 14s - loss: 0.3167 - acc: 0.86 - ETA: 14s - loss: 0.3166 - acc: 0.86 - ETA: 14s - loss: 0.3163 - acc: 0.86 - ETA: 13s - loss: 0.3163 - acc: 0.86 - ETA: 13s - loss: 0.3161 - acc: 0.86 - ETA: 12s - loss: 0.3162 - acc: 0.86 - ETA: 12s - loss: 0.3160 - acc: 0.86 - ETA: 12s - loss: 0.3164 - acc: 0.86 - ETA: 11s - loss: 0.3164 - acc: 0.86 - ETA: 11s - loss: 0.3163 - acc: 0.86 - ETA: 10s - loss: 0.3163 - acc: 0.86 - ETA: 10s - loss: 0.3163 - acc: 0.86 - ETA: 10s - loss: 0.3162 - acc: 0.86 - ETA: 9s - loss: 0.3159 - acc: 0.8662 - ETA: 9s - loss: 0.3160 - acc: 0.866 - ETA: 8s - loss: 0.3157 - acc: 0.866 - ETA: 8s - loss: 0.3154 - acc: 0.866 - ETA: 8s - loss: 0.3152 - acc: 0.866 - ETA: 7s - loss: 0.3156 - acc: 0.866 - ETA: 7s - loss: 0.3154 - acc: 0.866 - ETA: 6s - loss: 0.3156 - acc: 0.866 - ETA: 6s - loss: 0.3157 - acc: 0.866 - ETA: 6s - loss: 0.3156 - acc: 0.866 - ETA: 5s - loss: 0.3158 - acc: 0.866 - ETA: 5s - loss: 0.3158 - acc: 0.866 - ETA: 4s - loss: 0.3158 - acc: 0.866 - ETA: 4s - loss: 0.3158 - acc: 0.866 - ETA: 4s - loss: 0.3158 - acc: 0.866 - ETA: 3s - loss: 0.3156 - acc: 0.866 - ETA: 3s - loss: 0.3159 - acc: 0.866 - ETA: 2s - loss: 0.3157 - acc: 0.866 - ETA: 2s - loss: 0.3156 - acc: 0.866 - ETA: 2s - loss: 0.3156 - acc: 0.866 - ETA: 1s - loss: 0.3160 - acc: 0.866 - ETA: 1s - loss: 0.3158 - acc: 0.866 - ETA: 0s - loss: 0.3159 - acc: 0.865 - ETA: 0s - loss: 0.3160 - acc: 0.865 - 86s 426ms/step - loss: 0.3159 - acc: 0.8658 - val_loss: 0.2839 - val_acc: 0.8795\n",
      "\n",
      "Epoch 00002: val_acc did not improve from 0.87984\n",
      "Epoch 3/20\n",
      "203/203 [==============================] - ETA: 46s - loss: 0.3287 - acc: 0.87 - ETA: 35s - loss: 0.2486 - acc: 0.91 - ETA: 38s - loss: 0.2547 - acc: 0.91 - ETA: 40s - loss: 0.2773 - acc: 0.89 - ETA: 41s - loss: 0.2869 - acc: 0.89 - ETA: 42s - loss: 0.2914 - acc: 0.88 - ETA: 42s - loss: 0.2925 - acc: 0.88 - ETA: 42s - loss: 0.2964 - acc: 0.88 - ETA: 42s - loss: 0.3044 - acc: 0.87 - ETA: 42s - loss: 0.3072 - acc: 0.87 - ETA: 42s - loss: 0.3060 - acc: 0.87 - ETA: 42s - loss: 0.3109 - acc: 0.87 - ETA: 42s - loss: 0.3104 - acc: 0.86 - ETA: 42s - loss: 0.3118 - acc: 0.86 - ETA: 42s - loss: 0.3170 - acc: 0.86 - ETA: 41s - loss: 0.3173 - acc: 0.86 - ETA: 41s - loss: 0.3176 - acc: 0.86 - ETA: 41s - loss: 0.3175 - acc: 0.86 - ETA: 41s - loss: 0.3178 - acc: 0.86 - ETA: 41s - loss: 0.3176 - acc: 0.86 - ETA: 43s - loss: 0.3182 - acc: 0.86 - ETA: 44s - loss: 0.3194 - acc: 0.86 - ETA: 45s - loss: 0.3199 - acc: 0.86 - ETA: 46s - loss: 0.3197 - acc: 0.86 - ETA: 47s - loss: 0.3190 - acc: 0.86 - ETA: 47s - loss: 0.3181 - acc: 0.86 - ETA: 48s - loss: 0.3183 - acc: 0.86 - ETA: 49s - loss: 0.3201 - acc: 0.86 - ETA: 49s - loss: 0.3195 - acc: 0.86 - ETA: 50s - loss: 0.3200 - acc: 0.86 - ETA: 50s - loss: 0.3204 - acc: 0.86 - ETA: 50s - loss: 0.3204 - acc: 0.86 - ETA: 51s - loss: 0.3168 - acc: 0.86 - ETA: 51s - loss: 0.3190 - acc: 0.86 - ETA: 51s - loss: 0.3183 - acc: 0.86 - ETA: 52s - loss: 0.3186 - acc: 0.86 - ETA: 52s - loss: 0.3195 - acc: 0.86 - ETA: 52s - loss: 0.3192 - acc: 0.86 - ETA: 52s - loss: 0.3193 - acc: 0.86 - ETA: 52s - loss: 0.3185 - acc: 0.86 - ETA: 52s - loss: 0.3193 - acc: 0.86 - ETA: 52s - loss: 0.3188 - acc: 0.86 - ETA: 52s - loss: 0.3190 - acc: 0.86 - ETA: 52s - loss: 0.3173 - acc: 0.86 - ETA: 52s - loss: 0.3168 - acc: 0.86 - ETA: 52s - loss: 0.3170 - acc: 0.86 - ETA: 52s - loss: 0.3165 - acc: 0.86 - ETA: 52s - loss: 0.3163 - acc: 0.86 - ETA: 52s - loss: 0.3160 - acc: 0.86 - ETA: 52s - loss: 0.3158 - acc: 0.86 - ETA: 52s - loss: 0.3162 - acc: 0.86 - ETA: 52s - loss: 0.3157 - acc: 0.86 - ETA: 51s - loss: 0.3151 - acc: 0.86 - ETA: 51s - loss: 0.3154 - acc: 0.86 - ETA: 51s - loss: 0.3156 - acc: 0.86 - ETA: 51s - loss: 0.3165 - acc: 0.86 - ETA: 51s - loss: 0.3161 - acc: 0.86 - ETA: 50s - loss: 0.3167 - acc: 0.86 - ETA: 50s - loss: 0.3164 - acc: 0.86 - ETA: 50s - loss: 0.3156 - acc: 0.86 - ETA: 50s - loss: 0.3154 - acc: 0.86 - ETA: 50s - loss: 0.3153 - acc: 0.86 - ETA: 49s - loss: 0.3146 - acc: 0.86 - ETA: 49s - loss: 0.3149 - acc: 0.86 - ETA: 49s - loss: 0.3145 - acc: 0.86 - ETA: 49s - loss: 0.3145 - acc: 0.86 - ETA: 48s - loss: 0.3144 - acc: 0.86 - ETA: 48s - loss: 0.3144 - acc: 0.86 - ETA: 48s - loss: 0.3145 - acc: 0.86 - ETA: 48s - loss: 0.3142 - acc: 0.86 - ETA: 47s - loss: 0.3144 - acc: 0.86 - ETA: 47s - loss: 0.3143 - acc: 0.86 - ETA: 47s - loss: 0.3140 - acc: 0.86 - ETA: 47s - loss: 0.3142 - acc: 0.86 - ETA: 46s - loss: 0.3141 - acc: 0.86 - ETA: 46s - loss: 0.3139 - acc: 0.86 - ETA: 46s - loss: 0.3150 - acc: 0.86 - ETA: 45s - loss: 0.3150 - acc: 0.86 - ETA: 45s - loss: 0.3153 - acc: 0.86 - ETA: 45s - loss: 0.3151 - acc: 0.86 - ETA: 45s - loss: 0.3154 - acc: 0.86 - ETA: 44s - loss: 0.3154 - acc: 0.86 - ETA: 44s - loss: 0.3154 - acc: 0.86 - ETA: 44s - loss: 0.3151 - acc: 0.86 - ETA: 43s - loss: 0.3146 - acc: 0.86 - ETA: 43s - loss: 0.3154 - acc: 0.86 - ETA: 43s - loss: 0.3154 - acc: 0.86 - ETA: 42s - loss: 0.3152 - acc: 0.86 - ETA: 42s - loss: 0.3155 - acc: 0.86 - ETA: 42s - loss: 0.3154 - acc: 0.86 - ETA: 42s - loss: 0.3153 - acc: 0.86 - ETA: 41s - loss: 0.3155 - acc: 0.86 - ETA: 41s - loss: 0.3158 - acc: 0.86 - ETA: 41s - loss: 0.3153 - acc: 0.86 - ETA: 40s - loss: 0.3155 - acc: 0.86 - ETA: 40s - loss: 0.3160 - acc: 0.86 - ETA: 40s - loss: 0.3164 - acc: 0.86 - ETA: 39s - loss: 0.3163 - acc: 0.86 - ETA: 39s - loss: 0.3165 - acc: 0.86 - ETA: 38s - loss: 0.3166 - acc: 0.86 - ETA: 38s - loss: 0.3164 - acc: 0.86 - ETA: 38s - loss: 0.3163 - acc: 0.86 - ETA: 37s - loss: 0.3161 - acc: 0.86 - ETA: 37s - loss: 0.3160 - acc: 0.86 - ETA: 37s - loss: 0.3157 - acc: 0.86 - ETA: 36s - loss: 0.3157 - acc: 0.86 - ETA: 36s - loss: 0.3161 - acc: 0.86 - ETA: 36s - loss: 0.3164 - acc: 0.86 - ETA: 35s - loss: 0.3167 - acc: 0.86 - ETA: 35s - loss: 0.3164 - acc: 0.86 - ETA: 35s - loss: 0.3165 - acc: 0.86 - ETA: 34s - loss: 0.3165 - acc: 0.86 - ETA: 34s - loss: 0.3163 - acc: 0.86 - ETA: 34s - loss: 0.3165 - acc: 0.86 - ETA: 33s - loss: 0.3163 - acc: 0.86 - ETA: 33s - loss: 0.3168 - acc: 0.86 - ETA: 33s - loss: 0.3166 - acc: 0.86 - ETA: 32s - loss: 0.3162 - acc: 0.86 - ETA: 32s - loss: 0.3161 - acc: 0.86 - ETA: 31s - loss: 0.3159 - acc: 0.86 - ETA: 31s - loss: 0.3160 - acc: 0.86 - ETA: 31s - loss: 0.3158 - acc: 0.86 - ETA: 30s - loss: 0.3155 - acc: 0.86 - ETA: 30s - loss: 0.3153 - acc: 0.86 - ETA: 30s - loss: 0.3153 - acc: 0.86 - ETA: 29s - loss: 0.3150 - acc: 0.86 - ETA: 29s - loss: 0.3154 - acc: 0.86 - ETA: 29s - loss: 0.3152 - acc: 0.86 - ETA: 28s - loss: 0.3151 - acc: 0.86 - ETA: 28s - loss: 0.3148 - acc: 0.86 - ETA: 27s - loss: 0.3148 - acc: 0.86 - ETA: 27s - loss: 0.3150 - acc: 0.86 - ETA: 27s - loss: 0.3153 - acc: 0.86 - ETA: 26s - loss: 0.3150 - acc: 0.86 - ETA: 26s - loss: 0.3148 - acc: 0.86 - ETA: 26s - loss: 0.3148 - acc: 0.86 - ETA: 25s - loss: 0.3150 - acc: 0.86 - ETA: 25s - loss: 0.3148 - acc: 0.86 - ETA: 24s - loss: 0.3149 - acc: 0.86 - ETA: 24s - loss: 0.3147 - acc: 0.86 - ETA: 24s - loss: 0.3148 - acc: 0.86 - ETA: 23s - loss: 0.3147 - acc: 0.86 - ETA: 23s - loss: 0.3145 - acc: 0.86 - ETA: 23s - loss: 0.3146 - acc: 0.86 - ETA: 22s - loss: 0.3145 - acc: 0.86 - ETA: 22s - loss: 0.3142 - acc: 0.86 - ETA: 21s - loss: 0.3141 - acc: 0.86 - ETA: 21s - loss: 0.3139 - acc: 0.86 - ETA: 21s - loss: 0.3139 - acc: 0.86 - ETA: 20s - loss: 0.3138 - acc: 0.86 - ETA: 20s - loss: 0.3136 - acc: 0.86 - ETA: 19s - loss: 0.3134 - acc: 0.86 - ETA: 19s - loss: 0.3138 - acc: 0.86 - ETA: 19s - loss: 0.3136 - acc: 0.86 - ETA: 18s - loss: 0.3136 - acc: 0.86 - ETA: 18s - loss: 0.3135 - acc: 0.86 - ETA: 18s - loss: 0.3132 - acc: 0.86 - ETA: 17s - loss: 0.3134 - acc: 0.86 - ETA: 17s - loss: 0.3135 - acc: 0.86 - ETA: 16s - loss: 0.3136 - acc: 0.86 - ETA: 16s - loss: 0.3136 - acc: 0.86 - ETA: 16s - loss: 0.3137 - acc: 0.86 - ETA: 15s - loss: 0.3136 - acc: 0.86 - ETA: 15s - loss: 0.3135 - acc: 0.86 - ETA: 14s - loss: 0.3133 - acc: 0.86 - ETA: 14s - loss: 0.3133 - acc: 0.86 - ETA: 14s - loss: 0.3130 - acc: 0.86 - ETA: 13s - loss: 0.3134 - acc: 0.86 - ETA: 13s - loss: 0.3134 - acc: 0.86 - ETA: 13s - loss: 0.3133 - acc: 0.86 - ETA: 12s - loss: 0.3134 - acc: 0.86 - ETA: 12s - loss: 0.3134 - acc: 0.86 - ETA: 11s - loss: 0.3132 - acc: 0.86 - ETA: 11s - loss: 0.3131 - acc: 0.86 - ETA: 11s - loss: 0.3129 - acc: 0.86 - ETA: 10s - loss: 0.3131 - acc: 0.86 - ETA: 10s - loss: 0.3130 - acc: 0.86 - ETA: 9s - loss: 0.3128 - acc: 0.8697 - ETA: 9s - loss: 0.3126 - acc: 0.869 - ETA: 9s - loss: 0.3125 - acc: 0.869 - ETA: 8s - loss: 0.3125 - acc: 0.869 - ETA: 8s - loss: 0.3127 - acc: 0.869 - ETA: 7s - loss: 0.3125 - acc: 0.869 - ETA: 7s - loss: 0.3123 - acc: 0.869 - ETA: 7s - loss: 0.3121 - acc: 0.869 - ETA: 6s - loss: 0.3123 - acc: 0.869 - ETA: 6s - loss: 0.3123 - acc: 0.869 - ETA: 5s - loss: 0.3122 - acc: 0.869 - ETA: 5s - loss: 0.3123 - acc: 0.869 - ETA: 5s - loss: 0.3120 - acc: 0.870 - ETA: 4s - loss: 0.3120 - acc: 0.869 - ETA: 4s - loss: 0.3118 - acc: 0.870 - ETA: 3s - loss: 0.3120 - acc: 0.870 - ETA: 3s - loss: 0.3120 - acc: 0.869 - ETA: 3s - loss: 0.3119 - acc: 0.870 - ETA: 2s - loss: 0.3118 - acc: 0.870 - ETA: 2s - loss: 0.3118 - acc: 0.870 - ETA: 1s - loss: 0.3115 - acc: 0.870 - ETA: 1s - loss: 0.3112 - acc: 0.870 - ETA: 1s - loss: 0.3117 - acc: 0.870 - ETA: 0s - loss: 0.3118 - acc: 0.870 - ETA: 0s - loss: 0.3117 - acc: 0.870 - 85s 418ms/step - loss: 0.3117 - acc: 0.8701 - val_loss: 0.2802 - val_acc: 0.8795\n",
      "\n",
      "Epoch 00003: val_acc did not improve from 0.87984\n",
      "Epoch 4/20\n"
     ]
    },
    {
     "name": "stdout",
     "output_type": "stream",
     "text": [
      "203/203 [==============================] - ETA: 46s - loss: 0.3413 - acc: 0.86 - ETA: 46s - loss: 0.3126 - acc: 0.87 - ETA: 39s - loss: 0.3120 - acc: 0.88 - ETA: 40s - loss: 0.3113 - acc: 0.87 - ETA: 41s - loss: 0.3151 - acc: 0.87 - ETA: 42s - loss: 0.3078 - acc: 0.87 - ETA: 42s - loss: 0.3106 - acc: 0.87 - ETA: 42s - loss: 0.3066 - acc: 0.87 - ETA: 42s - loss: 0.3096 - acc: 0.87 - ETA: 42s - loss: 0.3089 - acc: 0.87 - ETA: 42s - loss: 0.3083 - acc: 0.87 - ETA: 42s - loss: 0.3056 - acc: 0.87 - ETA: 42s - loss: 0.2998 - acc: 0.87 - ETA: 42s - loss: 0.2979 - acc: 0.87 - ETA: 42s - loss: 0.2988 - acc: 0.87 - ETA: 42s - loss: 0.3008 - acc: 0.87 - ETA: 41s - loss: 0.2988 - acc: 0.88 - ETA: 41s - loss: 0.2991 - acc: 0.88 - ETA: 41s - loss: 0.3001 - acc: 0.88 - ETA: 41s - loss: 0.3001 - acc: 0.88 - ETA: 43s - loss: 0.3034 - acc: 0.87 - ETA: 44s - loss: 0.3028 - acc: 0.87 - ETA: 45s - loss: 0.3001 - acc: 0.88 - ETA: 46s - loss: 0.3013 - acc: 0.88 - ETA: 47s - loss: 0.3029 - acc: 0.87 - ETA: 47s - loss: 0.3026 - acc: 0.87 - ETA: 48s - loss: 0.3017 - acc: 0.88 - ETA: 49s - loss: 0.3012 - acc: 0.88 - ETA: 49s - loss: 0.3014 - acc: 0.88 - ETA: 50s - loss: 0.3008 - acc: 0.88 - ETA: 50s - loss: 0.3005 - acc: 0.88 - ETA: 51s - loss: 0.3016 - acc: 0.88 - ETA: 51s - loss: 0.3007 - acc: 0.88 - ETA: 51s - loss: 0.2999 - acc: 0.88 - ETA: 52s - loss: 0.2998 - acc: 0.88 - ETA: 52s - loss: 0.2994 - acc: 0.88 - ETA: 52s - loss: 0.2977 - acc: 0.88 - ETA: 52s - loss: 0.2987 - acc: 0.88 - ETA: 52s - loss: 0.2987 - acc: 0.88 - ETA: 52s - loss: 0.2990 - acc: 0.88 - ETA: 52s - loss: 0.2991 - acc: 0.88 - ETA: 52s - loss: 0.2986 - acc: 0.88 - ETA: 52s - loss: 0.2976 - acc: 0.88 - ETA: 52s - loss: 0.2990 - acc: 0.88 - ETA: 52s - loss: 0.2994 - acc: 0.88 - ETA: 52s - loss: 0.2993 - acc: 0.88 - ETA: 52s - loss: 0.2993 - acc: 0.88 - ETA: 52s - loss: 0.2991 - acc: 0.88 - ETA: 52s - loss: 0.2994 - acc: 0.88 - ETA: 52s - loss: 0.3009 - acc: 0.87 - ETA: 52s - loss: 0.3013 - acc: 0.87 - ETA: 52s - loss: 0.3016 - acc: 0.87 - ETA: 52s - loss: 0.3023 - acc: 0.87 - ETA: 51s - loss: 0.3025 - acc: 0.87 - ETA: 51s - loss: 0.3020 - acc: 0.87 - ETA: 51s - loss: 0.3024 - acc: 0.87 - ETA: 51s - loss: 0.3029 - acc: 0.87 - ETA: 51s - loss: 0.3030 - acc: 0.87 - ETA: 51s - loss: 0.3026 - acc: 0.87 - ETA: 50s - loss: 0.3029 - acc: 0.87 - ETA: 50s - loss: 0.3027 - acc: 0.87 - ETA: 50s - loss: 0.3029 - acc: 0.87 - ETA: 50s - loss: 0.3033 - acc: 0.87 - ETA: 49s - loss: 0.3033 - acc: 0.87 - ETA: 49s - loss: 0.3032 - acc: 0.87 - ETA: 49s - loss: 0.3025 - acc: 0.87 - ETA: 49s - loss: 0.3024 - acc: 0.87 - ETA: 48s - loss: 0.3013 - acc: 0.88 - ETA: 48s - loss: 0.3014 - acc: 0.88 - ETA: 48s - loss: 0.3010 - acc: 0.88 - ETA: 48s - loss: 0.3022 - acc: 0.88 - ETA: 47s - loss: 0.3026 - acc: 0.88 - ETA: 47s - loss: 0.3029 - acc: 0.88 - ETA: 47s - loss: 0.3024 - acc: 0.88 - ETA: 47s - loss: 0.3017 - acc: 0.88 - ETA: 46s - loss: 0.3019 - acc: 0.88 - ETA: 46s - loss: 0.3023 - acc: 0.88 - ETA: 46s - loss: 0.3017 - acc: 0.88 - ETA: 45s - loss: 0.3009 - acc: 0.88 - ETA: 45s - loss: 0.3002 - acc: 0.88 - ETA: 45s - loss: 0.3002 - acc: 0.88 - ETA: 44s - loss: 0.3008 - acc: 0.88 - ETA: 44s - loss: 0.3003 - acc: 0.88 - ETA: 44s - loss: 0.3004 - acc: 0.88 - ETA: 44s - loss: 0.3007 - acc: 0.88 - ETA: 43s - loss: 0.3010 - acc: 0.88 - ETA: 43s - loss: 0.3012 - acc: 0.88 - ETA: 43s - loss: 0.3014 - acc: 0.88 - ETA: 42s - loss: 0.3013 - acc: 0.88 - ETA: 42s - loss: 0.3010 - acc: 0.88 - ETA: 42s - loss: 0.3009 - acc: 0.88 - ETA: 41s - loss: 0.3003 - acc: 0.88 - ETA: 41s - loss: 0.3007 - acc: 0.88 - ETA: 41s - loss: 0.3010 - acc: 0.88 - ETA: 40s - loss: 0.3015 - acc: 0.88 - ETA: 40s - loss: 0.3018 - acc: 0.88 - ETA: 40s - loss: 0.3018 - acc: 0.88 - ETA: 39s - loss: 0.3017 - acc: 0.88 - ETA: 39s - loss: 0.3022 - acc: 0.88 - ETA: 39s - loss: 0.3027 - acc: 0.88 - ETA: 38s - loss: 0.3025 - acc: 0.88 - ETA: 38s - loss: 0.3026 - acc: 0.88 - ETA: 38s - loss: 0.3025 - acc: 0.88 - ETA: 37s - loss: 0.3020 - acc: 0.88 - ETA: 37s - loss: 0.3017 - acc: 0.88 - ETA: 37s - loss: 0.3013 - acc: 0.88 - ETA: 36s - loss: 0.3008 - acc: 0.88 - ETA: 36s - loss: 0.3011 - acc: 0.88 - ETA: 36s - loss: 0.3012 - acc: 0.88 - ETA: 35s - loss: 0.3009 - acc: 0.88 - ETA: 35s - loss: 0.3014 - acc: 0.88 - ETA: 34s - loss: 0.3018 - acc: 0.88 - ETA: 34s - loss: 0.3020 - acc: 0.88 - ETA: 34s - loss: 0.3022 - acc: 0.88 - ETA: 33s - loss: 0.3022 - acc: 0.88 - ETA: 33s - loss: 0.3023 - acc: 0.88 - ETA: 33s - loss: 0.3029 - acc: 0.88 - ETA: 32s - loss: 0.3028 - acc: 0.88 - ETA: 32s - loss: 0.3028 - acc: 0.88 - ETA: 32s - loss: 0.3029 - acc: 0.88 - ETA: 31s - loss: 0.3026 - acc: 0.88 - ETA: 31s - loss: 0.3028 - acc: 0.88 - ETA: 30s - loss: 0.3030 - acc: 0.88 - ETA: 30s - loss: 0.3029 - acc: 0.88 - ETA: 30s - loss: 0.3033 - acc: 0.88 - ETA: 29s - loss: 0.3033 - acc: 0.88 - ETA: 29s - loss: 0.3030 - acc: 0.88 - ETA: 29s - loss: 0.3028 - acc: 0.88 - ETA: 28s - loss: 0.3029 - acc: 0.88 - ETA: 28s - loss: 0.3027 - acc: 0.88 - ETA: 28s - loss: 0.3022 - acc: 0.88 - ETA: 27s - loss: 0.3028 - acc: 0.88 - ETA: 27s - loss: 0.3028 - acc: 0.88 - ETA: 26s - loss: 0.3028 - acc: 0.88 - ETA: 26s - loss: 0.3025 - acc: 0.88 - ETA: 26s - loss: 0.3025 - acc: 0.88 - ETA: 25s - loss: 0.3022 - acc: 0.88 - ETA: 25s - loss: 0.3022 - acc: 0.88 - ETA: 25s - loss: 0.3019 - acc: 0.88 - ETA: 24s - loss: 0.3022 - acc: 0.88 - ETA: 24s - loss: 0.3019 - acc: 0.88 - ETA: 23s - loss: 0.3019 - acc: 0.88 - ETA: 23s - loss: 0.3020 - acc: 0.88 - ETA: 23s - loss: 0.3021 - acc: 0.88 - ETA: 22s - loss: 0.3016 - acc: 0.88 - ETA: 22s - loss: 0.3023 - acc: 0.88 - ETA: 22s - loss: 0.3027 - acc: 0.88 - ETA: 21s - loss: 0.3029 - acc: 0.88 - ETA: 21s - loss: 0.3027 - acc: 0.88 - ETA: 20s - loss: 0.3025 - acc: 0.88 - ETA: 20s - loss: 0.3022 - acc: 0.88 - ETA: 20s - loss: 0.3022 - acc: 0.88 - ETA: 19s - loss: 0.3020 - acc: 0.88 - ETA: 19s - loss: 0.3020 - acc: 0.88 - ETA: 18s - loss: 0.3019 - acc: 0.88 - ETA: 18s - loss: 0.3016 - acc: 0.88 - ETA: 18s - loss: 0.3014 - acc: 0.88 - ETA: 17s - loss: 0.3018 - acc: 0.88 - ETA: 17s - loss: 0.3020 - acc: 0.88 - ETA: 16s - loss: 0.3023 - acc: 0.88 - ETA: 16s - loss: 0.3023 - acc: 0.88 - ETA: 16s - loss: 0.3024 - acc: 0.88 - ETA: 15s - loss: 0.3023 - acc: 0.88 - ETA: 15s - loss: 0.3020 - acc: 0.88 - ETA: 15s - loss: 0.3019 - acc: 0.88 - ETA: 14s - loss: 0.3019 - acc: 0.88 - ETA: 14s - loss: 0.3016 - acc: 0.88 - ETA: 13s - loss: 0.3017 - acc: 0.88 - ETA: 13s - loss: 0.3015 - acc: 0.88 - ETA: 13s - loss: 0.3015 - acc: 0.88 - ETA: 12s - loss: 0.3015 - acc: 0.88 - ETA: 12s - loss: 0.3016 - acc: 0.88 - ETA: 11s - loss: 0.3014 - acc: 0.88 - ETA: 11s - loss: 0.3011 - acc: 0.88 - ETA: 11s - loss: 0.3006 - acc: 0.88 - ETA: 10s - loss: 0.3008 - acc: 0.88 - ETA: 10s - loss: 0.3012 - acc: 0.88 - ETA: 9s - loss: 0.3013 - acc: 0.8826 - ETA: 9s - loss: 0.3011 - acc: 0.882 - ETA: 9s - loss: 0.3012 - acc: 0.882 - ETA: 8s - loss: 0.3014 - acc: 0.882 - ETA: 8s - loss: 0.3011 - acc: 0.882 - ETA: 7s - loss: 0.3014 - acc: 0.882 - ETA: 7s - loss: 0.3016 - acc: 0.882 - ETA: 7s - loss: 0.3015 - acc: 0.882 - ETA: 6s - loss: 0.3015 - acc: 0.882 - ETA: 6s - loss: 0.3014 - acc: 0.882 - ETA: 5s - loss: 0.3013 - acc: 0.882 - ETA: 5s - loss: 0.3013 - acc: 0.882 - ETA: 5s - loss: 0.3018 - acc: 0.882 - ETA: 4s - loss: 0.3017 - acc: 0.882 - ETA: 4s - loss: 0.3017 - acc: 0.882 - ETA: 3s - loss: 0.3017 - acc: 0.882 - ETA: 3s - loss: 0.3017 - acc: 0.882 - ETA: 3s - loss: 0.3018 - acc: 0.882 - ETA: 2s - loss: 0.3019 - acc: 0.882 - ETA: 2s - loss: 0.3021 - acc: 0.882 - ETA: 2s - loss: 0.3023 - acc: 0.882 - ETA: 1s - loss: 0.3024 - acc: 0.882 - ETA: 1s - loss: 0.3024 - acc: 0.882 - ETA: 0s - loss: 0.3028 - acc: 0.882 - ETA: 0s - loss: 0.3028 - acc: 0.882 - 85s 420ms/step - loss: 0.3029 - acc: 0.8821 - val_loss: 0.2840 - val_acc: 0.8782\n",
      "\n",
      "Epoch 00004: val_acc did not improve from 0.87984\n",
      "Epoch 5/20\n",
      "203/203 [==============================] - ETA: 46s - loss: 0.3214 - acc: 0.87 - ETA: 46s - loss: 0.3013 - acc: 0.88 - ETA: 46s - loss: 0.2910 - acc: 0.88 - ETA: 40s - loss: 0.3082 - acc: 0.88 - ETA: 41s - loss: 0.3057 - acc: 0.88 - ETA: 42s - loss: 0.3038 - acc: 0.88 - ETA: 42s - loss: 0.2981 - acc: 0.88 - ETA: 42s - loss: 0.3018 - acc: 0.87 - ETA: 42s - loss: 0.2981 - acc: 0.88 - ETA: 42s - loss: 0.2932 - acc: 0.88 - ETA: 42s - loss: 0.2957 - acc: 0.88 - ETA: 42s - loss: 0.2992 - acc: 0.88 - ETA: 42s - loss: 0.2947 - acc: 0.88 - ETA: 42s - loss: 0.2960 - acc: 0.88 - ETA: 42s - loss: 0.2905 - acc: 0.88 - ETA: 41s - loss: 0.2928 - acc: 0.88 - ETA: 41s - loss: 0.2915 - acc: 0.88 - ETA: 41s - loss: 0.2914 - acc: 0.88 - ETA: 41s - loss: 0.2907 - acc: 0.88 - ETA: 41s - loss: 0.2863 - acc: 0.88 - ETA: 43s - loss: 0.2858 - acc: 0.89 - ETA: 44s - loss: 0.2860 - acc: 0.89 - ETA: 45s - loss: 0.2823 - acc: 0.89 - ETA: 46s - loss: 0.2819 - acc: 0.89 - ETA: 47s - loss: 0.2819 - acc: 0.89 - ETA: 48s - loss: 0.2824 - acc: 0.89 - ETA: 48s - loss: 0.2821 - acc: 0.89 - ETA: 49s - loss: 0.2845 - acc: 0.89 - ETA: 49s - loss: 0.2857 - acc: 0.89 - ETA: 50s - loss: 0.2849 - acc: 0.89 - ETA: 50s - loss: 0.2867 - acc: 0.89 - ETA: 51s - loss: 0.2872 - acc: 0.89 - ETA: 51s - loss: 0.2869 - acc: 0.89 - ETA: 51s - loss: 0.2897 - acc: 0.88 - ETA: 51s - loss: 0.2903 - acc: 0.88 - ETA: 52s - loss: 0.2899 - acc: 0.89 - ETA: 52s - loss: 0.2905 - acc: 0.88 - ETA: 52s - loss: 0.2906 - acc: 0.88 - ETA: 52s - loss: 0.2898 - acc: 0.89 - ETA: 52s - loss: 0.2891 - acc: 0.89 - ETA: 52s - loss: 0.2900 - acc: 0.88 - ETA: 52s - loss: 0.2902 - acc: 0.88 - ETA: 52s - loss: 0.2894 - acc: 0.89 - ETA: 52s - loss: 0.2897 - acc: 0.88 - ETA: 52s - loss: 0.2900 - acc: 0.88 - ETA: 52s - loss: 0.2906 - acc: 0.88 - ETA: 52s - loss: 0.2926 - acc: 0.88 - ETA: 52s - loss: 0.2929 - acc: 0.88 - ETA: 52s - loss: 0.2924 - acc: 0.88 - ETA: 52s - loss: 0.2930 - acc: 0.88 - ETA: 52s - loss: 0.2939 - acc: 0.88 - ETA: 51s - loss: 0.2934 - acc: 0.88 - ETA: 51s - loss: 0.2922 - acc: 0.88 - ETA: 51s - loss: 0.2915 - acc: 0.88 - ETA: 51s - loss: 0.2929 - acc: 0.88 - ETA: 51s - loss: 0.2929 - acc: 0.88 - ETA: 51s - loss: 0.2923 - acc: 0.88 - ETA: 50s - loss: 0.2922 - acc: 0.88 - ETA: 50s - loss: 0.2929 - acc: 0.88 - ETA: 50s - loss: 0.2931 - acc: 0.88 - ETA: 50s - loss: 0.2929 - acc: 0.88 - ETA: 50s - loss: 0.2924 - acc: 0.88 - ETA: 50s - loss: 0.2919 - acc: 0.88 - ETA: 50s - loss: 0.2922 - acc: 0.88 - ETA: 49s - loss: 0.2911 - acc: 0.88 - ETA: 49s - loss: 0.2913 - acc: 0.88 - ETA: 49s - loss: 0.2920 - acc: 0.88 - ETA: 49s - loss: 0.2921 - acc: 0.88 - ETA: 48s - loss: 0.2923 - acc: 0.88 - ETA: 48s - loss: 0.2919 - acc: 0.88 - ETA: 48s - loss: 0.2919 - acc: 0.88 - ETA: 47s - loss: 0.2914 - acc: 0.88 - ETA: 47s - loss: 0.2916 - acc: 0.88 - ETA: 47s - loss: 0.2907 - acc: 0.88 - ETA: 47s - loss: 0.2907 - acc: 0.88 - ETA: 46s - loss: 0.2909 - acc: 0.88 - ETA: 46s - loss: 0.2930 - acc: 0.88 - ETA: 46s - loss: 0.2926 - acc: 0.88 - ETA: 46s - loss: 0.2929 - acc: 0.88 - ETA: 45s - loss: 0.2930 - acc: 0.88 - ETA: 45s - loss: 0.2933 - acc: 0.88 - ETA: 45s - loss: 0.2927 - acc: 0.88 - ETA: 44s - loss: 0.2929 - acc: 0.88 - ETA: 44s - loss: 0.2932 - acc: 0.88 - ETA: 44s - loss: 0.2928 - acc: 0.88 - ETA: 43s - loss: 0.2929 - acc: 0.88 - ETA: 43s - loss: 0.2928 - acc: 0.88 - ETA: 43s - loss: 0.2932 - acc: 0.88 - ETA: 42s - loss: 0.2935 - acc: 0.88 - ETA: 42s - loss: 0.2934 - acc: 0.88 - ETA: 42s - loss: 0.2931 - acc: 0.88 - ETA: 41s - loss: 0.2938 - acc: 0.88 - ETA: 41s - loss: 0.2944 - acc: 0.88 - ETA: 41s - loss: 0.2952 - acc: 0.88 - ETA: 40s - loss: 0.2951 - acc: 0.88 - ETA: 40s - loss: 0.2952 - acc: 0.88 - ETA: 40s - loss: 0.2947 - acc: 0.88 - ETA: 39s - loss: 0.2939 - acc: 0.88 - ETA: 39s - loss: 0.2934 - acc: 0.88 - ETA: 39s - loss: 0.2929 - acc: 0.88 - ETA: 38s - loss: 0.2921 - acc: 0.88 - ETA: 38s - loss: 0.2934 - acc: 0.88 - ETA: 38s - loss: 0.2929 - acc: 0.88 - ETA: 37s - loss: 0.2926 - acc: 0.88 - ETA: 37s - loss: 0.2928 - acc: 0.88 - ETA: 37s - loss: 0.2933 - acc: 0.88 - ETA: 36s - loss: 0.2932 - acc: 0.88 - ETA: 36s - loss: 0.2931 - acc: 0.88 - ETA: 36s - loss: 0.2933 - acc: 0.88 - ETA: 35s - loss: 0.2932 - acc: 0.88 - ETA: 35s - loss: 0.2932 - acc: 0.88 - ETA: 35s - loss: 0.2932 - acc: 0.88 - ETA: 34s - loss: 0.2935 - acc: 0.88 - ETA: 34s - loss: 0.2932 - acc: 0.88 - ETA: 33s - loss: 0.2930 - acc: 0.88 - ETA: 33s - loss: 0.2936 - acc: 0.88 - ETA: 33s - loss: 0.2933 - acc: 0.88 - ETA: 32s - loss: 0.2927 - acc: 0.88 - ETA: 32s - loss: 0.2925 - acc: 0.88 - ETA: 32s - loss: 0.2921 - acc: 0.88 - ETA: 31s - loss: 0.2914 - acc: 0.88 - ETA: 31s - loss: 0.2912 - acc: 0.88 - ETA: 31s - loss: 0.2914 - acc: 0.88 - ETA: 30s - loss: 0.2914 - acc: 0.88 - ETA: 30s - loss: 0.2912 - acc: 0.88 - ETA: 29s - loss: 0.2908 - acc: 0.88 - ETA: 29s - loss: 0.2909 - acc: 0.88 - ETA: 29s - loss: 0.2909 - acc: 0.88 - ETA: 28s - loss: 0.2907 - acc: 0.88 - ETA: 28s - loss: 0.2902 - acc: 0.88 - ETA: 28s - loss: 0.2900 - acc: 0.88 - ETA: 27s - loss: 0.2897 - acc: 0.88 - ETA: 27s - loss: 0.2898 - acc: 0.88 - ETA: 26s - loss: 0.2895 - acc: 0.88 - ETA: 26s - loss: 0.2901 - acc: 0.88 - ETA: 26s - loss: 0.2897 - acc: 0.88 - ETA: 25s - loss: 0.2892 - acc: 0.88 - ETA: 25s - loss: 0.2895 - acc: 0.88 - ETA: 25s - loss: 0.2892 - acc: 0.88 - ETA: 24s - loss: 0.2889 - acc: 0.88 - ETA: 24s - loss: 0.2891 - acc: 0.88 - ETA: 23s - loss: 0.2886 - acc: 0.89 - ETA: 23s - loss: 0.2889 - acc: 0.88 - ETA: 23s - loss: 0.2885 - acc: 0.89 - ETA: 22s - loss: 0.2884 - acc: 0.89 - ETA: 22s - loss: 0.2882 - acc: 0.89 - ETA: 21s - loss: 0.2880 - acc: 0.89 - ETA: 21s - loss: 0.2879 - acc: 0.89 - ETA: 21s - loss: 0.2881 - acc: 0.89 - ETA: 20s - loss: 0.2884 - acc: 0.89 - ETA: 20s - loss: 0.2881 - acc: 0.89 - ETA: 20s - loss: 0.2879 - acc: 0.89 - ETA: 19s - loss: 0.2874 - acc: 0.89 - ETA: 19s - loss: 0.2870 - acc: 0.89 - ETA: 18s - loss: 0.2872 - acc: 0.89 - ETA: 18s - loss: 0.2874 - acc: 0.89 - ETA: 18s - loss: 0.2872 - acc: 0.89 - ETA: 17s - loss: 0.2871 - acc: 0.89 - ETA: 17s - loss: 0.2873 - acc: 0.89 - ETA: 16s - loss: 0.2869 - acc: 0.89 - ETA: 16s - loss: 0.2871 - acc: 0.89 - ETA: 16s - loss: 0.2869 - acc: 0.89 - ETA: 15s - loss: 0.2873 - acc: 0.89 - ETA: 15s - loss: 0.2870 - acc: 0.89 - ETA: 15s - loss: 0.2870 - acc: 0.89 - ETA: 14s - loss: 0.2868 - acc: 0.89 - ETA: 14s - loss: 0.2869 - acc: 0.89 - ETA: 13s - loss: 0.2866 - acc: 0.89 - ETA: 13s - loss: 0.2863 - acc: 0.89 - ETA: 13s - loss: 0.2858 - acc: 0.89 - ETA: 12s - loss: 0.2855 - acc: 0.89 - ETA: 12s - loss: 0.2854 - acc: 0.89 - ETA: 11s - loss: 0.2854 - acc: 0.89 - ETA: 11s - loss: 0.2852 - acc: 0.89 - ETA: 11s - loss: 0.2851 - acc: 0.89 - ETA: 10s - loss: 0.2850 - acc: 0.89 - ETA: 10s - loss: 0.2850 - acc: 0.89 - ETA: 9s - loss: 0.2850 - acc: 0.8914 - ETA: 9s - loss: 0.2848 - acc: 0.891 - ETA: 9s - loss: 0.2848 - acc: 0.891 - ETA: 8s - loss: 0.2848 - acc: 0.891 - ETA: 8s - loss: 0.2845 - acc: 0.891 - ETA: 7s - loss: 0.2843 - acc: 0.891 - ETA: 7s - loss: 0.2842 - acc: 0.891 - ETA: 7s - loss: 0.2843 - acc: 0.891 - ETA: 6s - loss: 0.2844 - acc: 0.891 - ETA: 6s - loss: 0.2843 - acc: 0.891 - ETA: 5s - loss: 0.2841 - acc: 0.891 - ETA: 5s - loss: 0.2842 - acc: 0.891 - ETA: 5s - loss: 0.2842 - acc: 0.891 - ETA: 4s - loss: 0.2841 - acc: 0.891 - ETA: 4s - loss: 0.2839 - acc: 0.891 - ETA: 3s - loss: 0.2837 - acc: 0.891 - ETA: 3s - loss: 0.2839 - acc: 0.891 - ETA: 3s - loss: 0.2837 - acc: 0.891 - ETA: 2s - loss: 0.2836 - acc: 0.891 - ETA: 2s - loss: 0.2834 - acc: 0.892 - ETA: 1s - loss: 0.2836 - acc: 0.891 - ETA: 1s - loss: 0.2834 - acc: 0.892 - ETA: 1s - loss: 0.2835 - acc: 0.892 - ETA: 0s - loss: 0.2833 - acc: 0.892 - ETA: 0s - loss: 0.2833 - acc: 0.892 - 85s 418ms/step - loss: 0.2835 - acc: 0.8922 - val_loss: 1.2286 - val_acc: 0.8787\n",
      "\n",
      "Epoch 00005: val_acc did not improve from 0.87984\n",
      "Epoch 6/20\n"
     ]
    },
    {
     "name": "stdout",
     "output_type": "stream",
     "text": [
      "203/203 [==============================] - ETA: 46s - loss: 0.2738 - acc: 0.88 - ETA: 46s - loss: 0.2868 - acc: 0.88 - ETA: 46s - loss: 0.2948 - acc: 0.88 - ETA: 46s - loss: 0.2893 - acc: 0.88 - ETA: 41s - loss: 0.2731 - acc: 0.89 - ETA: 42s - loss: 0.2809 - acc: 0.88 - ETA: 42s - loss: 0.2775 - acc: 0.89 - ETA: 42s - loss: 0.2774 - acc: 0.89 - ETA: 42s - loss: 0.2878 - acc: 0.88 - ETA: 42s - loss: 0.2845 - acc: 0.89 - ETA: 42s - loss: 0.2807 - acc: 0.89 - ETA: 42s - loss: 0.2802 - acc: 0.89 - ETA: 42s - loss: 0.2759 - acc: 0.89 - ETA: 42s - loss: 0.2775 - acc: 0.89 - ETA: 42s - loss: 0.2774 - acc: 0.89 - ETA: 42s - loss: 0.2768 - acc: 0.89 - ETA: 41s - loss: 0.2781 - acc: 0.89 - ETA: 41s - loss: 0.2785 - acc: 0.89 - ETA: 41s - loss: 0.2772 - acc: 0.89 - ETA: 42s - loss: 0.2832 - acc: 0.88 - ETA: 43s - loss: 0.2839 - acc: 0.88 - ETA: 44s - loss: 0.2838 - acc: 0.88 - ETA: 46s - loss: 0.2864 - acc: 0.88 - ETA: 47s - loss: 0.2883 - acc: 0.88 - ETA: 48s - loss: 0.2883 - acc: 0.88 - ETA: 48s - loss: 0.2870 - acc: 0.88 - ETA: 49s - loss: 0.2865 - acc: 0.89 - ETA: 50s - loss: 0.2850 - acc: 0.89 - ETA: 50s - loss: 0.2833 - acc: 0.89 - ETA: 51s - loss: 0.2817 - acc: 0.89 - ETA: 51s - loss: 0.2837 - acc: 0.89 - ETA: 51s - loss: 0.2824 - acc: 0.89 - ETA: 52s - loss: 0.2802 - acc: 0.89 - ETA: 52s - loss: 0.2794 - acc: 0.89 - ETA: 52s - loss: 0.2802 - acc: 0.89 - ETA: 53s - loss: 0.2789 - acc: 0.89 - ETA: 53s - loss: 0.2781 - acc: 0.89 - ETA: 53s - loss: 0.2783 - acc: 0.89 - ETA: 53s - loss: 0.2786 - acc: 0.89 - ETA: 53s - loss: 0.2793 - acc: 0.89 - ETA: 53s - loss: 0.2798 - acc: 0.89 - ETA: 53s - loss: 0.2786 - acc: 0.89 - ETA: 53s - loss: 0.2791 - acc: 0.89 - ETA: 53s - loss: 0.2801 - acc: 0.89 - ETA: 53s - loss: 0.2803 - acc: 0.89 - ETA: 53s - loss: 0.2795 - acc: 0.89 - ETA: 53s - loss: 0.2787 - acc: 0.89 - ETA: 52s - loss: 0.2772 - acc: 0.89 - ETA: 52s - loss: 0.2774 - acc: 0.89 - ETA: 52s - loss: 0.2759 - acc: 0.89 - ETA: 52s - loss: 0.2760 - acc: 0.89 - ETA: 53s - loss: 0.2748 - acc: 0.89 - ETA: 52s - loss: 0.2750 - acc: 0.89 - ETA: 52s - loss: 0.2748 - acc: 0.89 - ETA: 52s - loss: 0.2759 - acc: 0.89 - ETA: 52s - loss: 0.2757 - acc: 0.89 - ETA: 52s - loss: 0.2771 - acc: 0.89 - ETA: 52s - loss: 0.2766 - acc: 0.89 - ETA: 52s - loss: 0.2777 - acc: 0.89 - ETA: 51s - loss: 0.2782 - acc: 0.89 - ETA: 51s - loss: 0.2788 - acc: 0.89 - ETA: 51s - loss: 0.2787 - acc: 0.89 - ETA: 51s - loss: 0.2783 - acc: 0.89 - ETA: 50s - loss: 0.2775 - acc: 0.89 - ETA: 50s - loss: 0.2775 - acc: 0.89 - ETA: 50s - loss: 0.2780 - acc: 0.89 - ETA: 50s - loss: 0.2779 - acc: 0.89 - ETA: 49s - loss: 0.2775 - acc: 0.89 - ETA: 49s - loss: 0.2771 - acc: 0.89 - ETA: 49s - loss: 0.2766 - acc: 0.89 - ETA: 49s - loss: 0.2763 - acc: 0.89 - ETA: 48s - loss: 0.2760 - acc: 0.89 - ETA: 48s - loss: 0.2773 - acc: 0.89 - ETA: 48s - loss: 0.2777 - acc: 0.89 - ETA: 47s - loss: 0.2777 - acc: 0.89 - ETA: 47s - loss: 0.2782 - acc: 0.89 - ETA: 47s - loss: 0.2779 - acc: 0.89 - ETA: 47s - loss: 0.2780 - acc: 0.89 - ETA: 46s - loss: 0.2782 - acc: 0.89 - ETA: 46s - loss: 0.2784 - acc: 0.89 - ETA: 46s - loss: 0.2790 - acc: 0.89 - ETA: 45s - loss: 0.2789 - acc: 0.89 - ETA: 45s - loss: 0.2788 - acc: 0.89 - ETA: 45s - loss: 0.2784 - acc: 0.89 - ETA: 44s - loss: 0.2782 - acc: 0.89 - ETA: 44s - loss: 0.2778 - acc: 0.89 - ETA: 44s - loss: 0.2776 - acc: 0.89 - ETA: 43s - loss: 0.2769 - acc: 0.89 - ETA: 43s - loss: 0.2780 - acc: 0.89 - ETA: 43s - loss: 0.2777 - acc: 0.89 - ETA: 42s - loss: 0.2774 - acc: 0.89 - ETA: 42s - loss: 0.2774 - acc: 0.89 - ETA: 42s - loss: 0.2772 - acc: 0.89 - ETA: 41s - loss: 0.2767 - acc: 0.89 - ETA: 41s - loss: 0.2767 - acc: 0.89 - ETA: 41s - loss: 0.2769 - acc: 0.89 - ETA: 40s - loss: 0.2766 - acc: 0.89 - ETA: 40s - loss: 0.2769 - acc: 0.89 - ETA: 40s - loss: 0.2767 - acc: 0.89 - ETA: 39s - loss: 0.2773 - acc: 0.89 - ETA: 39s - loss: 0.2777 - acc: 0.89 - ETA: 39s - loss: 0.2774 - acc: 0.89 - ETA: 38s - loss: 0.2768 - acc: 0.89 - ETA: 38s - loss: 0.2770 - acc: 0.89 - ETA: 37s - loss: 0.2766 - acc: 0.89 - ETA: 37s - loss: 0.2765 - acc: 0.89 - ETA: 37s - loss: 0.2768 - acc: 0.89 - ETA: 36s - loss: 0.2767 - acc: 0.89 - ETA: 36s - loss: 0.2768 - acc: 0.89 - ETA: 36s - loss: 0.2774 - acc: 0.89 - ETA: 35s - loss: 0.2773 - acc: 0.89 - ETA: 35s - loss: 0.2774 - acc: 0.89 - ETA: 35s - loss: 0.2773 - acc: 0.89 - ETA: 34s - loss: 0.2777 - acc: 0.89 - ETA: 34s - loss: 0.2775 - acc: 0.89 - ETA: 33s - loss: 0.2776 - acc: 0.89 - ETA: 33s - loss: 0.2773 - acc: 0.89 - ETA: 33s - loss: 0.2769 - acc: 0.89 - ETA: 32s - loss: 0.2773 - acc: 0.89 - ETA: 32s - loss: 0.2775 - acc: 0.89 - ETA: 32s - loss: 0.2774 - acc: 0.89 - ETA: 31s - loss: 0.2774 - acc: 0.89 - ETA: 31s - loss: 0.2777 - acc: 0.89 - ETA: 30s - loss: 0.2777 - acc: 0.89 - ETA: 30s - loss: 0.2778 - acc: 0.89 - ETA: 30s - loss: 0.2777 - acc: 0.89 - ETA: 29s - loss: 0.2776 - acc: 0.89 - ETA: 29s - loss: 0.2776 - acc: 0.89 - ETA: 29s - loss: 0.2779 - acc: 0.89 - ETA: 28s - loss: 0.2784 - acc: 0.89 - ETA: 28s - loss: 0.2783 - acc: 0.89 - ETA: 27s - loss: 0.2784 - acc: 0.89 - ETA: 27s - loss: 0.2779 - acc: 0.89 - ETA: 27s - loss: 0.2780 - acc: 0.89 - ETA: 26s - loss: 0.2784 - acc: 0.89 - ETA: 26s - loss: 0.2784 - acc: 0.89 - ETA: 25s - loss: 0.2782 - acc: 0.89 - ETA: 25s - loss: 0.2790 - acc: 0.89 - ETA: 25s - loss: 0.2788 - acc: 0.89 - ETA: 24s - loss: 0.2786 - acc: 0.89 - ETA: 24s - loss: 0.2786 - acc: 0.89 - ETA: 24s - loss: 0.2789 - acc: 0.89 - ETA: 23s - loss: 0.2788 - acc: 0.89 - ETA: 23s - loss: 0.2789 - acc: 0.89 - ETA: 22s - loss: 0.2787 - acc: 0.89 - ETA: 22s - loss: 0.2786 - acc: 0.89 - ETA: 22s - loss: 0.2782 - acc: 0.89 - ETA: 21s - loss: 0.2780 - acc: 0.89 - ETA: 21s - loss: 0.2788 - acc: 0.89 - ETA: 21s - loss: 0.2785 - acc: 0.89 - ETA: 20s - loss: 0.2784 - acc: 0.89 - ETA: 20s - loss: 0.2784 - acc: 0.89 - ETA: 19s - loss: 0.2780 - acc: 0.89 - ETA: 19s - loss: 0.2781 - acc: 0.89 - ETA: 19s - loss: 0.2781 - acc: 0.89 - ETA: 18s - loss: 0.2782 - acc: 0.89 - ETA: 18s - loss: 0.2782 - acc: 0.89 - ETA: 17s - loss: 0.2779 - acc: 0.89 - ETA: 17s - loss: 0.2781 - acc: 0.89 - ETA: 17s - loss: 0.2784 - acc: 0.89 - ETA: 16s - loss: 0.2789 - acc: 0.89 - ETA: 16s - loss: 0.2790 - acc: 0.89 - ETA: 15s - loss: 0.2791 - acc: 0.89 - ETA: 15s - loss: 0.2788 - acc: 0.89 - ETA: 15s - loss: 0.2789 - acc: 0.89 - ETA: 14s - loss: 0.2786 - acc: 0.89 - ETA: 14s - loss: 0.2789 - acc: 0.89 - ETA: 13s - loss: 0.2788 - acc: 0.89 - ETA: 13s - loss: 0.2788 - acc: 0.89 - ETA: 13s - loss: 0.2792 - acc: 0.89 - ETA: 12s - loss: 0.2790 - acc: 0.89 - ETA: 12s - loss: 0.2790 - acc: 0.89 - ETA: 11s - loss: 0.2787 - acc: 0.89 - ETA: 11s - loss: 0.2786 - acc: 0.89 - ETA: 11s - loss: 0.2785 - acc: 0.89 - ETA: 10s - loss: 0.2784 - acc: 0.89 - ETA: 10s - loss: 0.2783 - acc: 0.89 - ETA: 9s - loss: 0.2785 - acc: 0.8951 - ETA: 9s - loss: 0.2782 - acc: 0.895 - ETA: 9s - loss: 0.2780 - acc: 0.895 - ETA: 8s - loss: 0.2779 - acc: 0.895 - ETA: 8s - loss: 0.2780 - acc: 0.895 - ETA: 8s - loss: 0.2778 - acc: 0.895 - ETA: 7s - loss: 0.2778 - acc: 0.895 - ETA: 7s - loss: 0.2775 - acc: 0.895 - ETA: 6s - loss: 0.2772 - acc: 0.895 - ETA: 6s - loss: 0.2768 - acc: 0.895 - ETA: 6s - loss: 0.2765 - acc: 0.895 - ETA: 5s - loss: 0.2767 - acc: 0.895 - ETA: 5s - loss: 0.2767 - acc: 0.895 - ETA: 4s - loss: 0.2763 - acc: 0.895 - ETA: 4s - loss: 0.2762 - acc: 0.895 - ETA: 4s - loss: 0.2762 - acc: 0.895 - ETA: 3s - loss: 0.2764 - acc: 0.895 - ETA: 3s - loss: 0.2762 - acc: 0.896 - ETA: 2s - loss: 0.2759 - acc: 0.896 - ETA: 2s - loss: 0.2759 - acc: 0.896 - ETA: 2s - loss: 0.2758 - acc: 0.896 - ETA: 1s - loss: 0.2756 - acc: 0.896 - ETA: 1s - loss: 0.2754 - acc: 0.896 - ETA: 0s - loss: 0.2754 - acc: 0.896 - ETA: 0s - loss: 0.2753 - acc: 0.896 - 85s 421ms/step - loss: 0.2751 - acc: 0.8965 - val_loss: 0.6728 - val_acc: 0.8793\n",
      "\n",
      "Epoch 00006: val_acc did not improve from 0.87984\n",
      "Epoch 7/20\n",
      "203/203 [==============================] - ETA: 46s - loss: 0.2388 - acc: 0.90 - ETA: 46s - loss: 0.3247 - acc: 0.88 - ETA: 46s - loss: 0.3104 - acc: 0.88 - ETA: 46s - loss: 0.2977 - acc: 0.88 - ETA: 46s - loss: 0.2787 - acc: 0.89 - ETA: 42s - loss: 0.2864 - acc: 0.88 - ETA: 42s - loss: 0.2771 - acc: 0.89 - ETA: 42s - loss: 0.2947 - acc: 0.89 - ETA: 42s - loss: 0.2994 - acc: 0.88 - ETA: 42s - loss: 0.3010 - acc: 0.88 - ETA: 42s - loss: 0.2981 - acc: 0.88 - ETA: 42s - loss: 0.2952 - acc: 0.88 - ETA: 42s - loss: 0.2904 - acc: 0.88 - ETA: 42s - loss: 0.2819 - acc: 0.89 - ETA: 42s - loss: 0.2856 - acc: 0.89 - ETA: 41s - loss: 0.2878 - acc: 0.89 - ETA: 41s - loss: 0.2866 - acc: 0.89 - ETA: 41s - loss: 0.2822 - acc: 0.89 - ETA: 41s - loss: 0.2780 - acc: 0.89 - ETA: 41s - loss: 0.2796 - acc: 0.89 - ETA: 42s - loss: 0.2764 - acc: 0.89 - ETA: 44s - loss: 0.2748 - acc: 0.89 - ETA: 45s - loss: 0.2744 - acc: 0.89 - ETA: 46s - loss: 0.2753 - acc: 0.89 - ETA: 47s - loss: 0.2755 - acc: 0.89 - ETA: 48s - loss: 0.2751 - acc: 0.89 - ETA: 49s - loss: 0.2735 - acc: 0.89 - ETA: 49s - loss: 0.2728 - acc: 0.89 - ETA: 50s - loss: 0.2714 - acc: 0.89 - ETA: 50s - loss: 0.2694 - acc: 0.89 - ETA: 51s - loss: 0.2684 - acc: 0.89 - ETA: 51s - loss: 0.2682 - acc: 0.89 - ETA: 51s - loss: 0.2702 - acc: 0.89 - ETA: 51s - loss: 0.2688 - acc: 0.89 - ETA: 52s - loss: 0.2667 - acc: 0.89 - ETA: 52s - loss: 0.2673 - acc: 0.90 - ETA: 52s - loss: 0.2669 - acc: 0.90 - ETA: 52s - loss: 0.2674 - acc: 0.90 - ETA: 52s - loss: 0.2689 - acc: 0.89 - ETA: 52s - loss: 0.2675 - acc: 0.90 - ETA: 52s - loss: 0.2671 - acc: 0.90 - ETA: 52s - loss: 0.2683 - acc: 0.89 - ETA: 52s - loss: 0.2680 - acc: 0.89 - ETA: 52s - loss: 0.2671 - acc: 0.90 - ETA: 52s - loss: 0.2678 - acc: 0.89 - ETA: 52s - loss: 0.2682 - acc: 0.89 - ETA: 52s - loss: 0.2677 - acc: 0.89 - ETA: 52s - loss: 0.2675 - acc: 0.89 - ETA: 52s - loss: 0.2678 - acc: 0.89 - ETA: 51s - loss: 0.2671 - acc: 0.89 - ETA: 51s - loss: 0.2670 - acc: 0.89 - ETA: 51s - loss: 0.2673 - acc: 0.89 - ETA: 51s - loss: 0.2673 - acc: 0.89 - ETA: 51s - loss: 0.2674 - acc: 0.89 - ETA: 51s - loss: 0.2671 - acc: 0.89 - ETA: 51s - loss: 0.2668 - acc: 0.89 - ETA: 50s - loss: 0.2672 - acc: 0.89 - ETA: 50s - loss: 0.2673 - acc: 0.89 - ETA: 50s - loss: 0.2668 - acc: 0.89 - ETA: 50s - loss: 0.2661 - acc: 0.90 - ETA: 49s - loss: 0.2658 - acc: 0.90 - ETA: 49s - loss: 0.2669 - acc: 0.89 - ETA: 49s - loss: 0.2676 - acc: 0.89 - ETA: 49s - loss: 0.2672 - acc: 0.89 - ETA: 49s - loss: 0.2674 - acc: 0.89 - ETA: 48s - loss: 0.2677 - acc: 0.89 - ETA: 48s - loss: 0.2675 - acc: 0.89 - ETA: 48s - loss: 0.2679 - acc: 0.89 - ETA: 48s - loss: 0.2683 - acc: 0.89 - ETA: 47s - loss: 0.2678 - acc: 0.90 - ETA: 47s - loss: 0.2674 - acc: 0.90 - ETA: 47s - loss: 0.2664 - acc: 0.90 - ETA: 47s - loss: 0.2675 - acc: 0.90 - ETA: 46s - loss: 0.2677 - acc: 0.90 - ETA: 46s - loss: 0.2677 - acc: 0.90 - ETA: 46s - loss: 0.2676 - acc: 0.90 - ETA: 46s - loss: 0.2678 - acc: 0.90 - ETA: 45s - loss: 0.2681 - acc: 0.90 - ETA: 45s - loss: 0.2671 - acc: 0.90 - ETA: 45s - loss: 0.2674 - acc: 0.90 - ETA: 44s - loss: 0.2682 - acc: 0.90 - ETA: 44s - loss: 0.2684 - acc: 0.90 - ETA: 44s - loss: 0.2684 - acc: 0.90 - ETA: 43s - loss: 0.2689 - acc: 0.90 - ETA: 43s - loss: 0.2694 - acc: 0.89 - ETA: 43s - loss: 0.2694 - acc: 0.89 - ETA: 42s - loss: 0.2700 - acc: 0.89 - ETA: 42s - loss: 0.2696 - acc: 0.89 - ETA: 42s - loss: 0.2697 - acc: 0.89 - ETA: 42s - loss: 0.2691 - acc: 0.89 - ETA: 41s - loss: 0.2692 - acc: 0.89 - ETA: 41s - loss: 0.2690 - acc: 0.89 - ETA: 41s - loss: 0.2692 - acc: 0.89 - ETA: 40s - loss: 0.2689 - acc: 0.89 - ETA: 40s - loss: 0.2690 - acc: 0.89 - ETA: 40s - loss: 0.2694 - acc: 0.89 - ETA: 39s - loss: 0.2697 - acc: 0.89 - ETA: 39s - loss: 0.2697 - acc: 0.89 - ETA: 38s - loss: 0.2693 - acc: 0.89 - ETA: 38s - loss: 0.2690 - acc: 0.89 - ETA: 38s - loss: 0.2696 - acc: 0.89 - ETA: 37s - loss: 0.2695 - acc: 0.89 - ETA: 37s - loss: 0.2696 - acc: 0.89 - ETA: 37s - loss: 0.2697 - acc: 0.89 - ETA: 36s - loss: 0.2701 - acc: 0.89 - ETA: 36s - loss: 0.2706 - acc: 0.89 - ETA: 36s - loss: 0.2707 - acc: 0.89 - ETA: 35s - loss: 0.2704 - acc: 0.89 - ETA: 35s - loss: 0.2706 - acc: 0.89 - ETA: 35s - loss: 0.2707 - acc: 0.89 - ETA: 34s - loss: 0.2704 - acc: 0.89 - ETA: 34s - loss: 0.2704 - acc: 0.89 - ETA: 34s - loss: 0.2704 - acc: 0.89 - ETA: 33s - loss: 0.2705 - acc: 0.89 - ETA: 33s - loss: 0.2706 - acc: 0.89 - ETA: 33s - loss: 0.2702 - acc: 0.89 - ETA: 32s - loss: 0.2699 - acc: 0.89 - ETA: 32s - loss: 0.2699 - acc: 0.89 - ETA: 31s - loss: 0.2701 - acc: 0.89 - ETA: 31s - loss: 0.2698 - acc: 0.89 - ETA: 31s - loss: 0.2697 - acc: 0.89 - ETA: 30s - loss: 0.2706 - acc: 0.89 - ETA: 30s - loss: 0.2708 - acc: 0.89 - ETA: 30s - loss: 0.2707 - acc: 0.89 - ETA: 29s - loss: 0.2707 - acc: 0.89 - ETA: 29s - loss: 0.2705 - acc: 0.89 - ETA: 29s - loss: 0.2703 - acc: 0.89 - ETA: 28s - loss: 0.2705 - acc: 0.89 - ETA: 28s - loss: 0.2703 - acc: 0.89 - ETA: 27s - loss: 0.2701 - acc: 0.89 - ETA: 27s - loss: 0.2698 - acc: 0.89 - ETA: 27s - loss: 0.2709 - acc: 0.89 - ETA: 26s - loss: 0.2708 - acc: 0.89 - ETA: 26s - loss: 0.2707 - acc: 0.89 - ETA: 26s - loss: 0.2712 - acc: 0.89 - ETA: 25s - loss: 0.2710 - acc: 0.89 - ETA: 25s - loss: 0.2708 - acc: 0.89 - ETA: 25s - loss: 0.2710 - acc: 0.89 - ETA: 24s - loss: 0.2711 - acc: 0.89 - ETA: 24s - loss: 0.2712 - acc: 0.89 - ETA: 23s - loss: 0.2712 - acc: 0.89 - ETA: 23s - loss: 0.2713 - acc: 0.89 - ETA: 23s - loss: 0.2714 - acc: 0.89 - ETA: 22s - loss: 0.2712 - acc: 0.89 - ETA: 22s - loss: 0.2708 - acc: 0.89 - ETA: 22s - loss: 0.2706 - acc: 0.89 - ETA: 21s - loss: 0.2706 - acc: 0.89 - ETA: 21s - loss: 0.2713 - acc: 0.89 - ETA: 21s - loss: 0.2713 - acc: 0.89 - ETA: 20s - loss: 0.2711 - acc: 0.89 - ETA: 20s - loss: 0.2714 - acc: 0.89 - ETA: 19s - loss: 0.2716 - acc: 0.89 - ETA: 19s - loss: 0.2713 - acc: 0.89 - ETA: 19s - loss: 0.2711 - acc: 0.89 - ETA: 18s - loss: 0.2709 - acc: 0.89 - ETA: 18s - loss: 0.2707 - acc: 0.89 - ETA: 18s - loss: 0.2706 - acc: 0.89 - ETA: 17s - loss: 0.2707 - acc: 0.89 - ETA: 17s - loss: 0.2703 - acc: 0.89 - ETA: 16s - loss: 0.2704 - acc: 0.89 - ETA: 16s - loss: 0.2702 - acc: 0.89 - ETA: 16s - loss: 0.2703 - acc: 0.89 - ETA: 15s - loss: 0.2703 - acc: 0.89 - ETA: 15s - loss: 0.2701 - acc: 0.89 - ETA: 14s - loss: 0.2705 - acc: 0.89 - ETA: 14s - loss: 0.2703 - acc: 0.89 - ETA: 14s - loss: 0.2704 - acc: 0.89 - ETA: 13s - loss: 0.2703 - acc: 0.89 - ETA: 13s - loss: 0.2702 - acc: 0.89 - ETA: 12s - loss: 0.2701 - acc: 0.89 - ETA: 12s - loss: 0.2702 - acc: 0.89 - ETA: 12s - loss: 0.2703 - acc: 0.89 - ETA: 11s - loss: 0.2701 - acc: 0.89 - ETA: 11s - loss: 0.2698 - acc: 0.89 - ETA: 11s - loss: 0.2695 - acc: 0.89 - ETA: 10s - loss: 0.2699 - acc: 0.89 - ETA: 10s - loss: 0.2699 - acc: 0.89 - ETA: 9s - loss: 0.2699 - acc: 0.8975 - ETA: 9s - loss: 0.2700 - acc: 0.897 - ETA: 9s - loss: 0.2698 - acc: 0.897 - ETA: 8s - loss: 0.2699 - acc: 0.897 - ETA: 8s - loss: 0.2697 - acc: 0.897 - ETA: 7s - loss: 0.2699 - acc: 0.897 - ETA: 7s - loss: 0.2700 - acc: 0.897 - ETA: 7s - loss: 0.2699 - acc: 0.897 - ETA: 6s - loss: 0.2700 - acc: 0.897 - ETA: 6s - loss: 0.2699 - acc: 0.897 - ETA: 5s - loss: 0.2697 - acc: 0.897 - ETA: 5s - loss: 0.2701 - acc: 0.897 - ETA: 5s - loss: 0.2701 - acc: 0.897 - ETA: 4s - loss: 0.2700 - acc: 0.897 - ETA: 4s - loss: 0.2699 - acc: 0.897 - ETA: 3s - loss: 0.2697 - acc: 0.897 - ETA: 3s - loss: 0.2700 - acc: 0.897 - ETA: 3s - loss: 0.2700 - acc: 0.897 - ETA: 2s - loss: 0.2699 - acc: 0.897 - ETA: 2s - loss: 0.2698 - acc: 0.897 - ETA: 1s - loss: 0.2696 - acc: 0.897 - ETA: 1s - loss: 0.2696 - acc: 0.897 - ETA: 1s - loss: 0.2697 - acc: 0.897 - ETA: 0s - loss: 0.2696 - acc: 0.897 - ETA: 0s - loss: 0.2697 - acc: 0.897 - 85s 418ms/step - loss: 0.2697 - acc: 0.8976 - val_loss: 1.9242 - val_acc: 0.8793\n",
      "\n",
      "Epoch 00007: val_acc did not improve from 0.87984\n",
      "Epoch 8/20\n"
     ]
    },
    {
     "name": "stdout",
     "output_type": "stream",
     "text": [
      "203/203 [==============================] - ETA: 47s - loss: 0.2422 - acc: 0.90 - ETA: 47s - loss: 0.2789 - acc: 0.89 - ETA: 47s - loss: 0.2592 - acc: 0.90 - ETA: 46s - loss: 0.2611 - acc: 0.90 - ETA: 46s - loss: 0.2544 - acc: 0.90 - ETA: 46s - loss: 0.2518 - acc: 0.90 - ETA: 42s - loss: 0.2444 - acc: 0.90 - ETA: 43s - loss: 0.2553 - acc: 0.89 - ETA: 43s - loss: 0.2601 - acc: 0.89 - ETA: 43s - loss: 0.2585 - acc: 0.89 - ETA: 44s - loss: 0.2548 - acc: 0.89 - ETA: 43s - loss: 0.2531 - acc: 0.90 - ETA: 43s - loss: 0.2496 - acc: 0.90 - ETA: 43s - loss: 0.2479 - acc: 0.90 - ETA: 43s - loss: 0.2520 - acc: 0.90 - ETA: 43s - loss: 0.2548 - acc: 0.89 - ETA: 42s - loss: 0.2551 - acc: 0.89 - ETA: 42s - loss: 0.2547 - acc: 0.89 - ETA: 42s - loss: 0.2522 - acc: 0.90 - ETA: 42s - loss: 0.2518 - acc: 0.90 - ETA: 43s - loss: 0.2510 - acc: 0.90 - ETA: 45s - loss: 0.2517 - acc: 0.90 - ETA: 46s - loss: 0.2513 - acc: 0.90 - ETA: 47s - loss: 0.2533 - acc: 0.90 - ETA: 48s - loss: 0.2534 - acc: 0.90 - ETA: 49s - loss: 0.2514 - acc: 0.90 - ETA: 50s - loss: 0.2507 - acc: 0.90 - ETA: 51s - loss: 0.2519 - acc: 0.90 - ETA: 52s - loss: 0.2514 - acc: 0.90 - ETA: 52s - loss: 0.2517 - acc: 0.90 - ETA: 52s - loss: 0.2545 - acc: 0.90 - ETA: 53s - loss: 0.2561 - acc: 0.90 - ETA: 53s - loss: 0.2564 - acc: 0.90 - ETA: 53s - loss: 0.2574 - acc: 0.90 - ETA: 53s - loss: 0.2573 - acc: 0.90 - ETA: 53s - loss: 0.2570 - acc: 0.90 - ETA: 53s - loss: 0.2568 - acc: 0.90 - ETA: 54s - loss: 0.2572 - acc: 0.90 - ETA: 54s - loss: 0.2556 - acc: 0.90 - ETA: 54s - loss: 0.2556 - acc: 0.90 - ETA: 54s - loss: 0.2573 - acc: 0.90 - ETA: 54s - loss: 0.2567 - acc: 0.90 - ETA: 54s - loss: 0.2564 - acc: 0.90 - ETA: 54s - loss: 0.2566 - acc: 0.90 - ETA: 54s - loss: 0.2571 - acc: 0.90 - ETA: 54s - loss: 0.2573 - acc: 0.90 - ETA: 53s - loss: 0.2565 - acc: 0.90 - ETA: 53s - loss: 0.2564 - acc: 0.90 - ETA: 53s - loss: 0.2559 - acc: 0.90 - ETA: 53s - loss: 0.2553 - acc: 0.90 - ETA: 53s - loss: 0.2540 - acc: 0.90 - ETA: 53s - loss: 0.2536 - acc: 0.90 - ETA: 53s - loss: 0.2533 - acc: 0.90 - ETA: 52s - loss: 0.2527 - acc: 0.90 - ETA: 52s - loss: 0.2539 - acc: 0.90 - ETA: 52s - loss: 0.2541 - acc: 0.90 - ETA: 52s - loss: 0.2536 - acc: 0.90 - ETA: 52s - loss: 0.2528 - acc: 0.90 - ETA: 52s - loss: 0.2532 - acc: 0.90 - ETA: 51s - loss: 0.2522 - acc: 0.90 - ETA: 51s - loss: 0.2525 - acc: 0.90 - ETA: 51s - loss: 0.2534 - acc: 0.90 - ETA: 51s - loss: 0.2529 - acc: 0.90 - ETA: 50s - loss: 0.2527 - acc: 0.90 - ETA: 50s - loss: 0.2518 - acc: 0.90 - ETA: 50s - loss: 0.2519 - acc: 0.90 - ETA: 50s - loss: 0.2519 - acc: 0.90 - ETA: 49s - loss: 0.2517 - acc: 0.90 - ETA: 49s - loss: 0.2519 - acc: 0.90 - ETA: 49s - loss: 0.2525 - acc: 0.90 - ETA: 48s - loss: 0.2523 - acc: 0.90 - ETA: 48s - loss: 0.2514 - acc: 0.90 - ETA: 48s - loss: 0.2507 - acc: 0.90 - ETA: 48s - loss: 0.2518 - acc: 0.90 - ETA: 47s - loss: 0.2516 - acc: 0.90 - ETA: 47s - loss: 0.2510 - acc: 0.90 - ETA: 47s - loss: 0.2514 - acc: 0.90 - ETA: 46s - loss: 0.2516 - acc: 0.90 - ETA: 46s - loss: 0.2515 - acc: 0.90 - ETA: 46s - loss: 0.2528 - acc: 0.90 - ETA: 45s - loss: 0.2532 - acc: 0.90 - ETA: 45s - loss: 0.2540 - acc: 0.90 - ETA: 45s - loss: 0.2547 - acc: 0.90 - ETA: 44s - loss: 0.2560 - acc: 0.90 - ETA: 44s - loss: 0.2561 - acc: 0.90 - ETA: 44s - loss: 0.2562 - acc: 0.90 - ETA: 43s - loss: 0.2562 - acc: 0.90 - ETA: 43s - loss: 0.2569 - acc: 0.90 - ETA: 43s - loss: 0.2573 - acc: 0.90 - ETA: 42s - loss: 0.2570 - acc: 0.90 - ETA: 42s - loss: 0.2583 - acc: 0.90 - ETA: 42s - loss: 0.2592 - acc: 0.90 - ETA: 41s - loss: 0.2592 - acc: 0.90 - ETA: 41s - loss: 0.2592 - acc: 0.90 - ETA: 41s - loss: 0.2592 - acc: 0.90 - ETA: 40s - loss: 0.2591 - acc: 0.90 - ETA: 40s - loss: 0.2589 - acc: 0.90 - ETA: 40s - loss: 0.2586 - acc: 0.90 - ETA: 39s - loss: 0.2590 - acc: 0.90 - ETA: 39s - loss: 0.2595 - acc: 0.90 - ETA: 39s - loss: 0.2604 - acc: 0.89 - ETA: 38s - loss: 0.2603 - acc: 0.89 - ETA: 38s - loss: 0.2602 - acc: 0.89 - ETA: 37s - loss: 0.2596 - acc: 0.90 - ETA: 37s - loss: 0.2603 - acc: 0.90 - ETA: 37s - loss: 0.2599 - acc: 0.90 - ETA: 36s - loss: 0.2603 - acc: 0.90 - ETA: 36s - loss: 0.2604 - acc: 0.89 - ETA: 36s - loss: 0.2604 - acc: 0.90 - ETA: 35s - loss: 0.2603 - acc: 0.90 - ETA: 35s - loss: 0.2612 - acc: 0.89 - ETA: 35s - loss: 0.2616 - acc: 0.89 - ETA: 34s - loss: 0.2617 - acc: 0.89 - ETA: 34s - loss: 0.2614 - acc: 0.89 - ETA: 33s - loss: 0.2619 - acc: 0.89 - ETA: 33s - loss: 0.2617 - acc: 0.89 - ETA: 33s - loss: 0.2616 - acc: 0.89 - ETA: 32s - loss: 0.2617 - acc: 0.89 - ETA: 32s - loss: 0.2615 - acc: 0.89 - ETA: 32s - loss: 0.2615 - acc: 0.89 - ETA: 31s - loss: 0.2612 - acc: 0.89 - ETA: 31s - loss: 0.2614 - acc: 0.89 - ETA: 31s - loss: 0.2620 - acc: 0.89 - ETA: 30s - loss: 0.2620 - acc: 0.89 - ETA: 30s - loss: 0.2618 - acc: 0.89 - ETA: 29s - loss: 0.2622 - acc: 0.89 - ETA: 29s - loss: 0.2624 - acc: 0.89 - ETA: 29s - loss: 0.2622 - acc: 0.89 - ETA: 28s - loss: 0.2628 - acc: 0.89 - ETA: 28s - loss: 0.2631 - acc: 0.89 - ETA: 28s - loss: 0.2628 - acc: 0.89 - ETA: 27s - loss: 0.2630 - acc: 0.89 - ETA: 27s - loss: 0.2632 - acc: 0.89 - ETA: 27s - loss: 0.2630 - acc: 0.89 - ETA: 26s - loss: 0.2634 - acc: 0.89 - ETA: 26s - loss: 0.2634 - acc: 0.89 - ETA: 25s - loss: 0.2631 - acc: 0.89 - ETA: 25s - loss: 0.2630 - acc: 0.89 - ETA: 25s - loss: 0.2631 - acc: 0.89 - ETA: 24s - loss: 0.2628 - acc: 0.89 - ETA: 24s - loss: 0.2629 - acc: 0.89 - ETA: 24s - loss: 0.2631 - acc: 0.89 - ETA: 23s - loss: 0.2628 - acc: 0.89 - ETA: 23s - loss: 0.2626 - acc: 0.89 - ETA: 22s - loss: 0.2625 - acc: 0.89 - ETA: 22s - loss: 0.2623 - acc: 0.89 - ETA: 22s - loss: 0.2623 - acc: 0.89 - ETA: 21s - loss: 0.2620 - acc: 0.89 - ETA: 21s - loss: 0.2621 - acc: 0.89 - ETA: 20s - loss: 0.2624 - acc: 0.89 - ETA: 20s - loss: 0.2622 - acc: 0.89 - ETA: 20s - loss: 0.2619 - acc: 0.89 - ETA: 19s - loss: 0.2623 - acc: 0.89 - ETA: 19s - loss: 0.2620 - acc: 0.89 - ETA: 19s - loss: 0.2622 - acc: 0.89 - ETA: 18s - loss: 0.2623 - acc: 0.89 - ETA: 18s - loss: 0.2621 - acc: 0.89 - ETA: 17s - loss: 0.2620 - acc: 0.89 - ETA: 17s - loss: 0.2618 - acc: 0.89 - ETA: 17s - loss: 0.2618 - acc: 0.89 - ETA: 16s - loss: 0.2621 - acc: 0.89 - ETA: 16s - loss: 0.2624 - acc: 0.89 - ETA: 15s - loss: 0.2625 - acc: 0.89 - ETA: 15s - loss: 0.2628 - acc: 0.89 - ETA: 15s - loss: 0.2633 - acc: 0.89 - ETA: 14s - loss: 0.2636 - acc: 0.89 - ETA: 14s - loss: 0.2635 - acc: 0.89 - ETA: 13s - loss: 0.2637 - acc: 0.89 - ETA: 13s - loss: 0.2640 - acc: 0.89 - ETA: 13s - loss: 0.2642 - acc: 0.89 - ETA: 12s - loss: 0.2641 - acc: 0.89 - ETA: 12s - loss: 0.2643 - acc: 0.89 - ETA: 11s - loss: 0.2642 - acc: 0.89 - ETA: 11s - loss: 0.2643 - acc: 0.89 - ETA: 11s - loss: 0.2645 - acc: 0.89 - ETA: 10s - loss: 0.2650 - acc: 0.89 - ETA: 10s - loss: 0.2651 - acc: 0.89 - ETA: 9s - loss: 0.2652 - acc: 0.8979 - ETA: 9s - loss: 0.2648 - acc: 0.898 - ETA: 9s - loss: 0.2647 - acc: 0.898 - ETA: 8s - loss: 0.2649 - acc: 0.898 - ETA: 8s - loss: 0.2651 - acc: 0.897 - ETA: 7s - loss: 0.2651 - acc: 0.897 - ETA: 7s - loss: 0.2654 - acc: 0.897 - ETA: 7s - loss: 0.2655 - acc: 0.897 - ETA: 6s - loss: 0.2657 - acc: 0.897 - ETA: 6s - loss: 0.2661 - acc: 0.897 - ETA: 6s - loss: 0.2666 - acc: 0.897 - ETA: 5s - loss: 0.2667 - acc: 0.897 - ETA: 5s - loss: 0.2667 - acc: 0.897 - ETA: 4s - loss: 0.2667 - acc: 0.897 - ETA: 4s - loss: 0.2666 - acc: 0.897 - ETA: 4s - loss: 0.2665 - acc: 0.897 - ETA: 3s - loss: 0.2664 - acc: 0.897 - ETA: 3s - loss: 0.2661 - acc: 0.897 - ETA: 2s - loss: 0.2663 - acc: 0.897 - ETA: 2s - loss: 0.2663 - acc: 0.897 - ETA: 2s - loss: 0.2665 - acc: 0.897 - ETA: 1s - loss: 0.2664 - acc: 0.897 - ETA: 1s - loss: 0.2665 - acc: 0.897 - ETA: 0s - loss: 0.2665 - acc: 0.897 - ETA: 0s - loss: 0.2664 - acc: 0.897 - 85s 421ms/step - loss: 0.2668 - acc: 0.8972 - val_loss: 0.2826 - val_acc: 0.8726\n",
      "\n",
      "Epoch 00008: val_acc did not improve from 0.87984\n",
      "Epoch 9/20\n",
      "203/203 [==============================] - ETA: 46s - loss: 0.2455 - acc: 0.88 - ETA: 46s - loss: 0.2524 - acc: 0.89 - ETA: 46s - loss: 0.2535 - acc: 0.89 - ETA: 46s - loss: 0.2510 - acc: 0.89 - ETA: 46s - loss: 0.2528 - acc: 0.90 - ETA: 45s - loss: 0.2486 - acc: 0.90 - ETA: 45s - loss: 0.2448 - acc: 0.90 - ETA: 42s - loss: 0.2670 - acc: 0.89 - ETA: 42s - loss: 0.2790 - acc: 0.89 - ETA: 42s - loss: 0.2749 - acc: 0.89 - ETA: 42s - loss: 0.2837 - acc: 0.89 - ETA: 42s - loss: 0.2817 - acc: 0.89 - ETA: 42s - loss: 0.2823 - acc: 0.89 - ETA: 42s - loss: 0.2827 - acc: 0.89 - ETA: 42s - loss: 0.2814 - acc: 0.89 - ETA: 42s - loss: 0.2795 - acc: 0.89 - ETA: 41s - loss: 0.2770 - acc: 0.89 - ETA: 41s - loss: 0.2817 - acc: 0.89 - ETA: 41s - loss: 0.2808 - acc: 0.89 - ETA: 42s - loss: 0.2796 - acc: 0.89 - ETA: 43s - loss: 0.2809 - acc: 0.89 - ETA: 44s - loss: 0.2797 - acc: 0.89 - ETA: 45s - loss: 0.2787 - acc: 0.89 - ETA: 46s - loss: 0.2770 - acc: 0.89 - ETA: 47s - loss: 0.2755 - acc: 0.89 - ETA: 48s - loss: 0.2783 - acc: 0.89 - ETA: 48s - loss: 0.2796 - acc: 0.89 - ETA: 49s - loss: 0.2780 - acc: 0.89 - ETA: 50s - loss: 0.2777 - acc: 0.89 - ETA: 50s - loss: 0.2762 - acc: 0.89 - ETA: 50s - loss: 0.2766 - acc: 0.89 - ETA: 51s - loss: 0.2762 - acc: 0.89 - ETA: 51s - loss: 0.2766 - acc: 0.89 - ETA: 51s - loss: 0.2746 - acc: 0.89 - ETA: 51s - loss: 0.2735 - acc: 0.89 - ETA: 52s - loss: 0.2740 - acc: 0.89 - ETA: 52s - loss: 0.2731 - acc: 0.89 - ETA: 52s - loss: 0.2727 - acc: 0.89 - ETA: 52s - loss: 0.2743 - acc: 0.89 - ETA: 52s - loss: 0.2745 - acc: 0.89 - ETA: 52s - loss: 0.2757 - acc: 0.89 - ETA: 52s - loss: 0.2757 - acc: 0.89 - ETA: 52s - loss: 0.2751 - acc: 0.89 - ETA: 52s - loss: 0.2747 - acc: 0.89 - ETA: 52s - loss: 0.2761 - acc: 0.89 - ETA: 52s - loss: 0.2765 - acc: 0.89 - ETA: 52s - loss: 0.2761 - acc: 0.89 - ETA: 52s - loss: 0.2756 - acc: 0.89 - ETA: 52s - loss: 0.2740 - acc: 0.89 - ETA: 52s - loss: 0.2750 - acc: 0.89 - ETA: 52s - loss: 0.2739 - acc: 0.89 - ETA: 52s - loss: 0.2723 - acc: 0.89 - ETA: 51s - loss: 0.2726 - acc: 0.89 - ETA: 51s - loss: 0.2717 - acc: 0.89 - ETA: 51s - loss: 0.2721 - acc: 0.89 - ETA: 51s - loss: 0.2722 - acc: 0.89 - ETA: 51s - loss: 0.2729 - acc: 0.89 - ETA: 51s - loss: 0.2731 - acc: 0.89 - ETA: 50s - loss: 0.2738 - acc: 0.89 - ETA: 50s - loss: 0.2735 - acc: 0.89 - ETA: 50s - loss: 0.2740 - acc: 0.89 - ETA: 50s - loss: 0.2753 - acc: 0.89 - ETA: 50s - loss: 0.2751 - acc: 0.89 - ETA: 49s - loss: 0.2744 - acc: 0.89 - ETA: 49s - loss: 0.2754 - acc: 0.89 - ETA: 49s - loss: 0.2761 - acc: 0.89 - ETA: 49s - loss: 0.2762 - acc: 0.89 - ETA: 48s - loss: 0.2765 - acc: 0.89 - ETA: 48s - loss: 0.2764 - acc: 0.89 - ETA: 48s - loss: 0.2769 - acc: 0.89 - ETA: 48s - loss: 0.2765 - acc: 0.89 - ETA: 47s - loss: 0.2765 - acc: 0.89 - ETA: 47s - loss: 0.2762 - acc: 0.89 - ETA: 47s - loss: 0.2763 - acc: 0.89 - ETA: 46s - loss: 0.2758 - acc: 0.89 - ETA: 46s - loss: 0.2756 - acc: 0.89 - ETA: 46s - loss: 0.2764 - acc: 0.89 - ETA: 46s - loss: 0.2764 - acc: 0.89 - ETA: 45s - loss: 0.2763 - acc: 0.89 - ETA: 45s - loss: 0.2770 - acc: 0.89 - ETA: 45s - loss: 0.2767 - acc: 0.89 - ETA: 45s - loss: 0.2763 - acc: 0.89 - ETA: 44s - loss: 0.2757 - acc: 0.89 - ETA: 44s - loss: 0.2757 - acc: 0.89 - ETA: 44s - loss: 0.2757 - acc: 0.89 - ETA: 43s - loss: 0.2754 - acc: 0.89 - ETA: 43s - loss: 0.2755 - acc: 0.89 - ETA: 43s - loss: 0.2762 - acc: 0.89 - ETA: 43s - loss: 0.2760 - acc: 0.89 - ETA: 42s - loss: 0.2755 - acc: 0.89 - ETA: 42s - loss: 0.2752 - acc: 0.89 - ETA: 42s - loss: 0.2757 - acc: 0.89 - ETA: 41s - loss: 0.2755 - acc: 0.89 - ETA: 41s - loss: 0.2758 - acc: 0.89 - ETA: 41s - loss: 0.2753 - acc: 0.89 - ETA: 40s - loss: 0.2752 - acc: 0.89 - ETA: 40s - loss: 0.2758 - acc: 0.89 - ETA: 40s - loss: 0.2757 - acc: 0.89 - ETA: 39s - loss: 0.2749 - acc: 0.89 - ETA: 39s - loss: 0.2751 - acc: 0.89 - ETA: 39s - loss: 0.2751 - acc: 0.89 - ETA: 38s - loss: 0.2759 - acc: 0.89 - ETA: 38s - loss: 0.2762 - acc: 0.89 - ETA: 38s - loss: 0.2761 - acc: 0.89 - ETA: 37s - loss: 0.2758 - acc: 0.89 - ETA: 37s - loss: 0.2756 - acc: 0.89 - ETA: 37s - loss: 0.2753 - acc: 0.89 - ETA: 36s - loss: 0.2750 - acc: 0.89 - ETA: 36s - loss: 0.2742 - acc: 0.89 - ETA: 36s - loss: 0.2756 - acc: 0.89 - ETA: 35s - loss: 0.2753 - acc: 0.89 - ETA: 35s - loss: 0.2752 - acc: 0.89 - ETA: 35s - loss: 0.2751 - acc: 0.89 - ETA: 34s - loss: 0.2755 - acc: 0.89 - ETA: 34s - loss: 0.2757 - acc: 0.89 - ETA: 34s - loss: 0.2756 - acc: 0.89 - ETA: 33s - loss: 0.2757 - acc: 0.89 - ETA: 33s - loss: 0.2754 - acc: 0.89 - ETA: 33s - loss: 0.2751 - acc: 0.89 - ETA: 32s - loss: 0.2755 - acc: 0.89 - ETA: 32s - loss: 0.2750 - acc: 0.89 - ETA: 31s - loss: 0.2745 - acc: 0.89 - ETA: 31s - loss: 0.2743 - acc: 0.89 - ETA: 31s - loss: 0.2742 - acc: 0.89 - ETA: 30s - loss: 0.2738 - acc: 0.89 - ETA: 30s - loss: 0.2735 - acc: 0.89 - ETA: 30s - loss: 0.2735 - acc: 0.89 - ETA: 29s - loss: 0.2734 - acc: 0.89 - ETA: 29s - loss: 0.2731 - acc: 0.89 - ETA: 28s - loss: 0.2728 - acc: 0.89 - ETA: 28s - loss: 0.2732 - acc: 0.89 - ETA: 28s - loss: 0.2734 - acc: 0.89 - ETA: 27s - loss: 0.2736 - acc: 0.89 - ETA: 27s - loss: 0.2735 - acc: 0.89 - ETA: 26s - loss: 0.2734 - acc: 0.89 - ETA: 26s - loss: 0.2734 - acc: 0.89 - ETA: 26s - loss: 0.2733 - acc: 0.89 - ETA: 25s - loss: 0.2729 - acc: 0.89 - ETA: 25s - loss: 0.2727 - acc: 0.89 - ETA: 24s - loss: 0.2722 - acc: 0.89 - ETA: 24s - loss: 0.2722 - acc: 0.89 - ETA: 24s - loss: 0.2720 - acc: 0.89 - ETA: 23s - loss: 0.2715 - acc: 0.89 - ETA: 23s - loss: 0.2713 - acc: 0.89 - ETA: 23s - loss: 0.2716 - acc: 0.89 - ETA: 22s - loss: 0.2714 - acc: 0.89 - ETA: 22s - loss: 0.2714 - acc: 0.89 - ETA: 21s - loss: 0.2714 - acc: 0.89 - ETA: 21s - loss: 0.2714 - acc: 0.89 - ETA: 21s - loss: 0.2714 - acc: 0.89 - ETA: 20s - loss: 0.2717 - acc: 0.89 - ETA: 20s - loss: 0.2715 - acc: 0.89 - ETA: 19s - loss: 0.2714 - acc: 0.89 - ETA: 19s - loss: 0.2711 - acc: 0.89 - ETA: 19s - loss: 0.2709 - acc: 0.89 - ETA: 18s - loss: 0.2708 - acc: 0.89 - ETA: 18s - loss: 0.2703 - acc: 0.89 - ETA: 17s - loss: 0.2707 - acc: 0.89 - ETA: 17s - loss: 0.2701 - acc: 0.89 - ETA: 17s - loss: 0.2703 - acc: 0.89 - ETA: 16s - loss: 0.2703 - acc: 0.89 - ETA: 16s - loss: 0.2699 - acc: 0.89 - ETA: 15s - loss: 0.2695 - acc: 0.89 - ETA: 15s - loss: 0.2695 - acc: 0.89 - ETA: 15s - loss: 0.2696 - acc: 0.89 - ETA: 14s - loss: 0.2693 - acc: 0.89 - ETA: 14s - loss: 0.2690 - acc: 0.89 - ETA: 13s - loss: 0.2689 - acc: 0.89 - ETA: 13s - loss: 0.2687 - acc: 0.89 - ETA: 13s - loss: 0.2684 - acc: 0.89 - ETA: 12s - loss: 0.2684 - acc: 0.89 - ETA: 12s - loss: 0.2680 - acc: 0.89 - ETA: 11s - loss: 0.2679 - acc: 0.89 - ETA: 11s - loss: 0.2681 - acc: 0.89 - ETA: 11s - loss: 0.2681 - acc: 0.89 - ETA: 10s - loss: 0.2678 - acc: 0.89 - ETA: 10s - loss: 0.2680 - acc: 0.89 - ETA: 9s - loss: 0.2682 - acc: 0.8984 - ETA: 9s - loss: 0.2679 - acc: 0.898 - ETA: 9s - loss: 0.2681 - acc: 0.898 - ETA: 8s - loss: 0.2680 - acc: 0.898 - ETA: 8s - loss: 0.2687 - acc: 0.898 - ETA: 7s - loss: 0.2686 - acc: 0.898 - ETA: 7s - loss: 0.2688 - acc: 0.898 - ETA: 7s - loss: 0.2686 - acc: 0.898 - ETA: 6s - loss: 0.2685 - acc: 0.898 - ETA: 6s - loss: 0.2682 - acc: 0.898 - ETA: 5s - loss: 0.2679 - acc: 0.898 - ETA: 5s - loss: 0.2679 - acc: 0.898 - ETA: 5s - loss: 0.2678 - acc: 0.898 - ETA: 4s - loss: 0.2677 - acc: 0.898 - ETA: 4s - loss: 0.2676 - acc: 0.898 - ETA: 4s - loss: 0.2676 - acc: 0.898 - ETA: 3s - loss: 0.2674 - acc: 0.898 - ETA: 3s - loss: 0.2671 - acc: 0.898 - ETA: 2s - loss: 0.2670 - acc: 0.898 - ETA: 2s - loss: 0.2666 - acc: 0.898 - ETA: 2s - loss: 0.2667 - acc: 0.898 - ETA: 1s - loss: 0.2669 - acc: 0.898 - ETA: 1s - loss: 0.2670 - acc: 0.898 - ETA: 0s - loss: 0.2669 - acc: 0.898 - ETA: 0s - loss: 0.2669 - acc: 0.898 - 85s 420ms/step - loss: 0.2666 - acc: 0.8990 - val_loss: 1.1238 - val_acc: 0.8808\n",
      "\n",
      "Epoch 00009: val_acc improved from 0.87984 to 0.88077, saving model to task3_keras_1.h5\n",
      "Epoch 10/20\n"
     ]
    },
    {
     "name": "stdout",
     "output_type": "stream",
     "text": [
      "203/203 [==============================] - ETA: 48s - loss: 0.1983 - acc: 0.91 - ETA: 48s - loss: 0.2094 - acc: 0.92 - ETA: 47s - loss: 0.2282 - acc: 0.91 - ETA: 47s - loss: 0.2508 - acc: 0.90 - ETA: 46s - loss: 0.2455 - acc: 0.90 - ETA: 46s - loss: 0.2664 - acc: 0.90 - ETA: 45s - loss: 0.2644 - acc: 0.90 - ETA: 45s - loss: 0.2651 - acc: 0.89 - ETA: 42s - loss: 0.2635 - acc: 0.90 - ETA: 43s - loss: 0.2634 - acc: 0.90 - ETA: 43s - loss: 0.2653 - acc: 0.90 - ETA: 43s - loss: 0.2617 - acc: 0.90 - ETA: 43s - loss: 0.2609 - acc: 0.90 - ETA: 43s - loss: 0.2611 - acc: 0.90 - ETA: 42s - loss: 0.2580 - acc: 0.90 - ETA: 42s - loss: 0.2575 - acc: 0.90 - ETA: 42s - loss: 0.2564 - acc: 0.90 - ETA: 42s - loss: 0.2546 - acc: 0.90 - ETA: 42s - loss: 0.2556 - acc: 0.90 - ETA: 42s - loss: 0.2556 - acc: 0.90 - ETA: 44s - loss: 0.2534 - acc: 0.90 - ETA: 45s - loss: 0.2544 - acc: 0.90 - ETA: 46s - loss: 0.2574 - acc: 0.90 - ETA: 47s - loss: 0.2578 - acc: 0.90 - ETA: 48s - loss: 0.2571 - acc: 0.90 - ETA: 49s - loss: 0.2563 - acc: 0.90 - ETA: 49s - loss: 0.2574 - acc: 0.90 - ETA: 50s - loss: 0.2578 - acc: 0.90 - ETA: 51s - loss: 0.2594 - acc: 0.90 - ETA: 51s - loss: 0.2602 - acc: 0.90 - ETA: 51s - loss: 0.2594 - acc: 0.90 - ETA: 52s - loss: 0.2597 - acc: 0.90 - ETA: 52s - loss: 0.2606 - acc: 0.90 - ETA: 52s - loss: 0.2610 - acc: 0.90 - ETA: 52s - loss: 0.2624 - acc: 0.89 - ETA: 52s - loss: 0.2620 - acc: 0.89 - ETA: 53s - loss: 0.2611 - acc: 0.90 - ETA: 53s - loss: 0.2619 - acc: 0.90 - ETA: 53s - loss: 0.2622 - acc: 0.90 - ETA: 53s - loss: 0.2613 - acc: 0.90 - ETA: 53s - loss: 0.2608 - acc: 0.90 - ETA: 53s - loss: 0.2595 - acc: 0.90 - ETA: 53s - loss: 0.2622 - acc: 0.90 - ETA: 53s - loss: 0.2620 - acc: 0.90 - ETA: 53s - loss: 0.2622 - acc: 0.90 - ETA: 52s - loss: 0.2627 - acc: 0.90 - ETA: 52s - loss: 0.2617 - acc: 0.90 - ETA: 52s - loss: 0.2619 - acc: 0.90 - ETA: 52s - loss: 0.2624 - acc: 0.90 - ETA: 52s - loss: 0.2617 - acc: 0.90 - ETA: 52s - loss: 0.2610 - acc: 0.90 - ETA: 52s - loss: 0.2603 - acc: 0.90 - ETA: 51s - loss: 0.2614 - acc: 0.90 - ETA: 51s - loss: 0.2616 - acc: 0.90 - ETA: 51s - loss: 0.2616 - acc: 0.90 - ETA: 51s - loss: 0.2613 - acc: 0.90 - ETA: 51s - loss: 0.2605 - acc: 0.90 - ETA: 50s - loss: 0.2601 - acc: 0.90 - ETA: 50s - loss: 0.2602 - acc: 0.90 - ETA: 50s - loss: 0.2597 - acc: 0.90 - ETA: 50s - loss: 0.2596 - acc: 0.90 - ETA: 50s - loss: 0.2587 - acc: 0.90 - ETA: 49s - loss: 0.2580 - acc: 0.90 - ETA: 49s - loss: 0.2591 - acc: 0.90 - ETA: 49s - loss: 0.2588 - acc: 0.90 - ETA: 49s - loss: 0.2605 - acc: 0.90 - ETA: 48s - loss: 0.2605 - acc: 0.90 - ETA: 48s - loss: 0.2599 - acc: 0.90 - ETA: 48s - loss: 0.2597 - acc: 0.90 - ETA: 48s - loss: 0.2593 - acc: 0.90 - ETA: 47s - loss: 0.2594 - acc: 0.90 - ETA: 47s - loss: 0.2594 - acc: 0.90 - ETA: 47s - loss: 0.2587 - acc: 0.90 - ETA: 46s - loss: 0.2588 - acc: 0.90 - ETA: 46s - loss: 0.2595 - acc: 0.90 - ETA: 46s - loss: 0.2600 - acc: 0.90 - ETA: 46s - loss: 0.2604 - acc: 0.90 - ETA: 45s - loss: 0.2608 - acc: 0.90 - ETA: 45s - loss: 0.2604 - acc: 0.90 - ETA: 45s - loss: 0.2609 - acc: 0.90 - ETA: 44s - loss: 0.2603 - acc: 0.90 - ETA: 44s - loss: 0.2604 - acc: 0.90 - ETA: 44s - loss: 0.2604 - acc: 0.90 - ETA: 43s - loss: 0.2605 - acc: 0.90 - ETA: 43s - loss: 0.2602 - acc: 0.90 - ETA: 43s - loss: 0.2601 - acc: 0.90 - ETA: 42s - loss: 0.2603 - acc: 0.90 - ETA: 42s - loss: 0.2598 - acc: 0.90 - ETA: 42s - loss: 0.2593 - acc: 0.90 - ETA: 41s - loss: 0.2601 - acc: 0.90 - ETA: 41s - loss: 0.2601 - acc: 0.90 - ETA: 41s - loss: 0.2601 - acc: 0.90 - ETA: 40s - loss: 0.2597 - acc: 0.90 - ETA: 40s - loss: 0.2595 - acc: 0.90 - ETA: 40s - loss: 0.2593 - acc: 0.90 - ETA: 39s - loss: 0.2584 - acc: 0.90 - ETA: 39s - loss: 0.2582 - acc: 0.90 - ETA: 39s - loss: 0.2582 - acc: 0.90 - ETA: 38s - loss: 0.2584 - acc: 0.90 - ETA: 38s - loss: 0.2588 - acc: 0.90 - ETA: 38s - loss: 0.2591 - acc: 0.90 - ETA: 37s - loss: 0.2593 - acc: 0.90 - ETA: 37s - loss: 0.2593 - acc: 0.90 - ETA: 37s - loss: 0.2594 - acc: 0.90 - ETA: 36s - loss: 0.2596 - acc: 0.90 - ETA: 36s - loss: 0.2594 - acc: 0.90 - ETA: 36s - loss: 0.2592 - acc: 0.90 - ETA: 35s - loss: 0.2588 - acc: 0.90 - ETA: 35s - loss: 0.2581 - acc: 0.90 - ETA: 35s - loss: 0.2577 - acc: 0.90 - ETA: 34s - loss: 0.2591 - acc: 0.90 - ETA: 34s - loss: 0.2598 - acc: 0.90 - ETA: 34s - loss: 0.2608 - acc: 0.90 - ETA: 33s - loss: 0.2612 - acc: 0.90 - ETA: 33s - loss: 0.2613 - acc: 0.90 - ETA: 32s - loss: 0.2614 - acc: 0.90 - ETA: 32s - loss: 0.2613 - acc: 0.90 - ETA: 32s - loss: 0.2612 - acc: 0.90 - ETA: 31s - loss: 0.2610 - acc: 0.90 - ETA: 31s - loss: 0.2611 - acc: 0.90 - ETA: 31s - loss: 0.2611 - acc: 0.90 - ETA: 30s - loss: 0.2609 - acc: 0.90 - ETA: 30s - loss: 0.2609 - acc: 0.90 - ETA: 30s - loss: 0.2605 - acc: 0.90 - ETA: 29s - loss: 0.2606 - acc: 0.90 - ETA: 29s - loss: 0.2604 - acc: 0.90 - ETA: 28s - loss: 0.2602 - acc: 0.90 - ETA: 28s - loss: 0.2603 - acc: 0.90 - ETA: 28s - loss: 0.2604 - acc: 0.90 - ETA: 27s - loss: 0.2608 - acc: 0.90 - ETA: 27s - loss: 0.2608 - acc: 0.89 - ETA: 27s - loss: 0.2608 - acc: 0.89 - ETA: 26s - loss: 0.2611 - acc: 0.90 - ETA: 26s - loss: 0.2609 - acc: 0.90 - ETA: 26s - loss: 0.2612 - acc: 0.90 - ETA: 25s - loss: 0.2614 - acc: 0.89 - ETA: 25s - loss: 0.2613 - acc: 0.89 - ETA: 24s - loss: 0.2616 - acc: 0.89 - ETA: 24s - loss: 0.2616 - acc: 0.89 - ETA: 24s - loss: 0.2618 - acc: 0.89 - ETA: 23s - loss: 0.2621 - acc: 0.89 - ETA: 23s - loss: 0.2618 - acc: 0.89 - ETA: 23s - loss: 0.2617 - acc: 0.89 - ETA: 22s - loss: 0.2620 - acc: 0.89 - ETA: 22s - loss: 0.2619 - acc: 0.89 - ETA: 21s - loss: 0.2619 - acc: 0.89 - ETA: 21s - loss: 0.2618 - acc: 0.89 - ETA: 21s - loss: 0.2619 - acc: 0.89 - ETA: 20s - loss: 0.2617 - acc: 0.89 - ETA: 20s - loss: 0.2620 - acc: 0.89 - ETA: 20s - loss: 0.2618 - acc: 0.89 - ETA: 19s - loss: 0.2617 - acc: 0.89 - ETA: 19s - loss: 0.2613 - acc: 0.90 - ETA: 18s - loss: 0.2608 - acc: 0.90 - ETA: 18s - loss: 0.2607 - acc: 0.90 - ETA: 18s - loss: 0.2608 - acc: 0.90 - ETA: 17s - loss: 0.2606 - acc: 0.90 - ETA: 17s - loss: 0.2607 - acc: 0.90 - ETA: 17s - loss: 0.2604 - acc: 0.90 - ETA: 16s - loss: 0.2602 - acc: 0.90 - ETA: 16s - loss: 0.2603 - acc: 0.90 - ETA: 15s - loss: 0.2600 - acc: 0.90 - ETA: 15s - loss: 0.2606 - acc: 0.90 - ETA: 15s - loss: 0.2607 - acc: 0.90 - ETA: 14s - loss: 0.2608 - acc: 0.90 - ETA: 14s - loss: 0.2612 - acc: 0.90 - ETA: 13s - loss: 0.2612 - acc: 0.90 - ETA: 13s - loss: 0.2612 - acc: 0.90 - ETA: 13s - loss: 0.2610 - acc: 0.90 - ETA: 12s - loss: 0.2605 - acc: 0.90 - ETA: 12s - loss: 0.2603 - acc: 0.90 - ETA: 12s - loss: 0.2604 - acc: 0.90 - ETA: 11s - loss: 0.2602 - acc: 0.90 - ETA: 11s - loss: 0.2603 - acc: 0.90 - ETA: 10s - loss: 0.2606 - acc: 0.90 - ETA: 10s - loss: 0.2604 - acc: 0.90 - ETA: 10s - loss: 0.2604 - acc: 0.90 - ETA: 9s - loss: 0.2608 - acc: 0.9005 - ETA: 9s - loss: 0.2606 - acc: 0.900 - ETA: 8s - loss: 0.2602 - acc: 0.900 - ETA: 8s - loss: 0.2601 - acc: 0.901 - ETA: 8s - loss: 0.2604 - acc: 0.900 - ETA: 7s - loss: 0.2606 - acc: 0.900 - ETA: 7s - loss: 0.2606 - acc: 0.900 - ETA: 7s - loss: 0.2608 - acc: 0.900 - ETA: 6s - loss: 0.2608 - acc: 0.900 - ETA: 6s - loss: 0.2609 - acc: 0.900 - ETA: 5s - loss: 0.2609 - acc: 0.900 - ETA: 5s - loss: 0.2610 - acc: 0.900 - ETA: 5s - loss: 0.2613 - acc: 0.900 - ETA: 4s - loss: 0.2609 - acc: 0.900 - ETA: 4s - loss: 0.2612 - acc: 0.900 - ETA: 3s - loss: 0.2608 - acc: 0.900 - ETA: 3s - loss: 0.2614 - acc: 0.900 - ETA: 3s - loss: 0.2615 - acc: 0.900 - ETA: 2s - loss: 0.2614 - acc: 0.900 - ETA: 2s - loss: 0.2613 - acc: 0.900 - ETA: 1s - loss: 0.2615 - acc: 0.900 - ETA: 1s - loss: 0.2613 - acc: 0.900 - ETA: 1s - loss: 0.2613 - acc: 0.900 - ETA: 0s - loss: 0.2613 - acc: 0.900 - ETA: 0s - loss: 0.2611 - acc: 0.900 - 84s 412ms/step - loss: 0.2614 - acc: 0.9007 - val_loss: 0.8463 - val_acc: 0.8793\n",
      "\n",
      "Epoch 00010: val_acc did not improve from 0.88077\n",
      "Epoch 11/20\n",
      "203/203 [==============================] - ETA: 45s - loss: 0.2579 - acc: 0.88 - ETA: 45s - loss: 0.2754 - acc: 0.88 - ETA: 45s - loss: 0.2756 - acc: 0.88 - ETA: 45s - loss: 0.2824 - acc: 0.88 - ETA: 45s - loss: 0.2778 - acc: 0.88 - ETA: 45s - loss: 0.2699 - acc: 0.89 - ETA: 44s - loss: 0.2608 - acc: 0.89 - ETA: 44s - loss: 0.2632 - acc: 0.89 - ETA: 44s - loss: 0.2620 - acc: 0.89 - ETA: 41s - loss: 0.2572 - acc: 0.89 - ETA: 41s - loss: 0.2579 - acc: 0.89 - ETA: 41s - loss: 0.2558 - acc: 0.89 - ETA: 41s - loss: 0.2530 - acc: 0.89 - ETA: 41s - loss: 0.2495 - acc: 0.89 - ETA: 41s - loss: 0.2473 - acc: 0.90 - ETA: 41s - loss: 0.2477 - acc: 0.90 - ETA: 40s - loss: 0.2469 - acc: 0.90 - ETA: 40s - loss: 0.2468 - acc: 0.90 - ETA: 40s - loss: 0.2461 - acc: 0.90 - ETA: 41s - loss: 0.2476 - acc: 0.90 - ETA: 42s - loss: 0.2450 - acc: 0.90 - ETA: 44s - loss: 0.2449 - acc: 0.90 - ETA: 45s - loss: 0.2449 - acc: 0.90 - ETA: 45s - loss: 0.2444 - acc: 0.90 - ETA: 46s - loss: 0.2444 - acc: 0.90 - ETA: 47s - loss: 0.2443 - acc: 0.90 - ETA: 48s - loss: 0.2467 - acc: 0.90 - ETA: 48s - loss: 0.2465 - acc: 0.90 - ETA: 49s - loss: 0.2476 - acc: 0.90 - ETA: 49s - loss: 0.2485 - acc: 0.90 - ETA: 49s - loss: 0.2484 - acc: 0.90 - ETA: 50s - loss: 0.2476 - acc: 0.90 - ETA: 50s - loss: 0.2486 - acc: 0.90 - ETA: 50s - loss: 0.2511 - acc: 0.90 - ETA: 51s - loss: 0.2515 - acc: 0.90 - ETA: 51s - loss: 0.2508 - acc: 0.90 - ETA: 51s - loss: 0.2530 - acc: 0.90 - ETA: 51s - loss: 0.2528 - acc: 0.90 - ETA: 51s - loss: 0.2526 - acc: 0.90 - ETA: 51s - loss: 0.2523 - acc: 0.90 - ETA: 51s - loss: 0.2522 - acc: 0.90 - ETA: 51s - loss: 0.2522 - acc: 0.90 - ETA: 51s - loss: 0.2513 - acc: 0.90 - ETA: 51s - loss: 0.2508 - acc: 0.90 - ETA: 51s - loss: 0.2506 - acc: 0.90 - ETA: 51s - loss: 0.2495 - acc: 0.90 - ETA: 51s - loss: 0.2486 - acc: 0.90 - ETA: 51s - loss: 0.2477 - acc: 0.90 - ETA: 51s - loss: 0.2495 - acc: 0.90 - ETA: 51s - loss: 0.2488 - acc: 0.90 - ETA: 51s - loss: 0.2499 - acc: 0.90 - ETA: 51s - loss: 0.2490 - acc: 0.90 - ETA: 51s - loss: 0.2494 - acc: 0.90 - ETA: 50s - loss: 0.2499 - acc: 0.90 - ETA: 50s - loss: 0.2493 - acc: 0.90 - ETA: 50s - loss: 0.2510 - acc: 0.90 - ETA: 50s - loss: 0.2515 - acc: 0.90 - ETA: 50s - loss: 0.2516 - acc: 0.90 - ETA: 50s - loss: 0.2517 - acc: 0.90 - ETA: 49s - loss: 0.2511 - acc: 0.90 - ETA: 49s - loss: 0.2531 - acc: 0.90 - ETA: 49s - loss: 0.2533 - acc: 0.90 - ETA: 49s - loss: 0.2527 - acc: 0.90 - ETA: 49s - loss: 0.2536 - acc: 0.90 - ETA: 49s - loss: 0.2532 - acc: 0.90 - ETA: 48s - loss: 0.2540 - acc: 0.90 - ETA: 48s - loss: 0.2538 - acc: 0.90 - ETA: 48s - loss: 0.2536 - acc: 0.90 - ETA: 48s - loss: 0.2539 - acc: 0.90 - ETA: 47s - loss: 0.2534 - acc: 0.90 - ETA: 47s - loss: 0.2535 - acc: 0.90 - ETA: 47s - loss: 0.2528 - acc: 0.90 - ETA: 46s - loss: 0.2525 - acc: 0.90 - ETA: 46s - loss: 0.2528 - acc: 0.90 - ETA: 46s - loss: 0.2528 - acc: 0.90 - ETA: 46s - loss: 0.2533 - acc: 0.90 - ETA: 45s - loss: 0.2530 - acc: 0.90 - ETA: 45s - loss: 0.2534 - acc: 0.90 - ETA: 45s - loss: 0.2533 - acc: 0.90 - ETA: 44s - loss: 0.2529 - acc: 0.90 - ETA: 44s - loss: 0.2527 - acc: 0.90 - ETA: 44s - loss: 0.2524 - acc: 0.90 - ETA: 43s - loss: 0.2522 - acc: 0.90 - ETA: 43s - loss: 0.2526 - acc: 0.90 - ETA: 43s - loss: 0.2527 - acc: 0.90 - ETA: 43s - loss: 0.2524 - acc: 0.90 - ETA: 42s - loss: 0.2528 - acc: 0.90 - ETA: 42s - loss: 0.2537 - acc: 0.90 - ETA: 42s - loss: 0.2536 - acc: 0.90 - ETA: 41s - loss: 0.2537 - acc: 0.90 - ETA: 41s - loss: 0.2534 - acc: 0.90 - ETA: 41s - loss: 0.2533 - acc: 0.90 - ETA: 40s - loss: 0.2533 - acc: 0.90 - ETA: 40s - loss: 0.2533 - acc: 0.90 - ETA: 40s - loss: 0.2536 - acc: 0.90 - ETA: 39s - loss: 0.2535 - acc: 0.90 - ETA: 39s - loss: 0.2536 - acc: 0.90 - ETA: 39s - loss: 0.2533 - acc: 0.90 - ETA: 38s - loss: 0.2538 - acc: 0.90 - ETA: 38s - loss: 0.2539 - acc: 0.90 - ETA: 38s - loss: 0.2543 - acc: 0.90 - ETA: 37s - loss: 0.2544 - acc: 0.90 - ETA: 37s - loss: 0.2543 - acc: 0.90 - ETA: 37s - loss: 0.2541 - acc: 0.90 - ETA: 36s - loss: 0.2534 - acc: 0.90 - ETA: 36s - loss: 0.2540 - acc: 0.90 - ETA: 36s - loss: 0.2537 - acc: 0.90 - ETA: 35s - loss: 0.2535 - acc: 0.90 - ETA: 35s - loss: 0.2540 - acc: 0.90 - ETA: 34s - loss: 0.2539 - acc: 0.90 - ETA: 34s - loss: 0.2545 - acc: 0.90 - ETA: 34s - loss: 0.2542 - acc: 0.90 - ETA: 33s - loss: 0.2546 - acc: 0.90 - ETA: 33s - loss: 0.2543 - acc: 0.90 - ETA: 33s - loss: 0.2543 - acc: 0.90 - ETA: 32s - loss: 0.2541 - acc: 0.90 - ETA: 32s - loss: 0.2541 - acc: 0.90 - ETA: 32s - loss: 0.2542 - acc: 0.90 - ETA: 31s - loss: 0.2544 - acc: 0.90 - ETA: 31s - loss: 0.2545 - acc: 0.90 - ETA: 31s - loss: 0.2546 - acc: 0.90 - ETA: 30s - loss: 0.2543 - acc: 0.90 - ETA: 30s - loss: 0.2538 - acc: 0.90 - ETA: 29s - loss: 0.2538 - acc: 0.90 - ETA: 29s - loss: 0.2534 - acc: 0.90 - ETA: 29s - loss: 0.2534 - acc: 0.90 - ETA: 28s - loss: 0.2530 - acc: 0.90 - ETA: 28s - loss: 0.2531 - acc: 0.90 - ETA: 28s - loss: 0.2530 - acc: 0.90 - ETA: 27s - loss: 0.2535 - acc: 0.90 - ETA: 27s - loss: 0.2536 - acc: 0.90 - ETA: 27s - loss: 0.2543 - acc: 0.90 - ETA: 26s - loss: 0.2544 - acc: 0.90 - ETA: 26s - loss: 0.2546 - acc: 0.90 - ETA: 25s - loss: 0.2545 - acc: 0.90 - ETA: 25s - loss: 0.2556 - acc: 0.90 - ETA: 25s - loss: 0.2555 - acc: 0.90 - ETA: 24s - loss: 0.2551 - acc: 0.90 - ETA: 24s - loss: 0.2561 - acc: 0.90 - ETA: 24s - loss: 0.2561 - acc: 0.90 - ETA: 23s - loss: 0.2561 - acc: 0.90 - ETA: 23s - loss: 0.2560 - acc: 0.90 - ETA: 22s - loss: 0.2563 - acc: 0.90 - ETA: 22s - loss: 0.2565 - acc: 0.90 - ETA: 22s - loss: 0.2571 - acc: 0.90 - ETA: 21s - loss: 0.2570 - acc: 0.90 - ETA: 21s - loss: 0.2577 - acc: 0.90 - ETA: 21s - loss: 0.2578 - acc: 0.90 - ETA: 20s - loss: 0.2577 - acc: 0.90 - ETA: 20s - loss: 0.2581 - acc: 0.90 - ETA: 19s - loss: 0.2580 - acc: 0.90 - ETA: 19s - loss: 0.2578 - acc: 0.90 - ETA: 19s - loss: 0.2576 - acc: 0.90 - ETA: 18s - loss: 0.2576 - acc: 0.90 - ETA: 18s - loss: 0.2574 - acc: 0.90 - ETA: 18s - loss: 0.2571 - acc: 0.90 - ETA: 17s - loss: 0.2569 - acc: 0.90 - ETA: 17s - loss: 0.2566 - acc: 0.90 - ETA: 16s - loss: 0.2562 - acc: 0.90 - ETA: 16s - loss: 0.2562 - acc: 0.90 - ETA: 16s - loss: 0.2559 - acc: 0.90 - ETA: 15s - loss: 0.2561 - acc: 0.90 - ETA: 15s - loss: 0.2559 - acc: 0.90 - ETA: 15s - loss: 0.2557 - acc: 0.90 - ETA: 14s - loss: 0.2556 - acc: 0.90 - ETA: 14s - loss: 0.2558 - acc: 0.90 - ETA: 13s - loss: 0.2557 - acc: 0.90 - ETA: 13s - loss: 0.2563 - acc: 0.90 - ETA: 13s - loss: 0.2566 - acc: 0.90 - ETA: 12s - loss: 0.2565 - acc: 0.90 - ETA: 12s - loss: 0.2566 - acc: 0.90 - ETA: 12s - loss: 0.2562 - acc: 0.90 - ETA: 11s - loss: 0.2566 - acc: 0.90 - ETA: 11s - loss: 0.2565 - acc: 0.90 - ETA: 10s - loss: 0.2561 - acc: 0.90 - ETA: 10s - loss: 0.2557 - acc: 0.90 - ETA: 10s - loss: 0.2564 - acc: 0.90 - ETA: 9s - loss: 0.2563 - acc: 0.9031 - ETA: 9s - loss: 0.2565 - acc: 0.903 - ETA: 8s - loss: 0.2564 - acc: 0.903 - ETA: 8s - loss: 0.2565 - acc: 0.902 - ETA: 8s - loss: 0.2565 - acc: 0.902 - ETA: 7s - loss: 0.2570 - acc: 0.902 - ETA: 7s - loss: 0.2571 - acc: 0.902 - ETA: 7s - loss: 0.2570 - acc: 0.902 - ETA: 6s - loss: 0.2569 - acc: 0.902 - ETA: 6s - loss: 0.2570 - acc: 0.902 - ETA: 5s - loss: 0.2571 - acc: 0.902 - ETA: 5s - loss: 0.2569 - acc: 0.902 - ETA: 5s - loss: 0.2569 - acc: 0.902 - ETA: 4s - loss: 0.2568 - acc: 0.902 - ETA: 4s - loss: 0.2566 - acc: 0.902 - ETA: 3s - loss: 0.2565 - acc: 0.902 - ETA: 3s - loss: 0.2563 - acc: 0.902 - ETA: 3s - loss: 0.2561 - acc: 0.902 - ETA: 2s - loss: 0.2562 - acc: 0.902 - ETA: 2s - loss: 0.2560 - acc: 0.902 - ETA: 1s - loss: 0.2564 - acc: 0.902 - ETA: 1s - loss: 0.2564 - acc: 0.902 - ETA: 1s - loss: 0.2563 - acc: 0.902 - ETA: 0s - loss: 0.2558 - acc: 0.902 - ETA: 0s - loss: 0.2561 - acc: 0.902 - 83s 410ms/step - loss: 0.2561 - acc: 0.9029 - val_loss: 0.8820 - val_acc: 0.8795\n",
      "\n",
      "Epoch 00011: val_acc did not improve from 0.88077\n",
      "Epoch 12/20\n"
     ]
    },
    {
     "name": "stdout",
     "output_type": "stream",
     "text": [
      "203/203 [==============================] - ETA: 46s - loss: 0.2210 - acc: 0.91 - ETA: 46s - loss: 0.2039 - acc: 0.92 - ETA: 45s - loss: 0.2215 - acc: 0.91 - ETA: 45s - loss: 0.2344 - acc: 0.90 - ETA: 45s - loss: 0.2294 - acc: 0.91 - ETA: 44s - loss: 0.2302 - acc: 0.91 - ETA: 44s - loss: 0.2271 - acc: 0.91 - ETA: 44s - loss: 0.2298 - acc: 0.91 - ETA: 44s - loss: 0.2386 - acc: 0.90 - ETA: 43s - loss: 0.2397 - acc: 0.90 - ETA: 41s - loss: 0.2362 - acc: 0.90 - ETA: 41s - loss: 0.2378 - acc: 0.90 - ETA: 41s - loss: 0.2408 - acc: 0.90 - ETA: 41s - loss: 0.2378 - acc: 0.90 - ETA: 41s - loss: 0.2411 - acc: 0.90 - ETA: 41s - loss: 0.2453 - acc: 0.90 - ETA: 40s - loss: 0.2460 - acc: 0.90 - ETA: 40s - loss: 0.2459 - acc: 0.90 - ETA: 40s - loss: 0.2471 - acc: 0.90 - ETA: 41s - loss: 0.2452 - acc: 0.90 - ETA: 42s - loss: 0.2429 - acc: 0.90 - ETA: 43s - loss: 0.2453 - acc: 0.90 - ETA: 44s - loss: 0.2462 - acc: 0.90 - ETA: 45s - loss: 0.2453 - acc: 0.90 - ETA: 46s - loss: 0.2453 - acc: 0.90 - ETA: 47s - loss: 0.2464 - acc: 0.90 - ETA: 47s - loss: 0.2461 - acc: 0.90 - ETA: 48s - loss: 0.2462 - acc: 0.90 - ETA: 48s - loss: 0.2446 - acc: 0.90 - ETA: 49s - loss: 0.2456 - acc: 0.90 - ETA: 49s - loss: 0.2444 - acc: 0.90 - ETA: 50s - loss: 0.2436 - acc: 0.90 - ETA: 50s - loss: 0.2441 - acc: 0.90 - ETA: 50s - loss: 0.2427 - acc: 0.90 - ETA: 50s - loss: 0.2439 - acc: 0.90 - ETA: 51s - loss: 0.2453 - acc: 0.90 - ETA: 51s - loss: 0.2465 - acc: 0.90 - ETA: 51s - loss: 0.2455 - acc: 0.90 - ETA: 51s - loss: 0.2445 - acc: 0.90 - ETA: 51s - loss: 0.2451 - acc: 0.90 - ETA: 51s - loss: 0.2465 - acc: 0.90 - ETA: 51s - loss: 0.2471 - acc: 0.90 - ETA: 51s - loss: 0.2480 - acc: 0.90 - ETA: 51s - loss: 0.2482 - acc: 0.90 - ETA: 51s - loss: 0.2473 - acc: 0.90 - ETA: 51s - loss: 0.2491 - acc: 0.90 - ETA: 51s - loss: 0.2487 - acc: 0.90 - ETA: 51s - loss: 0.2496 - acc: 0.90 - ETA: 51s - loss: 0.2487 - acc: 0.90 - ETA: 51s - loss: 0.2481 - acc: 0.90 - ETA: 50s - loss: 0.2473 - acc: 0.90 - ETA: 50s - loss: 0.2494 - acc: 0.90 - ETA: 50s - loss: 0.2501 - acc: 0.90 - ETA: 50s - loss: 0.2514 - acc: 0.90 - ETA: 50s - loss: 0.2514 - acc: 0.90 - ETA: 50s - loss: 0.2512 - acc: 0.90 - ETA: 49s - loss: 0.2512 - acc: 0.90 - ETA: 49s - loss: 0.2507 - acc: 0.90 - ETA: 49s - loss: 0.2517 - acc: 0.90 - ETA: 49s - loss: 0.2522 - acc: 0.90 - ETA: 49s - loss: 0.2521 - acc: 0.90 - ETA: 48s - loss: 0.2527 - acc: 0.90 - ETA: 48s - loss: 0.2530 - acc: 0.90 - ETA: 48s - loss: 0.2530 - acc: 0.90 - ETA: 48s - loss: 0.2523 - acc: 0.90 - ETA: 48s - loss: 0.2521 - acc: 0.90 - ETA: 47s - loss: 0.2518 - acc: 0.90 - ETA: 47s - loss: 0.2519 - acc: 0.90 - ETA: 47s - loss: 0.2515 - acc: 0.90 - ETA: 47s - loss: 0.2510 - acc: 0.90 - ETA: 46s - loss: 0.2498 - acc: 0.90 - ETA: 46s - loss: 0.2496 - acc: 0.90 - ETA: 46s - loss: 0.2508 - acc: 0.90 - ETA: 46s - loss: 0.2507 - acc: 0.90 - ETA: 45s - loss: 0.2503 - acc: 0.90 - ETA: 45s - loss: 0.2502 - acc: 0.90 - ETA: 45s - loss: 0.2501 - acc: 0.90 - ETA: 45s - loss: 0.2497 - acc: 0.90 - ETA: 44s - loss: 0.2493 - acc: 0.90 - ETA: 44s - loss: 0.2490 - acc: 0.90 - ETA: 44s - loss: 0.2496 - acc: 0.90 - ETA: 43s - loss: 0.2498 - acc: 0.90 - ETA: 43s - loss: 0.2507 - acc: 0.90 - ETA: 43s - loss: 0.2507 - acc: 0.90 - ETA: 43s - loss: 0.2506 - acc: 0.90 - ETA: 42s - loss: 0.2504 - acc: 0.90 - ETA: 42s - loss: 0.2503 - acc: 0.90 - ETA: 42s - loss: 0.2509 - acc: 0.90 - ETA: 41s - loss: 0.2509 - acc: 0.90 - ETA: 41s - loss: 0.2505 - acc: 0.90 - ETA: 41s - loss: 0.2505 - acc: 0.90 - ETA: 40s - loss: 0.2504 - acc: 0.90 - ETA: 40s - loss: 0.2520 - acc: 0.90 - ETA: 40s - loss: 0.2525 - acc: 0.90 - ETA: 39s - loss: 0.2523 - acc: 0.90 - ETA: 39s - loss: 0.2522 - acc: 0.90 - ETA: 39s - loss: 0.2517 - acc: 0.90 - ETA: 38s - loss: 0.2514 - acc: 0.90 - ETA: 38s - loss: 0.2508 - acc: 0.90 - ETA: 38s - loss: 0.2512 - acc: 0.90 - ETA: 37s - loss: 0.2520 - acc: 0.90 - ETA: 37s - loss: 0.2519 - acc: 0.90 - ETA: 37s - loss: 0.2525 - acc: 0.90 - ETA: 36s - loss: 0.2526 - acc: 0.90 - ETA: 36s - loss: 0.2524 - acc: 0.90 - ETA: 36s - loss: 0.2522 - acc: 0.90 - ETA: 35s - loss: 0.2520 - acc: 0.90 - ETA: 35s - loss: 0.2526 - acc: 0.90 - ETA: 35s - loss: 0.2523 - acc: 0.90 - ETA: 34s - loss: 0.2521 - acc: 0.90 - ETA: 34s - loss: 0.2532 - acc: 0.90 - ETA: 34s - loss: 0.2539 - acc: 0.90 - ETA: 33s - loss: 0.2544 - acc: 0.90 - ETA: 33s - loss: 0.2542 - acc: 0.90 - ETA: 33s - loss: 0.2542 - acc: 0.90 - ETA: 32s - loss: 0.2546 - acc: 0.90 - ETA: 32s - loss: 0.2547 - acc: 0.90 - ETA: 32s - loss: 0.2551 - acc: 0.90 - ETA: 31s - loss: 0.2556 - acc: 0.90 - ETA: 31s - loss: 0.2562 - acc: 0.90 - ETA: 30s - loss: 0.2559 - acc: 0.90 - ETA: 30s - loss: 0.2562 - acc: 0.90 - ETA: 30s - loss: 0.2564 - acc: 0.90 - ETA: 29s - loss: 0.2562 - acc: 0.90 - ETA: 29s - loss: 0.2564 - acc: 0.90 - ETA: 29s - loss: 0.2568 - acc: 0.90 - ETA: 28s - loss: 0.2567 - acc: 0.90 - ETA: 28s - loss: 0.2568 - acc: 0.90 - ETA: 28s - loss: 0.2568 - acc: 0.90 - ETA: 27s - loss: 0.2565 - acc: 0.90 - ETA: 27s - loss: 0.2568 - acc: 0.90 - ETA: 26s - loss: 0.2568 - acc: 0.90 - ETA: 26s - loss: 0.2567 - acc: 0.90 - ETA: 26s - loss: 0.2563 - acc: 0.90 - ETA: 25s - loss: 0.2563 - acc: 0.90 - ETA: 25s - loss: 0.2559 - acc: 0.90 - ETA: 25s - loss: 0.2561 - acc: 0.90 - ETA: 24s - loss: 0.2566 - acc: 0.90 - ETA: 24s - loss: 0.2563 - acc: 0.90 - ETA: 24s - loss: 0.2566 - acc: 0.90 - ETA: 23s - loss: 0.2565 - acc: 0.90 - ETA: 23s - loss: 0.2575 - acc: 0.90 - ETA: 22s - loss: 0.2576 - acc: 0.90 - ETA: 22s - loss: 0.2573 - acc: 0.90 - ETA: 22s - loss: 0.2573 - acc: 0.90 - ETA: 21s - loss: 0.2573 - acc: 0.90 - ETA: 21s - loss: 0.2573 - acc: 0.90 - ETA: 21s - loss: 0.2572 - acc: 0.90 - ETA: 20s - loss: 0.2570 - acc: 0.90 - ETA: 20s - loss: 0.2570 - acc: 0.90 - ETA: 19s - loss: 0.2568 - acc: 0.90 - ETA: 19s - loss: 0.2571 - acc: 0.90 - ETA: 19s - loss: 0.2569 - acc: 0.90 - ETA: 18s - loss: 0.2571 - acc: 0.90 - ETA: 18s - loss: 0.2568 - acc: 0.90 - ETA: 18s - loss: 0.2570 - acc: 0.90 - ETA: 17s - loss: 0.2576 - acc: 0.90 - ETA: 17s - loss: 0.2576 - acc: 0.90 - ETA: 16s - loss: 0.2573 - acc: 0.90 - ETA: 16s - loss: 0.2574 - acc: 0.90 - ETA: 16s - loss: 0.2573 - acc: 0.90 - ETA: 15s - loss: 0.2570 - acc: 0.90 - ETA: 15s - loss: 0.2564 - acc: 0.90 - ETA: 15s - loss: 0.2566 - acc: 0.90 - ETA: 14s - loss: 0.2564 - acc: 0.90 - ETA: 14s - loss: 0.2564 - acc: 0.90 - ETA: 13s - loss: 0.2568 - acc: 0.90 - ETA: 13s - loss: 0.2567 - acc: 0.90 - ETA: 13s - loss: 0.2564 - acc: 0.90 - ETA: 12s - loss: 0.2564 - acc: 0.90 - ETA: 12s - loss: 0.2561 - acc: 0.90 - ETA: 11s - loss: 0.2561 - acc: 0.90 - ETA: 11s - loss: 0.2564 - acc: 0.90 - ETA: 11s - loss: 0.2563 - acc: 0.90 - ETA: 10s - loss: 0.2563 - acc: 0.90 - ETA: 10s - loss: 0.2561 - acc: 0.90 - ETA: 10s - loss: 0.2560 - acc: 0.90 - ETA: 9s - loss: 0.2561 - acc: 0.9038 - ETA: 9s - loss: 0.2557 - acc: 0.903 - ETA: 8s - loss: 0.2556 - acc: 0.903 - ETA: 8s - loss: 0.2557 - acc: 0.903 - ETA: 8s - loss: 0.2554 - acc: 0.903 - ETA: 7s - loss: 0.2551 - acc: 0.904 - ETA: 7s - loss: 0.2547 - acc: 0.904 - ETA: 6s - loss: 0.2543 - acc: 0.904 - ETA: 6s - loss: 0.2541 - acc: 0.904 - ETA: 6s - loss: 0.2545 - acc: 0.904 - ETA: 5s - loss: 0.2544 - acc: 0.904 - ETA: 5s - loss: 0.2544 - acc: 0.904 - ETA: 5s - loss: 0.2551 - acc: 0.904 - ETA: 4s - loss: 0.2550 - acc: 0.904 - ETA: 4s - loss: 0.2548 - acc: 0.904 - ETA: 3s - loss: 0.2548 - acc: 0.904 - ETA: 3s - loss: 0.2547 - acc: 0.904 - ETA: 3s - loss: 0.2546 - acc: 0.904 - ETA: 2s - loss: 0.2544 - acc: 0.904 - ETA: 2s - loss: 0.2545 - acc: 0.904 - ETA: 1s - loss: 0.2552 - acc: 0.904 - ETA: 1s - loss: 0.2554 - acc: 0.904 - ETA: 1s - loss: 0.2554 - acc: 0.904 - ETA: 0s - loss: 0.2558 - acc: 0.903 - ETA: 0s - loss: 0.2557 - acc: 0.903 - 83s 408ms/step - loss: 0.2559 - acc: 0.9038 - val_loss: 0.2951 - val_acc: 0.8637\n",
      "\n",
      "Epoch 00012: val_acc did not improve from 0.88077\n",
      "Epoch 13/20\n",
      "203/203 [==============================] - ETA: 45s - loss: 0.2949 - acc: 0.89 - ETA: 45s - loss: 0.2525 - acc: 0.90 - ETA: 45s - loss: 0.2494 - acc: 0.90 - ETA: 45s - loss: 0.2471 - acc: 0.90 - ETA: 45s - loss: 0.2513 - acc: 0.90 - ETA: 45s - loss: 0.2535 - acc: 0.90 - ETA: 44s - loss: 0.2482 - acc: 0.90 - ETA: 44s - loss: 0.2481 - acc: 0.90 - ETA: 44s - loss: 0.2513 - acc: 0.90 - ETA: 44s - loss: 0.2518 - acc: 0.90 - ETA: 43s - loss: 0.2555 - acc: 0.90 - ETA: 41s - loss: 0.2933 - acc: 0.89 - ETA: 41s - loss: 0.2888 - acc: 0.89 - ETA: 41s - loss: 0.2867 - acc: 0.89 - ETA: 41s - loss: 0.2825 - acc: 0.89 - ETA: 41s - loss: 0.2814 - acc: 0.89 - ETA: 40s - loss: 0.2823 - acc: 0.89 - ETA: 40s - loss: 0.2871 - acc: 0.89 - ETA: 40s - loss: 0.2852 - acc: 0.89 - ETA: 41s - loss: 0.2832 - acc: 0.89 - ETA: 42s - loss: 0.2834 - acc: 0.89 - ETA: 43s - loss: 0.2805 - acc: 0.89 - ETA: 44s - loss: 0.2779 - acc: 0.89 - ETA: 45s - loss: 0.2769 - acc: 0.89 - ETA: 46s - loss: 0.2750 - acc: 0.89 - ETA: 47s - loss: 0.2742 - acc: 0.89 - ETA: 47s - loss: 0.2739 - acc: 0.89 - ETA: 48s - loss: 0.2727 - acc: 0.89 - ETA: 49s - loss: 0.2723 - acc: 0.89 - ETA: 49s - loss: 0.2728 - acc: 0.89 - ETA: 49s - loss: 0.2708 - acc: 0.89 - ETA: 50s - loss: 0.2715 - acc: 0.89 - ETA: 50s - loss: 0.2724 - acc: 0.89 - ETA: 50s - loss: 0.2711 - acc: 0.89 - ETA: 50s - loss: 0.2701 - acc: 0.89 - ETA: 51s - loss: 0.2683 - acc: 0.89 - ETA: 51s - loss: 0.2676 - acc: 0.89 - ETA: 51s - loss: 0.2681 - acc: 0.89 - ETA: 51s - loss: 0.2676 - acc: 0.89 - ETA: 51s - loss: 0.2676 - acc: 0.89 - ETA: 51s - loss: 0.2663 - acc: 0.89 - ETA: 51s - loss: 0.2653 - acc: 0.89 - ETA: 51s - loss: 0.2651 - acc: 0.90 - ETA: 51s - loss: 0.2666 - acc: 0.89 - ETA: 51s - loss: 0.2659 - acc: 0.89 - ETA: 51s - loss: 0.2666 - acc: 0.89 - ETA: 51s - loss: 0.2665 - acc: 0.89 - ETA: 51s - loss: 0.2662 - acc: 0.89 - ETA: 51s - loss: 0.2653 - acc: 0.90 - ETA: 51s - loss: 0.2690 - acc: 0.89 - ETA: 51s - loss: 0.2684 - acc: 0.89 - ETA: 50s - loss: 0.2677 - acc: 0.89 - ETA: 50s - loss: 0.2679 - acc: 0.89 - ETA: 50s - loss: 0.2678 - acc: 0.89 - ETA: 50s - loss: 0.2687 - acc: 0.89 - ETA: 50s - loss: 0.2691 - acc: 0.89 - ETA: 50s - loss: 0.2689 - acc: 0.89 - ETA: 49s - loss: 0.2678 - acc: 0.89 - ETA: 49s - loss: 0.2675 - acc: 0.89 - ETA: 49s - loss: 0.2671 - acc: 0.89 - ETA: 49s - loss: 0.2675 - acc: 0.89 - ETA: 49s - loss: 0.2667 - acc: 0.89 - ETA: 48s - loss: 0.2652 - acc: 0.90 - ETA: 48s - loss: 0.2651 - acc: 0.90 - ETA: 48s - loss: 0.2650 - acc: 0.90 - ETA: 48s - loss: 0.2644 - acc: 0.90 - ETA: 47s - loss: 0.2638 - acc: 0.90 - ETA: 47s - loss: 0.2628 - acc: 0.90 - ETA: 47s - loss: 0.2625 - acc: 0.90 - ETA: 47s - loss: 0.2626 - acc: 0.90 - ETA: 46s - loss: 0.2618 - acc: 0.90 - ETA: 46s - loss: 0.2624 - acc: 0.90 - ETA: 46s - loss: 0.2616 - acc: 0.90 - ETA: 46s - loss: 0.2608 - acc: 0.90 - ETA: 45s - loss: 0.2614 - acc: 0.90 - ETA: 45s - loss: 0.2616 - acc: 0.90 - ETA: 45s - loss: 0.2610 - acc: 0.90 - ETA: 44s - loss: 0.2605 - acc: 0.90 - ETA: 44s - loss: 0.2605 - acc: 0.90 - ETA: 44s - loss: 0.2604 - acc: 0.90 - ETA: 44s - loss: 0.2606 - acc: 0.90 - ETA: 43s - loss: 0.2605 - acc: 0.90 - ETA: 43s - loss: 0.2599 - acc: 0.90 - ETA: 43s - loss: 0.2592 - acc: 0.90 - ETA: 42s - loss: 0.2588 - acc: 0.90 - ETA: 42s - loss: 0.2581 - acc: 0.90 - ETA: 42s - loss: 0.2583 - acc: 0.90 - ETA: 41s - loss: 0.2581 - acc: 0.90 - ETA: 41s - loss: 0.2582 - acc: 0.90 - ETA: 41s - loss: 0.2577 - acc: 0.90 - ETA: 41s - loss: 0.2577 - acc: 0.90 - ETA: 40s - loss: 0.2585 - acc: 0.90 - ETA: 40s - loss: 0.2581 - acc: 0.90 - ETA: 40s - loss: 0.2588 - acc: 0.90 - ETA: 39s - loss: 0.2588 - acc: 0.90 - ETA: 39s - loss: 0.2595 - acc: 0.90 - ETA: 39s - loss: 0.2594 - acc: 0.90 - ETA: 38s - loss: 0.2593 - acc: 0.90 - ETA: 38s - loss: 0.2591 - acc: 0.90 - ETA: 38s - loss: 0.2589 - acc: 0.90 - ETA: 37s - loss: 0.2588 - acc: 0.90 - ETA: 37s - loss: 0.2580 - acc: 0.90 - ETA: 37s - loss: 0.2576 - acc: 0.90 - ETA: 36s - loss: 0.2571 - acc: 0.90 - ETA: 36s - loss: 0.2566 - acc: 0.90 - ETA: 36s - loss: 0.2562 - acc: 0.90 - ETA: 35s - loss: 0.2566 - acc: 0.90 - ETA: 35s - loss: 0.2566 - acc: 0.90 - ETA: 35s - loss: 0.2570 - acc: 0.90 - ETA: 34s - loss: 0.2567 - acc: 0.90 - ETA: 34s - loss: 0.2571 - acc: 0.90 - ETA: 34s - loss: 0.2575 - acc: 0.90 - ETA: 33s - loss: 0.2572 - acc: 0.90 - ETA: 33s - loss: 0.2576 - acc: 0.90 - ETA: 33s - loss: 0.2576 - acc: 0.90 - ETA: 32s - loss: 0.2572 - acc: 0.90 - ETA: 32s - loss: 0.2573 - acc: 0.90 - ETA: 31s - loss: 0.2567 - acc: 0.90 - ETA: 31s - loss: 0.2568 - acc: 0.90 - ETA: 31s - loss: 0.2566 - acc: 0.90 - ETA: 30s - loss: 0.2564 - acc: 0.90 - ETA: 30s - loss: 0.2562 - acc: 0.90 - ETA: 30s - loss: 0.2568 - acc: 0.90 - ETA: 29s - loss: 0.2567 - acc: 0.90 - ETA: 29s - loss: 0.2563 - acc: 0.90 - ETA: 29s - loss: 0.2558 - acc: 0.90 - ETA: 28s - loss: 0.2554 - acc: 0.90 - ETA: 28s - loss: 0.2551 - acc: 0.90 - ETA: 28s - loss: 0.2551 - acc: 0.90 - ETA: 27s - loss: 0.2551 - acc: 0.90 - ETA: 27s - loss: 0.2549 - acc: 0.90 - ETA: 26s - loss: 0.2551 - acc: 0.90 - ETA: 26s - loss: 0.2551 - acc: 0.90 - ETA: 26s - loss: 0.2551 - acc: 0.90 - ETA: 25s - loss: 0.2557 - acc: 0.90 - ETA: 25s - loss: 0.2558 - acc: 0.90 - ETA: 25s - loss: 0.2554 - acc: 0.90 - ETA: 24s - loss: 0.2559 - acc: 0.90 - ETA: 24s - loss: 0.2554 - acc: 0.90 - ETA: 24s - loss: 0.2562 - acc: 0.90 - ETA: 23s - loss: 0.2565 - acc: 0.90 - ETA: 23s - loss: 0.2567 - acc: 0.90 - ETA: 22s - loss: 0.2566 - acc: 0.90 - ETA: 22s - loss: 0.2567 - acc: 0.90 - ETA: 22s - loss: 0.2565 - acc: 0.90 - ETA: 21s - loss: 0.2566 - acc: 0.90 - ETA: 21s - loss: 0.2564 - acc: 0.90 - ETA: 21s - loss: 0.2564 - acc: 0.90 - ETA: 20s - loss: 0.2567 - acc: 0.90 - ETA: 20s - loss: 0.2567 - acc: 0.90 - ETA: 19s - loss: 0.2571 - acc: 0.90 - ETA: 19s - loss: 0.2568 - acc: 0.90 - ETA: 19s - loss: 0.2566 - acc: 0.90 - ETA: 18s - loss: 0.2568 - acc: 0.90 - ETA: 18s - loss: 0.2567 - acc: 0.90 - ETA: 18s - loss: 0.2565 - acc: 0.90 - ETA: 17s - loss: 0.2566 - acc: 0.90 - ETA: 17s - loss: 0.2565 - acc: 0.90 - ETA: 16s - loss: 0.2565 - acc: 0.90 - ETA: 16s - loss: 0.2566 - acc: 0.90 - ETA: 16s - loss: 0.2562 - acc: 0.90 - ETA: 15s - loss: 0.2557 - acc: 0.90 - ETA: 15s - loss: 0.2560 - acc: 0.90 - ETA: 15s - loss: 0.2556 - acc: 0.90 - ETA: 14s - loss: 0.2555 - acc: 0.90 - ETA: 14s - loss: 0.2559 - acc: 0.90 - ETA: 13s - loss: 0.2556 - acc: 0.90 - ETA: 13s - loss: 0.2558 - acc: 0.90 - ETA: 13s - loss: 0.2563 - acc: 0.90 - ETA: 12s - loss: 0.2565 - acc: 0.90 - ETA: 12s - loss: 0.2561 - acc: 0.90 - ETA: 12s - loss: 0.2560 - acc: 0.90 - ETA: 11s - loss: 0.2567 - acc: 0.90 - ETA: 11s - loss: 0.2569 - acc: 0.90 - ETA: 10s - loss: 0.2572 - acc: 0.90 - ETA: 10s - loss: 0.2572 - acc: 0.90 - ETA: 10s - loss: 0.2574 - acc: 0.90 - ETA: 9s - loss: 0.2573 - acc: 0.9025 - ETA: 9s - loss: 0.2573 - acc: 0.902 - ETA: 8s - loss: 0.2576 - acc: 0.902 - ETA: 8s - loss: 0.2575 - acc: 0.902 - ETA: 8s - loss: 0.2573 - acc: 0.902 - ETA: 7s - loss: 0.2577 - acc: 0.902 - ETA: 7s - loss: 0.2578 - acc: 0.902 - ETA: 6s - loss: 0.2576 - acc: 0.902 - ETA: 6s - loss: 0.2579 - acc: 0.902 - ETA: 6s - loss: 0.2578 - acc: 0.902 - ETA: 5s - loss: 0.2578 - acc: 0.902 - ETA: 5s - loss: 0.2575 - acc: 0.902 - ETA: 5s - loss: 0.2578 - acc: 0.902 - ETA: 4s - loss: 0.2577 - acc: 0.902 - ETA: 4s - loss: 0.2576 - acc: 0.902 - ETA: 3s - loss: 0.2575 - acc: 0.902 - ETA: 3s - loss: 0.2575 - acc: 0.902 - ETA: 3s - loss: 0.2572 - acc: 0.902 - ETA: 2s - loss: 0.2572 - acc: 0.902 - ETA: 2s - loss: 0.2568 - acc: 0.902 - ETA: 1s - loss: 0.2566 - acc: 0.903 - ETA: 1s - loss: 0.2568 - acc: 0.902 - ETA: 1s - loss: 0.2572 - acc: 0.902 - ETA: 0s - loss: 0.2574 - acc: 0.902 - ETA: 0s - loss: 0.2574 - acc: 0.902 - 83s 409ms/step - loss: 0.2576 - acc: 0.9024 - val_loss: 0.3435 - val_acc: 0.8795\n",
      "\n",
      "Epoch 00013: val_acc did not improve from 0.88077\n",
      "Epoch 14/20\n"
     ]
    },
    {
     "name": "stdout",
     "output_type": "stream",
     "text": [
      "203/203 [==============================] - ETA: 46s - loss: 0.2477 - acc: 0.90 - ETA: 46s - loss: 0.2336 - acc: 0.90 - ETA: 46s - loss: 0.2403 - acc: 0.90 - ETA: 45s - loss: 0.2328 - acc: 0.90 - ETA: 45s - loss: 0.2343 - acc: 0.90 - ETA: 45s - loss: 0.2470 - acc: 0.90 - ETA: 44s - loss: 0.2453 - acc: 0.90 - ETA: 44s - loss: 0.2464 - acc: 0.90 - ETA: 44s - loss: 0.2490 - acc: 0.90 - ETA: 44s - loss: 0.2510 - acc: 0.90 - ETA: 43s - loss: 0.2503 - acc: 0.90 - ETA: 43s - loss: 0.2495 - acc: 0.90 - ETA: 41s - loss: 0.2421 - acc: 0.91 - ETA: 41s - loss: 0.2463 - acc: 0.91 - ETA: 41s - loss: 0.2452 - acc: 0.91 - ETA: 41s - loss: 0.2541 - acc: 0.90 - ETA: 41s - loss: 0.2539 - acc: 0.90 - ETA: 40s - loss: 0.2549 - acc: 0.90 - ETA: 40s - loss: 0.2544 - acc: 0.90 - ETA: 41s - loss: 0.2523 - acc: 0.90 - ETA: 43s - loss: 0.2539 - acc: 0.90 - ETA: 44s - loss: 0.2521 - acc: 0.90 - ETA: 45s - loss: 0.2516 - acc: 0.90 - ETA: 46s - loss: 0.2487 - acc: 0.90 - ETA: 47s - loss: 0.2478 - acc: 0.90 - ETA: 47s - loss: 0.2481 - acc: 0.90 - ETA: 48s - loss: 0.2458 - acc: 0.91 - ETA: 48s - loss: 0.2455 - acc: 0.91 - ETA: 49s - loss: 0.2432 - acc: 0.91 - ETA: 49s - loss: 0.2439 - acc: 0.91 - ETA: 50s - loss: 0.2422 - acc: 0.91 - ETA: 50s - loss: 0.2453 - acc: 0.91 - ETA: 50s - loss: 0.2451 - acc: 0.91 - ETA: 51s - loss: 0.2461 - acc: 0.91 - ETA: 51s - loss: 0.2480 - acc: 0.90 - ETA: 51s - loss: 0.2480 - acc: 0.90 - ETA: 51s - loss: 0.2480 - acc: 0.90 - ETA: 51s - loss: 0.2473 - acc: 0.90 - ETA: 51s - loss: 0.2471 - acc: 0.90 - ETA: 51s - loss: 0.2465 - acc: 0.90 - ETA: 51s - loss: 0.2458 - acc: 0.91 - ETA: 51s - loss: 0.2453 - acc: 0.91 - ETA: 51s - loss: 0.2465 - acc: 0.90 - ETA: 51s - loss: 0.2473 - acc: 0.90 - ETA: 51s - loss: 0.2470 - acc: 0.90 - ETA: 51s - loss: 0.2463 - acc: 0.90 - ETA: 51s - loss: 0.2450 - acc: 0.91 - ETA: 51s - loss: 0.2446 - acc: 0.91 - ETA: 51s - loss: 0.2441 - acc: 0.91 - ETA: 51s - loss: 0.2435 - acc: 0.91 - ETA: 51s - loss: 0.2445 - acc: 0.91 - ETA: 51s - loss: 0.2448 - acc: 0.90 - ETA: 50s - loss: 0.2444 - acc: 0.91 - ETA: 50s - loss: 0.2446 - acc: 0.91 - ETA: 50s - loss: 0.2455 - acc: 0.90 - ETA: 50s - loss: 0.2459 - acc: 0.90 - ETA: 50s - loss: 0.2450 - acc: 0.90 - ETA: 50s - loss: 0.2442 - acc: 0.90 - ETA: 49s - loss: 0.2433 - acc: 0.90 - ETA: 49s - loss: 0.2438 - acc: 0.90 - ETA: 49s - loss: 0.2427 - acc: 0.91 - ETA: 49s - loss: 0.2420 - acc: 0.91 - ETA: 49s - loss: 0.2448 - acc: 0.90 - ETA: 48s - loss: 0.2447 - acc: 0.90 - ETA: 48s - loss: 0.2445 - acc: 0.90 - ETA: 48s - loss: 0.2450 - acc: 0.90 - ETA: 48s - loss: 0.2451 - acc: 0.90 - ETA: 47s - loss: 0.2451 - acc: 0.90 - ETA: 47s - loss: 0.2462 - acc: 0.90 - ETA: 47s - loss: 0.2466 - acc: 0.90 - ETA: 47s - loss: 0.2476 - acc: 0.90 - ETA: 46s - loss: 0.2472 - acc: 0.90 - ETA: 46s - loss: 0.2470 - acc: 0.90 - ETA: 46s - loss: 0.2462 - acc: 0.90 - ETA: 46s - loss: 0.2461 - acc: 0.90 - ETA: 45s - loss: 0.2469 - acc: 0.90 - ETA: 45s - loss: 0.2471 - acc: 0.90 - ETA: 45s - loss: 0.2470 - acc: 0.90 - ETA: 44s - loss: 0.2474 - acc: 0.90 - ETA: 44s - loss: 0.2476 - acc: 0.90 - ETA: 44s - loss: 0.2479 - acc: 0.90 - ETA: 43s - loss: 0.2486 - acc: 0.90 - ETA: 43s - loss: 0.2487 - acc: 0.90 - ETA: 43s - loss: 0.2487 - acc: 0.90 - ETA: 43s - loss: 0.2484 - acc: 0.90 - ETA: 42s - loss: 0.2477 - acc: 0.90 - ETA: 42s - loss: 0.2478 - acc: 0.90 - ETA: 42s - loss: 0.2477 - acc: 0.90 - ETA: 41s - loss: 0.2473 - acc: 0.90 - ETA: 41s - loss: 0.2474 - acc: 0.90 - ETA: 41s - loss: 0.2468 - acc: 0.90 - ETA: 40s - loss: 0.2463 - acc: 0.90 - ETA: 40s - loss: 0.2464 - acc: 0.90 - ETA: 40s - loss: 0.2459 - acc: 0.90 - ETA: 39s - loss: 0.2460 - acc: 0.90 - ETA: 39s - loss: 0.2461 - acc: 0.90 - ETA: 39s - loss: 0.2459 - acc: 0.90 - ETA: 38s - loss: 0.2454 - acc: 0.90 - ETA: 38s - loss: 0.2456 - acc: 0.90 - ETA: 38s - loss: 0.2454 - acc: 0.90 - ETA: 37s - loss: 0.2456 - acc: 0.90 - ETA: 37s - loss: 0.2454 - acc: 0.90 - ETA: 37s - loss: 0.2454 - acc: 0.90 - ETA: 36s - loss: 0.2456 - acc: 0.90 - ETA: 36s - loss: 0.2449 - acc: 0.90 - ETA: 36s - loss: 0.2447 - acc: 0.90 - ETA: 35s - loss: 0.2449 - acc: 0.90 - ETA: 35s - loss: 0.2455 - acc: 0.90 - ETA: 35s - loss: 0.2460 - acc: 0.90 - ETA: 34s - loss: 0.2461 - acc: 0.90 - ETA: 34s - loss: 0.2465 - acc: 0.90 - ETA: 34s - loss: 0.2465 - acc: 0.90 - ETA: 33s - loss: 0.2468 - acc: 0.90 - ETA: 33s - loss: 0.2469 - acc: 0.90 - ETA: 33s - loss: 0.2467 - acc: 0.90 - ETA: 32s - loss: 0.2469 - acc: 0.90 - ETA: 32s - loss: 0.2468 - acc: 0.90 - ETA: 31s - loss: 0.2467 - acc: 0.90 - ETA: 31s - loss: 0.2469 - acc: 0.90 - ETA: 31s - loss: 0.2465 - acc: 0.90 - ETA: 30s - loss: 0.2462 - acc: 0.90 - ETA: 30s - loss: 0.2458 - acc: 0.90 - ETA: 30s - loss: 0.2461 - acc: 0.90 - ETA: 29s - loss: 0.2458 - acc: 0.90 - ETA: 29s - loss: 0.2454 - acc: 0.90 - ETA: 29s - loss: 0.2454 - acc: 0.90 - ETA: 28s - loss: 0.2457 - acc: 0.90 - ETA: 28s - loss: 0.2459 - acc: 0.90 - ETA: 28s - loss: 0.2460 - acc: 0.90 - ETA: 27s - loss: 0.2458 - acc: 0.90 - ETA: 27s - loss: 0.2457 - acc: 0.90 - ETA: 26s - loss: 0.2463 - acc: 0.90 - ETA: 26s - loss: 0.2467 - acc: 0.90 - ETA: 26s - loss: 0.2469 - acc: 0.90 - ETA: 25s - loss: 0.2470 - acc: 0.90 - ETA: 25s - loss: 0.2469 - acc: 0.90 - ETA: 25s - loss: 0.2467 - acc: 0.90 - ETA: 24s - loss: 0.2467 - acc: 0.90 - ETA: 24s - loss: 0.2464 - acc: 0.90 - ETA: 24s - loss: 0.2467 - acc: 0.90 - ETA: 23s - loss: 0.2466 - acc: 0.90 - ETA: 23s - loss: 0.2469 - acc: 0.90 - ETA: 22s - loss: 0.2475 - acc: 0.90 - ETA: 22s - loss: 0.2476 - acc: 0.90 - ETA: 22s - loss: 0.2474 - acc: 0.90 - ETA: 21s - loss: 0.2472 - acc: 0.90 - ETA: 21s - loss: 0.2476 - acc: 0.90 - ETA: 21s - loss: 0.2476 - acc: 0.90 - ETA: 20s - loss: 0.2478 - acc: 0.90 - ETA: 20s - loss: 0.2480 - acc: 0.90 - ETA: 19s - loss: 0.2481 - acc: 0.90 - ETA: 19s - loss: 0.2487 - acc: 0.90 - ETA: 19s - loss: 0.2489 - acc: 0.90 - ETA: 18s - loss: 0.2491 - acc: 0.90 - ETA: 18s - loss: 0.2494 - acc: 0.90 - ETA: 18s - loss: 0.2497 - acc: 0.90 - ETA: 17s - loss: 0.2498 - acc: 0.90 - ETA: 17s - loss: 0.2499 - acc: 0.90 - ETA: 16s - loss: 0.2498 - acc: 0.90 - ETA: 16s - loss: 0.2500 - acc: 0.90 - ETA: 16s - loss: 0.2498 - acc: 0.90 - ETA: 15s - loss: 0.2497 - acc: 0.90 - ETA: 15s - loss: 0.2499 - acc: 0.90 - ETA: 14s - loss: 0.2499 - acc: 0.90 - ETA: 14s - loss: 0.2504 - acc: 0.90 - ETA: 14s - loss: 0.2506 - acc: 0.90 - ETA: 13s - loss: 0.2507 - acc: 0.90 - ETA: 13s - loss: 0.2505 - acc: 0.90 - ETA: 13s - loss: 0.2510 - acc: 0.90 - ETA: 12s - loss: 0.2509 - acc: 0.90 - ETA: 12s - loss: 0.2507 - acc: 0.90 - ETA: 11s - loss: 0.2511 - acc: 0.90 - ETA: 11s - loss: 0.2508 - acc: 0.90 - ETA: 11s - loss: 0.2512 - acc: 0.90 - ETA: 10s - loss: 0.2510 - acc: 0.90 - ETA: 10s - loss: 0.2509 - acc: 0.90 - ETA: 10s - loss: 0.2511 - acc: 0.90 - ETA: 9s - loss: 0.2511 - acc: 0.9056 - ETA: 9s - loss: 0.2512 - acc: 0.905 - ETA: 8s - loss: 0.2512 - acc: 0.905 - ETA: 8s - loss: 0.2510 - acc: 0.905 - ETA: 8s - loss: 0.2510 - acc: 0.905 - ETA: 7s - loss: 0.2509 - acc: 0.905 - ETA: 7s - loss: 0.2508 - acc: 0.905 - ETA: 6s - loss: 0.2511 - acc: 0.905 - ETA: 6s - loss: 0.2511 - acc: 0.905 - ETA: 6s - loss: 0.2508 - acc: 0.905 - ETA: 5s - loss: 0.2506 - acc: 0.905 - ETA: 5s - loss: 0.2505 - acc: 0.905 - ETA: 5s - loss: 0.2503 - acc: 0.905 - ETA: 4s - loss: 0.2504 - acc: 0.905 - ETA: 4s - loss: 0.2504 - acc: 0.905 - ETA: 3s - loss: 0.2504 - acc: 0.905 - ETA: 3s - loss: 0.2505 - acc: 0.905 - ETA: 3s - loss: 0.2503 - acc: 0.905 - ETA: 2s - loss: 0.2509 - acc: 0.905 - ETA: 2s - loss: 0.2511 - acc: 0.905 - ETA: 1s - loss: 0.2511 - acc: 0.905 - ETA: 1s - loss: 0.2508 - acc: 0.905 - ETA: 1s - loss: 0.2511 - acc: 0.905 - ETA: 0s - loss: 0.2509 - acc: 0.905 - ETA: 0s - loss: 0.2514 - acc: 0.905 - 83s 407ms/step - loss: 0.2515 - acc: 0.9054 - val_loss: 0.3207 - val_acc: 0.8882\n",
      "\n",
      "Epoch 00014: val_acc improved from 0.88077 to 0.88821, saving model to task3_keras_1.h5\n",
      "Epoch 15/20\n",
      "203/203 [==============================] - ETA: 45s - loss: 0.2095 - acc: 0.91 - ETA: 45s - loss: 0.2304 - acc: 0.91 - ETA: 45s - loss: 0.2231 - acc: 0.91 - ETA: 45s - loss: 0.2295 - acc: 0.91 - ETA: 45s - loss: 0.2276 - acc: 0.91 - ETA: 44s - loss: 0.2312 - acc: 0.91 - ETA: 44s - loss: 0.2287 - acc: 0.91 - ETA: 44s - loss: 0.2530 - acc: 0.90 - ETA: 44s - loss: 0.2538 - acc: 0.90 - ETA: 43s - loss: 0.2520 - acc: 0.90 - ETA: 43s - loss: 0.2472 - acc: 0.90 - ETA: 43s - loss: 0.2453 - acc: 0.90 - ETA: 43s - loss: 0.2519 - acc: 0.90 - ETA: 41s - loss: 0.2509 - acc: 0.90 - ETA: 41s - loss: 0.2491 - acc: 0.90 - ETA: 41s - loss: 0.2548 - acc: 0.90 - ETA: 40s - loss: 0.2532 - acc: 0.90 - ETA: 40s - loss: 0.2533 - acc: 0.90 - ETA: 40s - loss: 0.2508 - acc: 0.90 - ETA: 40s - loss: 0.2487 - acc: 0.90 - ETA: 40s - loss: 0.2486 - acc: 0.90 - ETA: 41s - loss: 0.2463 - acc: 0.90 - ETA: 43s - loss: 0.2439 - acc: 0.90 - ETA: 44s - loss: 0.2462 - acc: 0.90 - ETA: 44s - loss: 0.2457 - acc: 0.90 - ETA: 45s - loss: 0.2437 - acc: 0.90 - ETA: 46s - loss: 0.2465 - acc: 0.90 - ETA: 47s - loss: 0.2451 - acc: 0.90 - ETA: 47s - loss: 0.2448 - acc: 0.90 - ETA: 48s - loss: 0.2463 - acc: 0.90 - ETA: 48s - loss: 0.2472 - acc: 0.90 - ETA: 48s - loss: 0.2457 - acc: 0.90 - ETA: 49s - loss: 0.2440 - acc: 0.90 - ETA: 49s - loss: 0.2452 - acc: 0.90 - ETA: 49s - loss: 0.2444 - acc: 0.90 - ETA: 50s - loss: 0.2425 - acc: 0.90 - ETA: 50s - loss: 0.2435 - acc: 0.90 - ETA: 50s - loss: 0.2435 - acc: 0.90 - ETA: 50s - loss: 0.2462 - acc: 0.90 - ETA: 50s - loss: 0.2465 - acc: 0.90 - ETA: 50s - loss: 0.2466 - acc: 0.90 - ETA: 50s - loss: 0.2462 - acc: 0.90 - ETA: 50s - loss: 0.2452 - acc: 0.90 - ETA: 50s - loss: 0.2443 - acc: 0.90 - ETA: 50s - loss: 0.2439 - acc: 0.90 - ETA: 50s - loss: 0.2430 - acc: 0.90 - ETA: 50s - loss: 0.2423 - acc: 0.90 - ETA: 50s - loss: 0.2431 - acc: 0.90 - ETA: 50s - loss: 0.2428 - acc: 0.90 - ETA: 50s - loss: 0.2452 - acc: 0.90 - ETA: 50s - loss: 0.2452 - acc: 0.90 - ETA: 50s - loss: 0.2451 - acc: 0.90 - ETA: 50s - loss: 0.2453 - acc: 0.90 - ETA: 50s - loss: 0.2455 - acc: 0.90 - ETA: 50s - loss: 0.2447 - acc: 0.90 - ETA: 50s - loss: 0.2455 - acc: 0.90 - ETA: 50s - loss: 0.2473 - acc: 0.90 - ETA: 49s - loss: 0.2480 - acc: 0.90 - ETA: 49s - loss: 0.2475 - acc: 0.90 - ETA: 49s - loss: 0.2477 - acc: 0.90 - ETA: 49s - loss: 0.2480 - acc: 0.90 - ETA: 49s - loss: 0.2489 - acc: 0.90 - ETA: 48s - loss: 0.2498 - acc: 0.90 - ETA: 48s - loss: 0.2499 - acc: 0.90 - ETA: 48s - loss: 0.2506 - acc: 0.90 - ETA: 48s - loss: 0.2511 - acc: 0.90 - ETA: 47s - loss: 0.2509 - acc: 0.90 - ETA: 47s - loss: 0.2508 - acc: 0.90 - ETA: 47s - loss: 0.2516 - acc: 0.90 - ETA: 47s - loss: 0.2515 - acc: 0.90 - ETA: 46s - loss: 0.2517 - acc: 0.90 - ETA: 46s - loss: 0.2515 - acc: 0.90 - ETA: 46s - loss: 0.2511 - acc: 0.90 - ETA: 46s - loss: 0.2504 - acc: 0.90 - ETA: 45s - loss: 0.2517 - acc: 0.90 - ETA: 45s - loss: 0.2510 - acc: 0.90 - ETA: 45s - loss: 0.2511 - acc: 0.90 - ETA: 45s - loss: 0.2502 - acc: 0.90 - ETA: 44s - loss: 0.2498 - acc: 0.90 - ETA: 44s - loss: 0.2507 - acc: 0.90 - ETA: 44s - loss: 0.2510 - acc: 0.90 - ETA: 43s - loss: 0.2510 - acc: 0.90 - ETA: 43s - loss: 0.2510 - acc: 0.90 - ETA: 43s - loss: 0.2509 - acc: 0.90 - ETA: 42s - loss: 0.2504 - acc: 0.90 - ETA: 42s - loss: 0.2504 - acc: 0.90 - ETA: 42s - loss: 0.2498 - acc: 0.90 - ETA: 42s - loss: 0.2496 - acc: 0.90 - ETA: 41s - loss: 0.2493 - acc: 0.90 - ETA: 41s - loss: 0.2500 - acc: 0.90 - ETA: 41s - loss: 0.2500 - acc: 0.90 - ETA: 40s - loss: 0.2507 - acc: 0.90 - ETA: 40s - loss: 0.2512 - acc: 0.90 - ETA: 40s - loss: 0.2513 - acc: 0.90 - ETA: 39s - loss: 0.2512 - acc: 0.90 - ETA: 39s - loss: 0.2511 - acc: 0.90 - ETA: 39s - loss: 0.2509 - acc: 0.90 - ETA: 38s - loss: 0.2511 - acc: 0.90 - ETA: 38s - loss: 0.2508 - acc: 0.90 - ETA: 38s - loss: 0.2502 - acc: 0.90 - ETA: 37s - loss: 0.2501 - acc: 0.90 - ETA: 37s - loss: 0.2500 - acc: 0.90 - ETA: 37s - loss: 0.2503 - acc: 0.90 - ETA: 36s - loss: 0.2499 - acc: 0.90 - ETA: 36s - loss: 0.2496 - acc: 0.90 - ETA: 36s - loss: 0.2500 - acc: 0.90 - ETA: 35s - loss: 0.2500 - acc: 0.90 - ETA: 35s - loss: 0.2501 - acc: 0.90 - ETA: 35s - loss: 0.2508 - acc: 0.90 - ETA: 34s - loss: 0.2506 - acc: 0.90 - ETA: 34s - loss: 0.2505 - acc: 0.90 - ETA: 34s - loss: 0.2502 - acc: 0.90 - ETA: 33s - loss: 0.2504 - acc: 0.90 - ETA: 33s - loss: 0.2501 - acc: 0.90 - ETA: 33s - loss: 0.2499 - acc: 0.90 - ETA: 32s - loss: 0.2495 - acc: 0.90 - ETA: 32s - loss: 0.2492 - acc: 0.90 - ETA: 32s - loss: 0.2488 - acc: 0.90 - ETA: 31s - loss: 0.2482 - acc: 0.90 - ETA: 31s - loss: 0.2495 - acc: 0.90 - ETA: 30s - loss: 0.2493 - acc: 0.90 - ETA: 30s - loss: 0.2499 - acc: 0.90 - ETA: 30s - loss: 0.2498 - acc: 0.90 - ETA: 29s - loss: 0.2504 - acc: 0.90 - ETA: 29s - loss: 0.2504 - acc: 0.90 - ETA: 29s - loss: 0.2502 - acc: 0.90 - ETA: 28s - loss: 0.2504 - acc: 0.90 - ETA: 28s - loss: 0.2502 - acc: 0.90 - ETA: 28s - loss: 0.2503 - acc: 0.90 - ETA: 27s - loss: 0.2499 - acc: 0.90 - ETA: 27s - loss: 0.2506 - acc: 0.90 - ETA: 26s - loss: 0.2504 - acc: 0.90 - ETA: 26s - loss: 0.2505 - acc: 0.90 - ETA: 26s - loss: 0.2503 - acc: 0.90 - ETA: 25s - loss: 0.2499 - acc: 0.90 - ETA: 25s - loss: 0.2499 - acc: 0.90 - ETA: 25s - loss: 0.2500 - acc: 0.90 - ETA: 24s - loss: 0.2500 - acc: 0.90 - ETA: 24s - loss: 0.2500 - acc: 0.90 - ETA: 24s - loss: 0.2503 - acc: 0.90 - ETA: 23s - loss: 0.2503 - acc: 0.90 - ETA: 23s - loss: 0.2505 - acc: 0.90 - ETA: 22s - loss: 0.2512 - acc: 0.90 - ETA: 22s - loss: 0.2511 - acc: 0.90 - ETA: 22s - loss: 0.2512 - acc: 0.90 - ETA: 21s - loss: 0.2517 - acc: 0.90 - ETA: 21s - loss: 0.2520 - acc: 0.90 - ETA: 21s - loss: 0.2519 - acc: 0.90 - ETA: 20s - loss: 0.2519 - acc: 0.90 - ETA: 20s - loss: 0.2518 - acc: 0.90 - ETA: 19s - loss: 0.2517 - acc: 0.90 - ETA: 19s - loss: 0.2516 - acc: 0.90 - ETA: 19s - loss: 0.2516 - acc: 0.90 - ETA: 18s - loss: 0.2517 - acc: 0.90 - ETA: 18s - loss: 0.2519 - acc: 0.90 - ETA: 18s - loss: 0.2517 - acc: 0.90 - ETA: 17s - loss: 0.2512 - acc: 0.90 - ETA: 17s - loss: 0.2509 - acc: 0.90 - ETA: 16s - loss: 0.2504 - acc: 0.90 - ETA: 16s - loss: 0.2501 - acc: 0.90 - ETA: 16s - loss: 0.2501 - acc: 0.90 - ETA: 15s - loss: 0.2497 - acc: 0.90 - ETA: 15s - loss: 0.2496 - acc: 0.90 - ETA: 15s - loss: 0.2495 - acc: 0.90 - ETA: 14s - loss: 0.2494 - acc: 0.90 - ETA: 14s - loss: 0.2494 - acc: 0.90 - ETA: 13s - loss: 0.2495 - acc: 0.90 - ETA: 13s - loss: 0.2494 - acc: 0.90 - ETA: 13s - loss: 0.2492 - acc: 0.90 - ETA: 12s - loss: 0.2493 - acc: 0.90 - ETA: 12s - loss: 0.2494 - acc: 0.90 - ETA: 11s - loss: 0.2494 - acc: 0.90 - ETA: 11s - loss: 0.2491 - acc: 0.90 - ETA: 11s - loss: 0.2493 - acc: 0.90 - ETA: 10s - loss: 0.2497 - acc: 0.90 - ETA: 10s - loss: 0.2495 - acc: 0.90 - ETA: 10s - loss: 0.2492 - acc: 0.90 - ETA: 9s - loss: 0.2497 - acc: 0.9050 - ETA: 9s - loss: 0.2497 - acc: 0.905 - ETA: 8s - loss: 0.2495 - acc: 0.905 - ETA: 8s - loss: 0.2493 - acc: 0.905 - ETA: 8s - loss: 0.2491 - acc: 0.905 - ETA: 7s - loss: 0.2488 - acc: 0.905 - ETA: 7s - loss: 0.2489 - acc: 0.905 - ETA: 6s - loss: 0.2493 - acc: 0.905 - ETA: 6s - loss: 0.2495 - acc: 0.904 - ETA: 6s - loss: 0.2494 - acc: 0.904 - ETA: 5s - loss: 0.2493 - acc: 0.904 - ETA: 5s - loss: 0.2492 - acc: 0.904 - ETA: 5s - loss: 0.2494 - acc: 0.904 - ETA: 4s - loss: 0.2495 - acc: 0.904 - ETA: 4s - loss: 0.2495 - acc: 0.904 - ETA: 3s - loss: 0.2496 - acc: 0.904 - ETA: 3s - loss: 0.2495 - acc: 0.904 - ETA: 3s - loss: 0.2494 - acc: 0.904 - ETA: 2s - loss: 0.2496 - acc: 0.904 - ETA: 2s - loss: 0.2495 - acc: 0.904 - ETA: 1s - loss: 0.2493 - acc: 0.904 - ETA: 1s - loss: 0.2497 - acc: 0.904 - ETA: 1s - loss: 0.2492 - acc: 0.905 - ETA: 0s - loss: 0.2492 - acc: 0.905 - ETA: 0s - loss: 0.2488 - acc: 0.905 - 83s 408ms/step - loss: 0.2488 - acc: 0.9052 - val_loss: 0.3406 - val_acc: 0.8797\n",
      "\n",
      "Epoch 00015: val_acc did not improve from 0.88821\n",
      "Epoch 00015: early stopping\n"
     ]
    },
    {
     "data": {
      "text/plain": [
       "<keras.callbacks.History at 0x25e00b55fd0>"
      ]
     },
     "execution_count": 22,
     "metadata": {},
     "output_type": "execute_result"
    }
   ],
   "source": [
    "model.fit_generator(generator=train_generator,\n",
    "                    steps_per_epoch=STEP_SIZE_TRAIN,\n",
    "                    validation_data=valid_generator,\n",
    "                    validation_steps=STEP_SIZE_VALID,\n",
    "                    #class_weight=class_weight,\n",
    "                    callbacks=[early_stopping,checkpoint,tensorboard],\n",
    "                    epochs=20\n",
    ")"
   ]
  },
  {
   "cell_type": "code",
   "execution_count": 23,
   "metadata": {},
   "outputs": [
    {
     "data": {
      "application/vnd.jupyter.widget-view+json": {
       "model_id": "b6fd6c4dfe27498e9179e5a319838344",
       "version_major": 2,
       "version_minor": 0
      },
      "text/plain": [
       "HBox(children=(IntProgress(value=0, max=7268), HTML(value='')))"
      ]
     },
     "metadata": {},
     "output_type": "display_data"
    },
    {
     "name": "stdout",
     "output_type": "stream",
     "text": [
      "\n"
     ]
    }
   ],
   "source": [
    "image_ids = next(os.walk('data_task3/image/test_299/'))[2]\n",
    "X_eval = np.zeros((len(image_ids), 299, 299,3), dtype=np.float32)\n",
    "for n, id_ in tqdm(enumerate(image_ids), total=len(image_ids)):\n",
    "    path ='data_task3/image/test_299/'\n",
    "    img = cv2.imread(path + id_)\n",
    "    X_eval[n] = img\n"
   ]
  },
  {
   "cell_type": "code",
   "execution_count": null,
   "metadata": {},
   "outputs": [],
   "source": []
  },
  {
   "cell_type": "code",
   "execution_count": 24,
   "metadata": {},
   "outputs": [
    {
     "name": "stderr",
     "output_type": "stream",
     "text": [
      "C:\\Users\\sahan\\Anaconda3\\lib\\site-packages\\keras\\engine\\saving.py:327: UserWarning: Error in loading the saved optimizer state. As a result, your model is starting with a freshly initialized optimizer.\n",
      "  warnings.warn('Error in loading the saved optimizer '\n"
     ]
    },
    {
     "name": "stdout",
     "output_type": "stream",
     "text": [
      "7268/7268 [==============================] - ETA: 1:19:3 - ETA: 39:55  - ETA: 26:4 - ETA: 20:0 - ETA: 16:0 - ETA: 13:2 - ETA: 11:3 - ETA: 10:1 - ETA: 9:0 - ETA: 8: - ETA: 7: - ETA: 6: - ETA: 6: - ETA: 5: - ETA: 5: - ETA: 5: - ETA: 4: - ETA: 4: - ETA: 4: - ETA: 4: - ETA: 4: - ETA: 3: - ETA: 3: - ETA: 3: - ETA: 3: - ETA: 3: - ETA: 3: - ETA: 3: - ETA: 2: - ETA: 2: - ETA: 2: - ETA: 2: - ETA: 2: - ETA: 2: - ETA: 2: - ETA: 2: - ETA: 2: - ETA: 2: - ETA: 2: - ETA: 2: - ETA: 2: - ETA: 2: - ETA: 2: - ETA: 1: - ETA: 1: - ETA: 1: - ETA: 1: - ETA: 1: - ETA: 1: - ETA: 1: - ETA: 1: - ETA: 1: - ETA: 1: - ETA: 1: - ETA: 1: - ETA: 1: - ETA: 1: - ETA: 1: - ETA: 1: - ETA: 1: - ETA: 1: - ETA: 1: - ETA: 1: - ETA: 1: - ETA: 1: - ETA: 1: - ETA: 1: - ETA: 1: - ETA: 1: - ETA: 1: - ETA: 1: - ETA: 1: - ETA: 1: - ETA: 1: - ETA: 1: - ETA: 1: - ETA: 1: - ETA: 1: - ETA: 1: - ETA: 1: - ETA: 1: - ETA: 1: - ETA: 1: - ETA: 1: - ETA: 59s - ETA: 58 - ETA: 57 - ETA: 56 - ETA: 55 - ETA: 55 - ETA: 54 - ETA: 53 - ETA: 52 - ETA: 52 - ETA: 51 - ETA: 50 - ETA: 50 - ETA: 49 - ETA: 48 - ETA: 48 - ETA: 47 - ETA: 46 - ETA: 46 - ETA: 45 - ETA: 45 - ETA: 44 - ETA: 43 - ETA: 43 - ETA: 42 - ETA: 42 - ETA: 41 - ETA: 41 - ETA: 40 - ETA: 39 - ETA: 39 - ETA: 38 - ETA: 38 - ETA: 37 - ETA: 37 - ETA: 36 - ETA: 36 - ETA: 35 - ETA: 35 - ETA: 34 - ETA: 34 - ETA: 33 - ETA: 33 - ETA: 33 - ETA: 32 - ETA: 32 - ETA: 31 - ETA: 31 - ETA: 30 - ETA: 30 - ETA: 29 - ETA: 29 - ETA: 29 - ETA: 28 - ETA: 28 - ETA: 27 - ETA: 27 - ETA: 26 - ETA: 26 - ETA: 26 - ETA: 25 - ETA: 25 - ETA: 25 - ETA: 24 - ETA: 24 - ETA: 23 - ETA: 23 - ETA: 23 - ETA: 22 - ETA: 22 - ETA: 22 - ETA: 21 - ETA: 21 - ETA: 20 - ETA: 20 - ETA: 20 - ETA: 19 - ETA: 19 - ETA: 19 - ETA: 18 - ETA: 18 - ETA: 18 - ETA: 17 - ETA: 17 - ETA: 17 - ETA: 16 - ETA: 16 - ETA: 16 - ETA: 15 - ETA: 15 - ETA: 15 - ETA: 14 - ETA: 14 - ETA: 14 - ETA: 13 - ETA: 13 - ETA: 13 - ETA: 12 - ETA: 12 - ETA: 12 - ETA: 11 - ETA: 11 - ETA: 11 - ETA: 11 - ETA: 10 - ETA: 10 - ETA: 10 - ETA: 9 - ETA:  - ETA:  - ETA:  - ETA:  - ETA:  - ETA:  - ETA:  - ETA:  - ETA:  - ETA:  - ETA:  - ETA:  - ETA:  - ETA:  - ETA:  - ETA:  - ETA:  - ETA:  - ETA:  - ETA:  - ETA:  - ETA:  - ETA:  - ETA:  - ETA:  - ETA:  - ETA:  - ETA:  - ETA:  - ETA:  - ETA:  - ETA:  - ETA:  - ETA:  - ETA:  - 60s 8ms/step\n"
     ]
    }
   ],
   "source": [
    "Inception_model = load_model('task3_keras_1.h5')\n",
    "preds_inception = Inception_model.predict(X_eval, verbose=1)"
   ]
  },
  {
   "cell_type": "code",
   "execution_count": null,
   "metadata": {},
   "outputs": [],
   "source": []
  },
  {
   "cell_type": "code",
   "execution_count": 25,
   "metadata": {},
   "outputs": [],
   "source": [
    "def get_metrics(predictions,targets):\n",
    "    # Calculate metrics\n",
    "    # Accuarcy\n",
    "    acc = np.mean(np.equal(np.argmax(predictions,1),np.argmax(targets,1)))\n",
    "    # Confusion matrix\n",
    "    conf = confusion_matrix(np.argmax(targets,1),np.argmax(predictions,1))     \n",
    "    # Class weighted accuracy\n",
    "    wacc = conf.diagonal()/conf.sum(axis=1)  \n",
    "    # Auc\n",
    "    fpr = {}\n",
    "    tpr = {}\n",
    "    roc_auc = np.zeros([7])\n",
    "    for i in range(7):\n",
    "        fpr[i], tpr[i], _ = roc_curve(targets[:, i], predictions[:, i])\n",
    "        roc_auc[i] = auc(fpr[i], tpr[i])       \n",
    "    # F1 Score\n",
    "    f1 = f1_score(np.argmax(predictions,1),np.argmax(targets,1),average='weighted')        \n",
    "    # Print\n",
    "    print(\"Accuracy:\",acc)\n",
    "    print(\"F1-Score:\",f1)\n",
    "    print(\"WACC:\",wacc)\n",
    "    print(\"Mean WACC:\",np.mean(wacc))\n",
    "    print(\"AUC:\",roc_auc)\n",
    "    print(\"Mean Auc:\",np.mean(roc_auc))        \n",
    "    return "
   ]
  },
  {
   "cell_type": "code",
   "execution_count": 26,
   "metadata": {},
   "outputs": [
    {
     "data": {
      "text/plain": [
       "(7268, 7)"
      ]
     },
     "execution_count": 26,
     "metadata": {},
     "output_type": "execute_result"
    }
   ],
   "source": [
    "preds_inception.shape"
   ]
  },
  {
   "cell_type": "code",
   "execution_count": 27,
   "metadata": {},
   "outputs": [
    {
     "data": {
      "text/html": [
       "<div>\n",
       "<style scoped>\n",
       "    .dataframe tbody tr th:only-of-type {\n",
       "        vertical-align: middle;\n",
       "    }\n",
       "\n",
       "    .dataframe tbody tr th {\n",
       "        vertical-align: top;\n",
       "    }\n",
       "\n",
       "    .dataframe thead th {\n",
       "        text-align: right;\n",
       "    }\n",
       "</style>\n",
       "<table border=\"1\" class=\"dataframe\">\n",
       "  <thead>\n",
       "    <tr style=\"text-align: right;\">\n",
       "      <th></th>\n",
       "      <th>image</th>\n",
       "      <th>MEL</th>\n",
       "      <th>NV</th>\n",
       "      <th>BCC</th>\n",
       "      <th>AKIEC</th>\n",
       "      <th>BKL</th>\n",
       "      <th>DF</th>\n",
       "      <th>VASC</th>\n",
       "    </tr>\n",
       "  </thead>\n",
       "  <tbody>\n",
       "    <tr>\n",
       "      <th>0</th>\n",
       "      <td>ISIC_0024306.jpg</td>\n",
       "      <td>0.0</td>\n",
       "      <td>1.0</td>\n",
       "      <td>0.0</td>\n",
       "      <td>0.0</td>\n",
       "      <td>0.0</td>\n",
       "      <td>0.0</td>\n",
       "      <td>0.0</td>\n",
       "    </tr>\n",
       "    <tr>\n",
       "      <th>4</th>\n",
       "      <td>ISIC_0024310.jpg</td>\n",
       "      <td>1.0</td>\n",
       "      <td>0.0</td>\n",
       "      <td>0.0</td>\n",
       "      <td>0.0</td>\n",
       "      <td>0.0</td>\n",
       "      <td>0.0</td>\n",
       "      <td>0.0</td>\n",
       "    </tr>\n",
       "    <tr>\n",
       "      <th>6</th>\n",
       "      <td>ISIC_0024312.jpg</td>\n",
       "      <td>0.0</td>\n",
       "      <td>0.0</td>\n",
       "      <td>0.0</td>\n",
       "      <td>0.0</td>\n",
       "      <td>1.0</td>\n",
       "      <td>0.0</td>\n",
       "      <td>0.0</td>\n",
       "    </tr>\n",
       "    <tr>\n",
       "      <th>7</th>\n",
       "      <td>ISIC_0024313.jpg</td>\n",
       "      <td>1.0</td>\n",
       "      <td>0.0</td>\n",
       "      <td>0.0</td>\n",
       "      <td>0.0</td>\n",
       "      <td>0.0</td>\n",
       "      <td>0.0</td>\n",
       "      <td>0.0</td>\n",
       "    </tr>\n",
       "    <tr>\n",
       "      <th>9</th>\n",
       "      <td>ISIC_0024315.jpg</td>\n",
       "      <td>1.0</td>\n",
       "      <td>0.0</td>\n",
       "      <td>0.0</td>\n",
       "      <td>0.0</td>\n",
       "      <td>0.0</td>\n",
       "      <td>0.0</td>\n",
       "      <td>0.0</td>\n",
       "    </tr>\n",
       "  </tbody>\n",
       "</table>\n",
       "</div>"
      ],
      "text/plain": [
       "              image  MEL   NV  BCC  AKIEC  BKL   DF  VASC\n",
       "0  ISIC_0024306.jpg  0.0  1.0  0.0    0.0  0.0  0.0   0.0\n",
       "4  ISIC_0024310.jpg  1.0  0.0  0.0    0.0  0.0  0.0   0.0\n",
       "6  ISIC_0024312.jpg  0.0  0.0  0.0    0.0  1.0  0.0   0.0\n",
       "7  ISIC_0024313.jpg  1.0  0.0  0.0    0.0  0.0  0.0   0.0\n",
       "9  ISIC_0024315.jpg  1.0  0.0  0.0    0.0  0.0  0.0   0.0"
      ]
     },
     "execution_count": 27,
     "metadata": {},
     "output_type": "execute_result"
    }
   ],
   "source": [
    "df.head()"
   ]
  },
  {
   "cell_type": "code",
   "execution_count": 28,
   "metadata": {},
   "outputs": [
    {
     "data": {
      "text/plain": [
       "(7268, 7)"
      ]
     },
     "execution_count": 28,
     "metadata": {},
     "output_type": "execute_result"
    }
   ],
   "source": [
    "\n",
    "targets = df.iloc[:,1:].values\n",
    "targets.shape"
   ]
  },
  {
   "cell_type": "code",
   "execution_count": 29,
   "metadata": {},
   "outputs": [
    {
     "data": {
      "text/plain": [
       "array([1113., 3958.,  514.,  327., 1099.,  115.,  142.])"
      ]
     },
     "execution_count": 29,
     "metadata": {},
     "output_type": "execute_result"
    }
   ],
   "source": [
    "(targets.sum(axis =0))"
   ]
  },
  {
   "cell_type": "code",
   "execution_count": 30,
   "metadata": {},
   "outputs": [
    {
     "data": {
      "text/plain": [
       "mel        18.204052\n",
       "nv       7222.953125\n",
       "bcc         5.822194\n",
       "akiec       3.380983\n",
       "bkl        14.248933\n",
       "df          1.445953\n",
       "VASC        1.946773\n",
       "dtype: float32"
      ]
     },
     "execution_count": 30,
     "metadata": {},
     "output_type": "execute_result"
    }
   ],
   "source": [
    "preds_inception\n",
    "preds = pd.DataFrame({'mel':preds_inception[:,0],'nv':preds_inception[:,1],'bcc':preds_inception[:,2], 'akiec':preds_inception[:,3], 'bkl':preds_inception[:,4], 'df':preds_inception[:,5] ,'VASC':preds_inception[:,6]})\n",
    "preds.sum(axis = 0)"
   ]
  },
  {
   "cell_type": "code",
   "execution_count": 31,
   "metadata": {},
   "outputs": [
    {
     "name": "stderr",
     "output_type": "stream",
     "text": [
      "C:\\Users\\sahan\\Anaconda3\\lib\\site-packages\\sklearn\\metrics\\classification.py:1137: UndefinedMetricWarning: F-score is ill-defined and being set to 0.0 in labels with no true samples.\n",
      "  'recall', 'true', average, warn_for)\n"
     ]
    },
    {
     "name": "stdout",
     "output_type": "stream",
     "text": [
      "Accuracy: 0.5440286186020914\n",
      "F1-Score: 0.7031651573928797\n",
      "WACC: [0.         0.99823143 0.         0.         0.00272975 0.\n",
      " 0.        ]\n",
      "Mean WACC: 0.1429944549053243\n",
      "AUC: [0.67942133 0.52220032 0.47747768 0.47847762 0.63074759 0.39303485\n",
      " 0.49977468]\n",
      "Mean Auc: 0.5258762953364033\n"
     ]
    }
   ],
   "source": [
    "get_metrics(preds_inception, targets)"
   ]
  },
  {
   "cell_type": "code",
   "execution_count": null,
   "metadata": {},
   "outputs": [],
   "source": []
  },
  {
   "cell_type": "code",
   "execution_count": null,
   "metadata": {},
   "outputs": [],
   "source": []
  }
 ],
 "metadata": {
  "kernelspec": {
   "display_name": "Python [default]",
   "language": "python",
   "name": "python3"
  },
  "language_info": {
   "codemirror_mode": {
    "name": "ipython",
    "version": 3
   },
   "file_extension": ".py",
   "mimetype": "text/x-python",
   "name": "python",
   "nbconvert_exporter": "python",
   "pygments_lexer": "ipython3",
   "version": "3.6.6"
  }
 },
 "nbformat": 4,
 "nbformat_minor": 2
}
